{
 "cells": [
  {
   "cell_type": "code",
<<<<<<< HEAD
   "execution_count": 16,
=======
   "execution_count": 3,
>>>>>>> d8fc12c (250806)
   "id": "53fe0940-db3b-42a5-9271-08450af273f9",
   "metadata": {},
   "outputs": [
    {
     "name": "stdout",
     "output_type": "stream",
     "text": [
      "목표 키워드 : 반팔\n",
      "검색 완료. 현재 페이지 URL : https://www.musinsa.com/search/goods?keyword=%EB%B0%98%ED%8C%94&keywordType=keyword&gf=A\n",
      "검색 완료. 현재 페이지 타이틀 : 반팔 | 무신사 추천 브랜드\n"
     ]
    }
   ],
   "source": [
    "from selenium import webdriver\n",
    "from selenium.webdriver.chrome.service import Service\n",
    "from selenium.webdriver.chrome.options import Options\n",
    "from selenium.webdriver.common.by import By\n",
    "from selenium.webdriver.common.keys import Keys # input 코드 안에 특정 키워드를 넣을 때!\n",
    "from webdriver_manager.chrome import ChromeDriverManager\n",
    "import time\n",
    "\n",
    "service = Service(ChromeDriverManager().install())\n",
    "options = Options()\n",
    "# options.add_argument('--headless')\n",
    "# options.add_argument('--disable-gpu')\n",
    "options.add_argument('--disable-dev-shm-usage')\n",
    "options.add_argument('--window-size=1920x1080')\n",
    "options.add_argument('--start-maximized')\n",
    "options.add_argument('--user-agent=Mozilla/5.0 (Windows NT 10.0; Win64; x64) AppleWebKit/537.36 (KHTML, like Gecko) Chrome/138.0.0.0 Safari/537.36')\n",
    "options.add_argument('--lang=ko_KR')\n",
    "\n",
    "driver = webdriver.Chrome(service=service, options=options)\n",
    "\n",
    "url = \"https://www.musinsa.com/main/musinsa/recommend?gf=A\"\n",
    "driver.get(url)\n",
    "\n",
    "time.sleep(3)\n",
    "search_button = driver.find_element(By.CLASS_NAME,\"sc-dzagxs-2\") # \n",
    "# search_button = driver.find_element(By.CSS_SELECTOR,\"button.sc-dzagxs-2\")\n",
    "# search_button = driver.find_element(By.XPATH, \"//button[contains(@class, 'sc-dzagxs-2')]\")\n",
    "search_button.click()\n",
    "time.sleep(2)\n",
    "\n",
    "popular_keywords = driver.find_elements(By.CSS_SELECTOR,\".search-home-popular-wrap .sc-1xzm8bl-1\")\n",
<<<<<<< HEAD
    "target_keyword = popular_keywords[2].text\n",
=======
    "target_keyword = popular_keywords[1].text\n",
>>>>>>> d8fc12c (250806)
    "print(\"목표 키워드 :\", target_keyword)\n",
    "\n",
    "search_input = driver.find_element(By.XPATH, \"//input[contains(@class,'search-home-search-bar-keyword')]\")\n",
    "# search_input = driver.find_element(By.CLASS_NAME,\"search-home-search-bar-keyword\")\n",
    "search_input.clear()\n",
    "search_input.send_keys(target_keyword)\n",
    "time.sleep(1)\n",
    "\n",
    "search_input.send_keys(Keys.RETURN) # 엔터키를 넣어줘 쳐줘!\n",
    "time.sleep(5)\n",
    "\n",
    "print(\"검색 완료. 현재 페이지 URL :\", driver.current_url) #url 값 가져오는 것! driver.current_url\n",
    "print(\"검색 완료. 현재 페이지 타이틀 :\", driver.title) #타이틀 값 가져오는 것! driver.title\n",
    "driver.quit()\n"
   ]
  },
  {
   "cell_type": "code",
<<<<<<< HEAD
   "execution_count": 20,
=======
   "execution_count": 6,
>>>>>>> d8fc12c (250806)
   "id": "4938366a-7bc8-45e3-9ce8-9c8872e181cf",
   "metadata": {},
   "outputs": [
    {
     "name": "stdout",
     "output_type": "stream",
     "text": [
      "목표 키워드 : 반팔\n",
      "검색 완료. 현재 페이지 URL : https://www.musinsa.com/search/goods?keyword=%EB%B0%98%ED%8C%94&keywordType=keyword&gf=A\n",
      "검색 완료. 현재 페이지 타이틀 : 반팔 | 무신사 추천 브랜드\n"
     ]
    },
    {
     "data": {
      "text/html": [
       "<div>\n",
       "<style scoped>\n",
       "    .dataframe tbody tr th:only-of-type {\n",
       "        vertical-align: middle;\n",
       "    }\n",
       "\n",
       "    .dataframe tbody tr th {\n",
       "        vertical-align: top;\n",
       "    }\n",
       "\n",
       "    .dataframe thead th {\n",
       "        text-align: right;\n",
       "    }\n",
       "</style>\n",
       "<table border=\"1\" class=\"dataframe\">\n",
       "  <thead>\n",
       "    <tr style=\"text-align: right;\">\n",
       "      <th></th>\n",
       "      <th>상품명</th>\n",
       "      <th>URL</th>\n",
       "      <th>리뷰수</th>\n",
       "    </tr>\n",
       "  </thead>\n",
       "  <tbody>\n",
       "    <tr>\n",
       "      <th>0</th>\n",
<<<<<<< HEAD
       "      <td>Rowdy Basketball League T-Shirt_Oatmeal</td>\n",
       "      <td>https://www.musinsa.com/products/4147228</td>\n",
       "      <td>724</td>\n",
       "    </tr>\n",
       "    <tr>\n",
       "      <th>1</th>\n",
       "      <td>UNIVERSITY PIGMENT TEE CHARCOAL(MG2CMMT531A)</td>\n",
       "      <td>https://www.musinsa.com/products/2404968</td>\n",
       "      <td>712</td>\n",
       "    </tr>\n",
       "    <tr>\n",
       "      <th>2</th>\n",
       "      <td>원캣 우먼 레귤러 베이직 티셔츠</td>\n",
       "      <td>https://www.musinsa.com/products/3401498</td>\n",
       "      <td>705</td>\n",
       "    </tr>\n",
       "    <tr>\n",
       "      <th>3</th>\n",
       "      <td>[2PACK]돌핀 아치로고 티셔츠 화이트 블랙 2팩</td>\n",
       "      <td>https://www.musinsa.com/products/3060324</td>\n",
       "      <td>585</td>\n",
       "    </tr>\n",
       "    <tr>\n",
       "      <th>4</th>\n",
       "      <td>[쿨탠다드] LV2 액티브 숏 슬리브 (3color)</td>\n",
       "      <td>https://www.musinsa.com/products/3535315</td>\n",
       "      <td>425</td>\n",
=======
       "      <td>머슬핏 피그먼트 티셔츠-차콜-</td>\n",
       "      <td>https://www.musinsa.com/products/5105018</td>\n",
       "      <td>50</td>\n",
       "    </tr>\n",
       "    <tr>\n",
       "      <th>1</th>\n",
       "      <td>[230g] M-Logo 그래픽 반팔 티 (JQ5TSU174WH)</td>\n",
       "      <td>https://www.musinsa.com/products/4821155</td>\n",
       "      <td>49</td>\n",
       "    </tr>\n",
       "    <tr>\n",
       "      <th>2</th>\n",
       "      <td>UFC 소로나 릴렉스핏 반팔 티셔츠 블랙 U2SSW2317BK</td>\n",
       "      <td>https://www.musinsa.com/products/3337310</td>\n",
       "      <td>49</td>\n",
       "    </tr>\n",
       "    <tr>\n",
       "      <th>3</th>\n",
       "      <td>Ruffled Bow Top [White]</td>\n",
       "      <td>https://www.musinsa.com/products/5031199</td>\n",
       "      <td>49</td>\n",
       "    </tr>\n",
       "    <tr>\n",
       "      <th>4</th>\n",
       "      <td>BLACK LOVER ONE SHOULDER T-SHIRTS</td>\n",
       "      <td>https://www.musinsa.com/products/3913277</td>\n",
       "      <td>49</td>\n",
>>>>>>> d8fc12c (250806)
       "    </tr>\n",
       "  </tbody>\n",
       "</table>\n",
       "</div>"
      ],
      "text/plain": [
<<<<<<< HEAD
       "                                            상품명  \\\n",
       "0       Rowdy Basketball League T-Shirt_Oatmeal   \n",
       "1  UNIVERSITY PIGMENT TEE CHARCOAL(MG2CMMT531A)   \n",
       "2                             원캣 우먼 레귤러 베이직 티셔츠   \n",
       "3                  [2PACK]돌핀 아치로고 티셔츠 화이트 블랙 2팩   \n",
       "4                 [쿨탠다드] LV2 액티브 숏 슬리브 (3color)   \n",
       "\n",
       "                                        URL  리뷰수  \n",
       "0  https://www.musinsa.com/products/4147228  724  \n",
       "1  https://www.musinsa.com/products/2404968  712  \n",
       "2  https://www.musinsa.com/products/3401498  705  \n",
       "3  https://www.musinsa.com/products/3060324  585  \n",
       "4  https://www.musinsa.com/products/3535315  425  "
      ]
     },
     "execution_count": 20,
=======
       "                                    상품명  \\\n",
       "0                      머슬핏 피그먼트 티셔츠-차콜-   \n",
       "1  [230g] M-Logo 그래픽 반팔 티 (JQ5TSU174WH)   \n",
       "2    UFC 소로나 릴렉스핏 반팔 티셔츠 블랙 U2SSW2317BK   \n",
       "3               Ruffled Bow Top [White]   \n",
       "4     BLACK LOVER ONE SHOULDER T-SHIRTS   \n",
       "\n",
       "                                        URL  리뷰수  \n",
       "0  https://www.musinsa.com/products/5105018   50  \n",
       "1  https://www.musinsa.com/products/4821155   49  \n",
       "2  https://www.musinsa.com/products/3337310   49  \n",
       "3  https://www.musinsa.com/products/5031199   49  \n",
       "4  https://www.musinsa.com/products/3913277   49  "
      ]
     },
     "execution_count": 6,
>>>>>>> d8fc12c (250806)
     "metadata": {},
     "output_type": "execute_result"
    }
   ],
   "source": [
    "from selenium import webdriver\n",
    "from selenium.webdriver.chrome.service import Service\n",
    "from selenium.webdriver.chrome.options import Options\n",
    "from selenium.webdriver.common.by import By\n",
    "from selenium.webdriver.common.keys import Keys # input 코드 안에 특정 키워드를 넣을 때!\n",
    "from webdriver_manager.chrome import ChromeDriverManager\n",
    "import time\n",
    "import re\n",
    "import pandas as pd\n",
    "\n",
    "service = Service(ChromeDriverManager().install())\n",
    "options = Options()\n",
    "# options.add_argument('--headless')\n",
    "# options.add_argument('--disable-gpu')\n",
    "options.add_argument('--disable-dev-shm-usage')\n",
    "options.add_argument('--window-size=1920x1080')\n",
    "options.add_argument('--start-maximized')\n",
    "options.add_argument('--user-agent=Mozilla/5.0 (Windows NT 10.0; Win64; x64) AppleWebKit/537.36 (KHTML, like Gecko) Chrome/138.0.0.0 Safari/537.36')\n",
    "options.add_argument('--lang=ko_KR')\n",
    "\n",
    "driver = webdriver.Chrome(service=service, options=options)\n",
    "\n",
    "url = \"https://www.musinsa.com/main/musinsa/recommend?gf=A\"\n",
    "driver.get(url)\n",
    "\n",
    "time.sleep(3)\n",
    "search_button = driver.find_element(By.CLASS_NAME,\"sc-dzagxs-2\") # .이나 # 안찍고 이름만!\n",
    "# search_button = driver.find_element(By.CSS_SELECTOR,\"button.sc-dzagxs-2\")\n",
    "# search_button = driver.find_element(By.XPATH, \"//button[contains(@class, 'sc-dzagxs-2')]\")\n",
    "search_button.click()\n",
    "time.sleep(2)\n",
    "\n",
    "popular_keywords = driver.find_elements(By.CSS_SELECTOR,\".search-home-popular-wrap .sc-1xzm8bl-1\")\n",
<<<<<<< HEAD
    "target_keyword = popular_keywords[2].text\n",
=======
    "target_keyword = popular_keywords[1].text\n",
>>>>>>> d8fc12c (250806)
    "print(\"목표 키워드 :\", target_keyword)\n",
    "\n",
    "# search_input = driver.find_element(By.XPATH, \"//input[contains(@class, 'search-home-search-bar-keyword')]\")\n",
    "search_input = driver.find_element(By.CLASS_NAME,\"search-home-search-bar-keyword\")\n",
    "search_input.clear()\n",
    "search_input.send_keys(target_keyword)\n",
    "time.sleep(1)\n",
    "\n",
    "search_input.send_keys(Keys.RETURN) # 엔터키를 넣어줘 쳐줘!\n",
    "time.sleep(5)\n",
    "\n",
    "print(\"검색 완료. 현재 페이지 URL :\", driver.current_url) #url 값 가져오는 것! driver.current_url\n",
    "print(\"검색 완료. 현재 페이지 타이틀 :\", driver.title) #타이틀 값 가져오는 것! driver.title\n",
    "# -------\n",
    "scroll_pauser = 2\n",
    "for _ in range(10):\n",
    "    driver.execute_script(\"window.scrollTo(0,document.body.scrollHeight);\")\n",
    "    time.sleep(scroll_pauser)\n",
    "\n",
    "products = driver.find_elements(By.CSS_SELECTOR,\"div.sc-d36st-1.elXjMR\")[:100]\n",
    "product_data = []\n",
    "\n",
    "for product in products:\n",
    "    try : \n",
    "        name = product.find_element(By.CSS_SELECTOR,\"div.sc-cMuefe.jIlLeV a.gtm-select-item span\").text.strip()\n",
    "        url = product.find_element(By.CSS_SELECTOR,\"div.sc-cMuefe.jIlLeV a.gtm-select-item\").get_attribute(\"href\")\n",
<<<<<<< HEAD
    "        review_info = product.find_elements(By.CSS_SELECTOR,\"span.text-etc_11px_reg.text-yellow.font-pretendard\")[1].text\n",
=======
    "        review_info = product.find_elements(By.CSS_SELECTOR,\"span.text-etc_11px_reg.text-yellow.font-pretendard\")[0].text\n",
>>>>>>> d8fc12c (250806)
    "        review_count = int(re.sub(r\"[^\\d]\",\"\", review_info)) if review_info else 0 \n",
    "        product_data.append({\"상품명\": name, \"URL\": url, \"리뷰수\":review_count})\n",
    "    except :\n",
    "        continue\n",
    "\n",
    "df = pd.DataFrame(product_data)\n",
    "df_top30 = df.sort_values(by=\"리뷰수\", ascending=False).head(30).reset_index(drop=True) # 어센딩을 하지마라 -> 내림차순\n",
    "\n",
    "driver.quit()\n",
    "df_top30.head()"
   ]
  },
  {
   "cell_type": "code",
<<<<<<< HEAD
   "execution_count": 24,
=======
   "execution_count": 9,
>>>>>>> d8fc12c (250806)
   "id": "4f729fb0-4960-4908-8a8a-0a5ec42a57ad",
   "metadata": {},
   "outputs": [
    {
     "name": "stdout",
     "output_type": "stream",
     "text": [
<<<<<<< HEAD
      "1번째 상품리뷰 수집 중 : {'Rowdy Basketball League T-Shirt_Oatmeal'}\n",
      "2번째 상품리뷰 수집 중 : {'UNIVERSITY PIGMENT TEE CHARCOAL(MG2CMMT531A)'}\n",
      "3번째 상품리뷰 수집 중 : {'원캣 우먼 레귤러 베이직 티셔츠'}\n",
      "4번째 상품리뷰 수집 중 : {'[2PACK]돌핀 아치로고 티셔츠 화이트 블랙 2팩'}\n",
      "5번째 상품리뷰 수집 중 : {'[쿨탠다드] LV2 액티브 숏 슬리브 (3color)'}\n",
      "6번째 상품리뷰 수집 중 : {'NM ENGINE T-SHIRT - BLACK'}\n",
      "7번째 상품리뷰 수집 중 : {'AECA SOCIAL BALANCE HALF SLEEVE-WASHED CHARCOAL'}\n",
      "8번째 상품리뷰 수집 중 : {'스탠다드 무지 라운드 반팔 티셔츠 HA-1030 HAR1002 멜란지'}\n",
      "9번째 상품리뷰 수집 중 : {'460G 다트 헤비 머드 다잉 티셔츠-더스키 버건디-'}\n",
      "10번째 상품리뷰 수집 중 : {'빈티지 하트 티셔츠 WHITE-BLUE'}\n",
      "11번째 상품리뷰 수집 중 : {'WAKE UP 쿨 코튼 오버핏 반팔(SISSTD-0053)'}\n",
      "12번째 상품리뷰 수집 중 : {'오버핏 크루넥 나인티스팝 로고 반팔 티셔츠 블랙'}\n",
      "13번째 상품리뷰 수집 중 : {'냥냥냥 티셔츠 [버건디]'}\n",
      "14번째 상품리뷰 수집 중 : {'Identity Addiction T-Shirt - Gray'}\n",
      "15번째 상품리뷰 수집 중 : {'나즈카 링거 티셔츠 [멜란지 그레이]'}\n",
      "16번째 상품리뷰 수집 중 : {'CDC T-Rex Heavyweight Tee Vintage Black'}\n",
      "17번째 상품리뷰 수집 중 : {'MOZZI MEONZI 반팔티 [4컬러]'}\n",
      "18번째 상품리뷰 수집 중 : {'[20수] DTP HEART Drawing 반팔티 화이트'}\n",
      "19번째 상품리뷰 수집 중 : {'[쿨탠다드] 우먼즈 짐 액티브 숏 슬리브 (2color)'}\n",
      "20번째 상품리뷰 수집 중 : {'SWIPE 4 FUTURE TEE (BURGUNDY)'}\n",
      "21번째 상품리뷰 수집 중 : {'ICE LITE 초냉감 세미오버핏 티셔츠'}\n",
      "22번째 상품리뷰 수집 중 : {'스윗피 베리 티-레드'}\n",
      "23번째 상품리뷰 수집 중 : {'Speed Track nylon T-shirt Red'}\n",
      "24번째 상품리뷰 수집 중 : {'IWTL 쿨코튼 티셔츠'}\n",
      "25번째 상품리뷰 수집 중 : {'JELLY&STAR T-SHIRT'}\n",
      "26번째 상품리뷰 수집 중 : {'Peace and love T-shirt heather oatmeal'}\n",
      "27번째 상품리뷰 수집 중 : {'Novichi T-Shirt Burgundy'}\n",
      "28번째 상품리뷰 수집 중 : {'Twink - White 세미크롭'}\n",
      "29번째 상품리뷰 수집 중 : {'[2PACK] 어센틱 아치 로고 티셔츠'}\n",
      "30번째 상품리뷰 수집 중 : {'84 라인 져지 [핑크]'}\n",
=======
      "1번째 상품리뷰 수집 중 : {'머슬핏 피그먼트 티셔츠-차콜-'}\n",
      "2번째 상품리뷰 수집 중 : {'[230g] M-Logo 그래픽 반팔 티 (JQ5TSU174WH)'}\n",
      "3번째 상품리뷰 수집 중 : {'UFC 소로나 릴렉스핏 반팔 티셔츠 블랙 U2SSW2317BK'}\n",
      "4번째 상품리뷰 수집 중 : {'Ruffled Bow Top [White]'}\n",
      "5번째 상품리뷰 수집 중 : {'BLACK LOVER ONE SHOULDER T-SHIRTS'}\n",
      "6번째 상품리뷰 수집 중 : {'STRIPE SS TEE BLUE'}\n",
      "7번째 상품리뷰 수집 중 : {'시크릿 걸 반팔티 크림'}\n",
      "8번째 상품리뷰 수집 중 : {'Sports 96 Lace Crop Top - Charcoal'}\n",
      "9번째 상품리뷰 수집 중 : {'도트 레이스 레터링 티셔츠, 화이트'}\n",
      "10번째 상품리뷰 수집 중 : {'(w) TCM starfish dot patch T (white)'}\n",
      "11번째 상품리뷰 수집 중 : {'IM STRAWBERRY LETTERING TEE(BLACK)'}\n",
      "12번째 상품리뷰 수집 중 : {'로고 밴드 반팔 티셔츠'}\n",
>>>>>>> d8fc12c (250806)
      "엑셀 저장 완료 : musinsa_top30_reviews250805.xlsx\n"
     ]
    }
   ],
   "source": [
    "from openpyxl import Workbook\n",
    "\n",
    "driver = webdriver.Chrome(service=service, options=options)\n",
    "all_reviews = []\n",
    "\n",
    "for idx, row in df_top30.iterrows() : #반복할 때 마다 한 행씩 가져옴\n",
    "    print(f\"{idx+1}번째 상품리뷰 수집 중 :\", {row['상품명']})\n",
    "    driver.get(row['URL'])\n",
    "    time.sleep(2)\n",
    "\n",
    "    try : \n",
    "        review_tab = driver.find_element(By.XPATH,\"//button[@data-button-id='prd_review_tab']\")\n",
    "        review_tab.click()\n",
    "        time.sleep(2)\n",
    "\n",
    "        for _ in range(3) :\n",
    "            driver.execute_script(\"window.scrollTo(0,document.body.scrollHeight);\")\n",
    "            time.sleep(1.5)\n",
    "\n",
    "        review_elements = driver.find_elements(By.CSS_SELECTOR, \".text-body_13px_reg.text-black.font-pretendard\")\n",
    "        for review in review_elements[:10] :\n",
    "            text = review.text.strip()\n",
    "            if text :\n",
    "                all_reviews.append({\n",
    "                    \"상품명\":row[\"상품명\"],\n",
    "                    \"리뷰\":text\n",
    "                })\n",
    "    except Exception as e :\n",
    "        print(\"리뷰 수집 실패: \", e)\n",
    "        continue\n",
    "driver.quit()\n",
    "\n",
    "wb = Workbook()\n",
    "ws =wb.active\n",
    "ws.title = \"무신사 리뷰250805\"\n",
    "\n",
    "ws.append([\"상품명\", \"리뷰\"])\n",
    "\n",
    "for r in all_reviews :\n",
    "    ws.append([r[\"상품명\"], r[\"리뷰\"]])\n",
    "\n",
    "wb.save(\"musinsa_top30_reviews250805.xlsx\")\n",
    "print(\"엑셀 저장 완료 : musinsa_top30_reviews250805.xlsx\")"
   ]
  },
  {
   "cell_type": "code",
   "execution_count": 25,
   "id": "fe77f82d-1c58-4f5d-87da-57da9bc171fb",
   "metadata": {},
   "outputs": [
    {
     "name": "stdout",
     "output_type": "stream",
     "text": [
      "Requirement already satisfied: sqlalchemy in c:\\users\\user\\anaconda3\\lib\\site-packages (2.0.39)\n",
      "Requirement already satisfied: greenlet!=0.4.17 in c:\\users\\user\\anaconda3\\lib\\site-packages (from sqlalchemy) (3.1.1)\n",
      "Requirement already satisfied: typing-extensions>=4.6.0 in c:\\users\\user\\anaconda3\\lib\\site-packages (from sqlalchemy) (4.14.1)\n",
      "Note: you may need to restart the kernel to use updated packages.\n"
     ]
    }
   ],
   "source": [
    "pip install sqlalchemy"
   ]
  },
  {
   "cell_type": "code",
   "execution_count": 29,
   "id": "2427fcfa-de71-4bbe-84b1-3d4267ba4341",
   "metadata": {},
   "outputs": [
    {
     "name": "stdout",
     "output_type": "stream",
     "text": [
      "Collecting pymysql\n",
      "  Downloading PyMySQL-1.1.1-py3-none-any.whl.metadata (4.4 kB)\n",
      "Downloading PyMySQL-1.1.1-py3-none-any.whl (44 kB)\n",
      "Installing collected packages: pymysql\n",
      "Successfully installed pymysql-1.1.1\n",
      "Note: you may need to restart the kernel to use updated packages.\n"
     ]
    }
   ],
   "source": [
    "pip install pymysql"
   ]
  },
  {
   "cell_type": "code",
<<<<<<< HEAD
   "execution_count": 34,
=======
   "execution_count": 12,
>>>>>>> d8fc12c (250806)
   "id": "5c1bfc94-3447-42b5-b989-d597da79fc7d",
   "metadata": {},
   "outputs": [
    {
     "name": "stdout",
     "output_type": "stream",
     "text": [
<<<<<<< HEAD
      "✅데이터가 MySQL [musinsa_db]의 테이블 [reviews]에 성공적으로 저장되었습니다.\n"
=======
      "✅데이터가 MySQL [musinsa_db]의 테이블 [reviews]에 성공적으로 저장되었습니다!!!.\n"
>>>>>>> d8fc12c (250806)
     ]
    }
   ],
   "source": [
    "#mysql 로 보내기\n",
    "import pymysql\n",
    "import pandas as pd\n",
    "from sqlalchemy import create_engine\n",
    "\n",
    "EXCEL_PATH = \"musinsa_top30_reviews250805.xlsx\"\n",
    "DB_NAME = \"musinsa_db\"\n",
    "TABLE_NAME = \"reviews\"\n",
    "USER = \"root\"\n",
    "PASSWORD = \"dPqls0415!\"\n",
    "HOST = \"127.0.0.1\"\n",
    "PORT = 3306\n",
    "\n",
    "df = pd.read_excel(EXCEL_PATH)\n",
    "\n",
    "conn = pymysql.connect(host=HOST, user=USER, password=PASSWORD, port=PORT)\n",
    "cursor = conn.cursor()\n",
    "cursor.execute(\n",
    "    f\"CREATE DATABASE IF NOT EXISTS {DB_NAME} CHARACTER SET utf8mb4 COLLATE utf8mb4_unicode_ci;\"\n",
    ")\n",
    "conn.close()\n",
    "\n",
    "engine_str = f\"mysql+pymysql://{USER}:{PASSWORD}@{HOST}:{PORT}/{DB_NAME}?charset=utf8mb4\"\n",
    "engine = create_engine(engine_str)\n",
    "\n",
    "df.to_sql(name=TABLE_NAME, con=engine, if_exists=\"replace\", index=False)\n",
<<<<<<< HEAD
    "print(f\"✅데이터가 MySQL [{DB_NAME}]의 테이블 [{TABLE_NAME}]에 성공적으로 저장되었습니다.\")"
=======
    "print(f\"✅데이터가 MySQL [{DB_NAME}]의 테이블 [{TABLE_NAME}]에 성공적으로 저장되었습니다!!!.\")"
>>>>>>> d8fc12c (250806)
   ]
  },
  {
   "cell_type": "code",
   "execution_count": null,
   "id": "0c36ea2b-1c01-41b7-b42e-4308bd385325",
   "metadata": {},
   "outputs": [],
   "source": []
  }
 ],
 "metadata": {
  "kernelspec": {
   "display_name": "Python [conda env:base] *",
   "language": "python",
   "name": "conda-base-py"
  },
  "language_info": {
   "codemirror_mode": {
    "name": "ipython",
    "version": 3
   },
   "file_extension": ".py",
   "mimetype": "text/x-python",
   "name": "python",
   "nbconvert_exporter": "python",
   "pygments_lexer": "ipython3",
   "version": "3.13.5"
  }
 },
 "nbformat": 4,
 "nbformat_minor": 5
}
