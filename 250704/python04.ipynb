{
 "cells": [
  {
   "cell_type": "markdown",
   "id": "3322a476-f8a1-463f-ab02-4952add8ff3e",
   "metadata": {},
   "source": [
    "- 사용자로부터 어떤 값을 받고, 해당 값을 한화으로 바꿔서 출력되도록 해주세요.\n",
    "- ex) 100 => ghksdbf 1112원 // 111200원으로 출력되도록 해주세요."
   ]
  },
  {
   "cell_type": "code",
   "execution_count": null,
   "id": "144a6813-d342-4781-9d63-606347f5e0c3",
   "metadata": {},
   "outputs": [],
   "source": [
    "# 1. 사용자에게 값을 받는다. -> input(), int() 사용\n",
    "# 2. 사전에 환율을 정의해서 특정 변수에 할당해 놓는다 -> 변수 정의만 하면 됨\n",
    "# 3. 사용자이게 받은 값을 사전에 정의해놓은 환율과 계산한다. -> 연산자만 알면 됨\n",
    "# 4. 사용자의 값과 환율을 계산한 그 결과값을 출력한다. -> print() 사용"
   ]
  },
  {
   "cell_type": "code",
   "execution_count": 21,
   "id": "cd7fe45f-4645-4329-accf-ad0a0d115984",
   "metadata": {},
   "outputs": [
    {
     "name": "stdin",
     "output_type": "stream",
     "text": [
      "금액이 어떻게 되나요? 100\n"
     ]
    },
    {
     "name": "stdout",
     "output_type": "stream",
     "text": [
      "한화 : 111200 원 입니다.\n"
     ]
    }
   ],
   "source": [
    "# 내가한 것\n",
    "cash = int(input(\"금액이 어떻게 되나요?\"))\n",
    "ex = 1112\n",
    "print(f\"한화 :\", cash*ex,f\"원 입니다.\")"
   ]
  },
  {
   "cell_type": "code",
   "execution_count": 22,
   "id": "5c8241b9-30a7-4d75-bc2f-f1099b376b42",
   "metadata": {},
   "outputs": [
    {
     "name": "stdin",
     "output_type": "stream",
     "text": [
      "금액이 어떻게 되나요? 200\n"
     ]
    },
    {
     "name": "stdout",
     "output_type": "stream",
     "text": [
      "200  = 환율 1112원 // 222400 원\n"
     ]
    }
   ],
   "source": [
    "cash = int(input(\"금액이 어떻게 되나요?\"))\n",
    "ex = 1112\n",
    "print(cash,f\" = 환율 1112원 //\", cash*ex, f\"원\")"
   ]
  },
  {
   "cell_type": "code",
   "execution_count": 28,
   "id": "7ed535c0-88fe-4008-9265-53d24c2befee",
   "metadata": {},
   "outputs": [
    {
     "name": "stdin",
     "output_type": "stream",
     "text": [
      "환전하고 싶은 달러를 입력해주세요, ex) 100달러 100\n"
     ]
    },
    {
     "name": "stdout",
     "output_type": "stream",
     "text": [
      "111,200원\n"
     ]
    }
   ],
   "source": [
    "# 쌤이 한것\n",
    "price = input(\"환전하고 싶은 달러를 입력해주세요, ex) 100달러\")\n",
    "exchange = 1112\n",
    "price.replace(\"달러\", \"\")\n",
    "dollar = int(price.replace(\"달러\", \"\"))\n",
    "result = dollar*exchange\n",
    "\n",
    "print(f\"{result:,}원\") #result 가 숫자인 경우에 result:,는 천단위에서 끊기는 숫자...ㅋ 문법이다!"
   ]
  },
  {
   "cell_type": "code",
   "execution_count": 30,
   "id": "c4053bba-53df-4b55-b124-70caee8699e3",
   "metadata": {},
   "outputs": [
    {
     "name": "stdin",
     "output_type": "stream",
     "text": [
      "환전하고 싶은 달러를 입력해주세요, ex) 100달러 100달러\n"
     ]
    },
    {
     "name": "stdout",
     "output_type": "stream",
     "text": [
      "111,200원\n"
     ]
    }
   ],
   "source": [
    "price = input(\"환전하고 싶은 달러를 입력해주세요, ex) 100달러\")\n",
    "exchang = 1112\n",
    "price = price.strip(\"달러\")\n",
    "price = int(price)\n",
    "\n",
    "result = price*exchang\n",
    "print(f\"{result:,}원\")"
   ]
  },
  {
   "cell_type": "markdown",
   "id": "fbe609ad-83d2-46b4-9cb0-e0117ec05ed4",
   "metadata": {},
   "source": [
    "- 달러의 환율을 1112원 설정, 위안화의 환율을 171원 설정, 엔화의 환율을 1010원 설정을 하시되, 해당 화폐당 환율의 값을 딕셔너리라는 자료구조로 정의하시고, 사용자가 달러 혹은 엔화 혹은 위안화 값을 입력했을 때, 해당 값을 한화로 바꿔서 출력될 수 있도록 해주세요.\n",
    "- ex) 100달러 => 111,200원 // 100위안 => 17,100원"
   ]
  },
  {
   "cell_type": "code",
   "execution_count": 38,
   "id": "a3f05c98-fe6b-4a95-a741-4bdd983f1e4d",
   "metadata": {},
   "outputs": [
    {
     "name": "stdin",
     "output_type": "stream",
     "text": [
      "환전하고 싶은 금액 입력! 100달러\n"
     ]
    },
    {
     "name": "stdout",
     "output_type": "stream",
     "text": [
      "111,200원\n"
     ]
    }
   ],
   "source": [
    "#US = 1112\n",
    "#CH = 171\n",
    "#JP = 1010\n",
    "# 1. \n",
    "ex_list = {\"달러\":1112, \"위안\":171, \"엔화\":1010}\n",
    "user_money = input(\"환전하고 싶은 금액 입력!\")\n",
    "#100달러\n",
    "if user_money[-2:] == \"달러\" :\n",
    "    print(f\"{ex_list['달러'] * int(user_money[:-2]):,}원\")\n",
    "elif user_money[-2:] == \"위안\" :\n",
    "    print(f\"{ex_list['위안']*int(user_money[:-2]):,}원\")\n",
    "elif user_money[-2:] == \"엔화\" :\n",
    "    print(f\"{ex_list['엔화']*int(user_money[:-2]):,}원\")\n",
    "else :\n",
    "    print(\"달러, 위안, 엔화 중 하나를 입력해주세요!\")"
   ]
  },
  {
   "cell_type": "code",
   "execution_count": 47,
   "id": "b7006c40-a67b-41cd-a785-45174466d5c8",
   "metadata": {},
   "outputs": [
    {
     "name": "stdout",
     "output_type": "stream",
     "text": [
      "----------\n",
      "- 구구단 2단 -\n",
      "----------\n",
      "2 x 1 = 2\n",
      "2 x 2 = 4\n",
      "2 x 3 = 6\n",
      "2 x 4 = 8\n",
      "2 x 5 = 10\n",
      "2 x 6 = 12\n",
      "2 x 7 = 14\n",
      "2 x 8 = 16\n",
      "2 x 9 = 18\n",
      "\n",
      "\n",
      "----------\n",
      "- 구구단 3단 -\n",
      "----------\n",
      "3 x 1 = 3\n",
      "3 x 2 = 6\n",
      "3 x 3 = 9\n",
      "3 x 4 = 12\n",
      "3 x 5 = 15\n",
      "3 x 6 = 18\n",
      "3 x 7 = 21\n",
      "3 x 8 = 24\n",
      "3 x 9 = 27\n",
      "\n",
      "\n",
      "----------\n",
      "- 구구단 4단 -\n",
      "----------\n",
      "4 x 1 = 4\n",
      "4 x 2 = 8\n",
      "4 x 3 = 12\n",
      "4 x 4 = 16\n",
      "4 x 5 = 20\n",
      "4 x 6 = 24\n",
      "4 x 7 = 28\n",
      "4 x 8 = 32\n",
      "4 x 9 = 36\n",
      "\n",
      "\n",
      "----------\n",
      "- 구구단 5단 -\n",
      "----------\n",
      "5 x 1 = 5\n",
      "5 x 2 = 10\n",
      "5 x 3 = 15\n",
      "5 x 4 = 20\n",
      "5 x 5 = 25\n",
      "5 x 6 = 30\n",
      "5 x 7 = 35\n",
      "5 x 8 = 40\n",
      "5 x 9 = 45\n",
      "\n",
      "\n",
      "----------\n",
      "- 구구단 6단 -\n",
      "----------\n",
      "6 x 1 = 6\n",
      "6 x 2 = 12\n",
      "6 x 3 = 18\n",
      "6 x 4 = 24\n",
      "6 x 5 = 30\n",
      "6 x 6 = 36\n",
      "6 x 7 = 42\n",
      "6 x 8 = 48\n",
      "6 x 9 = 54\n",
      "\n",
      "\n",
      "----------\n",
      "- 구구단 7단 -\n",
      "----------\n",
      "7 x 1 = 7\n",
      "7 x 2 = 14\n",
      "7 x 3 = 21\n",
      "7 x 4 = 28\n",
      "7 x 5 = 35\n",
      "7 x 6 = 42\n",
      "7 x 7 = 49\n",
      "7 x 8 = 56\n",
      "7 x 9 = 63\n",
      "\n",
      "\n",
      "----------\n",
      "- 구구단 8단 -\n",
      "----------\n",
      "8 x 1 = 8\n",
      "8 x 2 = 16\n",
      "8 x 3 = 24\n",
      "8 x 4 = 32\n",
      "8 x 5 = 40\n",
      "8 x 6 = 48\n",
      "8 x 7 = 56\n",
      "8 x 8 = 64\n",
      "8 x 9 = 72\n",
      "\n",
      "\n",
      "----------\n",
      "- 구구단 9단 -\n",
      "----------\n",
      "9 x 1 = 9\n",
      "9 x 2 = 18\n",
      "9 x 3 = 27\n",
      "9 x 4 = 36\n",
      "9 x 5 = 45\n",
      "9 x 6 = 54\n",
      "9 x 7 = 63\n",
      "9 x 8 = 72\n",
      "9 x 9 = 81\n",
      "\n",
      "\n"
     ]
    }
   ],
   "source": [
    "# 2~9단까지 => 1) 숫자 2부터 9까지 반복순회!!!! 2) 피연산자로 1부터 9까지 반복순회!!!\n",
    "\n",
    "for num01 in range(2,10) :\n",
    "    print(\"----------\")\n",
    "    print(f\"- 구구단 {num01}단 -\")\n",
    "    print(\"----------\")\n",
    "    for num02 in range(1,10) :\n",
    "        print(f\"{num01} x {num02} = {num01 *num02}\")\n",
    "    print(\"\\n\")"
   ]
  },
  {
   "cell_type": "markdown",
   "id": "f09839c6-a433-40f9-a99f-d4800bff8b0b",
   "metadata": {},
   "source": [
    "- 위에서 작성한 코드를 활용해서 다음과 같은 결과를 출력해주세요. 구구단 2~9단까지 출력하되, 계산된 결과값이 짝수인 경우만 출력해주세요!!\n",
    "예) 3 x 3 =9 이기 때문에 출력되면 안됨.\n",
    "2 x 4 = 8 이기 때문에 출력되어야 함!!! "
   ]
  },
  {
   "cell_type": "code",
   "execution_count": 60,
   "id": "62e8794b-2979-4860-926a-91c18603d7d6",
   "metadata": {},
   "outputs": [
    {
     "name": "stdout",
     "output_type": "stream",
     "text": [
      "----------\n",
      "- 구구단 2단 -\n",
      "----------\n",
      "2 x 1 = 2\n",
      "2 x 2 = 4\n",
      "2 x 3 = 6\n",
      "2 x 4 = 8\n",
      "2 x 5 = 10\n",
      "2 x 6 = 12\n",
      "2 x 7 = 14\n",
      "2 x 8 = 16\n",
      "2 x 9 = 18\n",
      "\n",
      "\n",
      "----------\n",
      "- 구구단 3단 -\n",
      "----------\n",
      "3 x 2 = 6\n",
      "3 x 4 = 12\n",
      "3 x 6 = 18\n",
      "3 x 8 = 24\n",
      "\n",
      "\n",
      "----------\n",
      "- 구구단 4단 -\n",
      "----------\n",
      "4 x 1 = 4\n",
      "4 x 2 = 8\n",
      "4 x 3 = 12\n",
      "4 x 4 = 16\n",
      "4 x 5 = 20\n",
      "4 x 6 = 24\n",
      "4 x 7 = 28\n",
      "4 x 8 = 32\n",
      "4 x 9 = 36\n",
      "\n",
      "\n",
      "----------\n",
      "- 구구단 5단 -\n",
      "----------\n",
      "5 x 2 = 10\n",
      "5 x 4 = 20\n",
      "5 x 6 = 30\n",
      "5 x 8 = 40\n",
      "\n",
      "\n",
      "----------\n",
      "- 구구단 6단 -\n",
      "----------\n",
      "6 x 1 = 6\n",
      "6 x 2 = 12\n",
      "6 x 3 = 18\n",
      "6 x 4 = 24\n",
      "6 x 5 = 30\n",
      "6 x 6 = 36\n",
      "6 x 7 = 42\n",
      "6 x 8 = 48\n",
      "6 x 9 = 54\n",
      "\n",
      "\n",
      "----------\n",
      "- 구구단 7단 -\n",
      "----------\n",
      "7 x 2 = 14\n",
      "7 x 4 = 28\n",
      "7 x 6 = 42\n",
      "7 x 8 = 56\n",
      "\n",
      "\n",
      "----------\n",
      "- 구구단 8단 -\n",
      "----------\n",
      "8 x 1 = 8\n",
      "8 x 2 = 16\n",
      "8 x 3 = 24\n",
      "8 x 4 = 32\n",
      "8 x 5 = 40\n",
      "8 x 6 = 48\n",
      "8 x 7 = 56\n",
      "8 x 8 = 64\n",
      "8 x 9 = 72\n",
      "\n",
      "\n",
      "----------\n",
      "- 구구단 9단 -\n",
      "----------\n",
      "9 x 2 = 18\n",
      "9 x 4 = 36\n",
      "9 x 6 = 54\n",
      "9 x 8 = 72\n",
      "\n",
      "\n"
     ]
    }
   ],
   "source": [
    "for num01 in range(2,10) :\n",
    "    print(\"----------\")\n",
    "    print(f\"- 구구단 {num01}단 -\")\n",
    "    print(\"----------\")\n",
    "    for num02 in range(1,10) :\n",
    "        if (num01 * num02) % 2 == 0 :\n",
    "            print(f\"{num01} x {num02} = {num01 *num02}\")\n",
    "    print(\"\\n\")"
   ]
  },
  {
   "cell_type": "markdown",
   "id": "0f7269bc-1551-45a7-966c-cec8dd72676c",
   "metadata": {},
   "source": [
    "- dongs = [\"6209동\", \"6208동\", \"6207동\"]\n",
    "- hos = [\"101호\", \"102호\", \"103호\", \"104호\"]\n",
    "\n",
    "```\n",
    "6209동 101호\n",
    "6209동 102호\n",
    "6209동 103호\n",
    "6209동 104호\n",
    "\n",
    "6208동 101호\n",
    "6208동 102호\n",
    "6208동 103호\n",
    "6208동 104호\n",
    "\n",
    "6207동 101호\n",
    "6207동 102호\n",
    "6207동 103호\n",
    "6207동 104호\n",
    "```"
   ]
  },
  {
   "cell_type": "code",
   "execution_count": 70,
   "id": "de90faae-dfbd-4a2f-8648-3f57d687ff98",
   "metadata": {},
   "outputs": [
    {
     "name": "stdout",
     "output_type": "stream",
     "text": [
      "6209동 101호\n",
      "6209동 102호\n",
      "6209동 103호\n",
      "6209동 104호\n",
      "\n",
      "6208동 101호\n",
      "6208동 102호\n",
      "6208동 103호\n",
      "6208동 104호\n",
      "\n",
      "6207동 101호\n",
      "6207동 102호\n",
      "6207동 103호\n",
      "6207동 104호\n",
      "\n"
     ]
    }
   ],
   "source": [
    "dongs = [\"6209동\", \"6208동\", \"6207동\"]\n",
    "hos = [\"101호\", \"102호\", \"103호\", \"104호\"]\n",
    "\n",
    "for dong in dongs :\n",
    "    for ho in hos :\n",
    "        print(dong, ho)\n",
    "    print()"
   ]
  },
  {
   "cell_type": "code",
   "execution_count": 72,
   "id": "e718e3db-b506-4279-b6f1-41eaa64ed63b",
   "metadata": {},
   "outputs": [
    {
     "data": {
      "text/plain": [
       "('coding01', 'coding02', 'coding03', 'coding04')"
      ]
     },
     "execution_count": 72,
     "metadata": {},
     "output_type": "execute_result"
    }
   ],
   "source": [
    "# 튜플은 인자값을 마음대로 빼고 추가 불가, 그래서 리스트 형식으로 바꾸고 .append 추가한뒤 다시 튜플형식으로 만들고 프린트\n",
    "tupledata = (\"coding01\", \"coding02\",\"coding03\")\n",
    "temp_list = list(tupledata)\n",
    "temp_list.append(\"coding04\")\n",
    "result = tuple(temp_list)\n",
    "\n",
    "result"
   ]
  },
  {
   "cell_type": "code",
   "execution_count": 73,
   "id": "f7b98a3e-f7dc-47d3-a746-a4cae25c84ea",
   "metadata": {},
   "outputs": [
    {
     "data": {
      "text/plain": [
       "('coding01', 'coding02', 'coding03', 'coding04')"
      ]
     },
     "execution_count": 73,
     "metadata": {},
     "output_type": "execute_result"
    }
   ],
   "source": [
    "tupledata = (\"coding01\", \"coding02\",\"coding03\")\n",
    "\n",
    "tuple(list(tupledata) + [\"coding04\"])"
   ]
  },
  {
   "cell_type": "markdown",
   "id": "589120d6-1c02-4d1e-8da3-bbd90cc08c3c",
   "metadata": {},
   "source": [
    "- 딕셔너리 형태의 자료구조를 하나 만들어서 아래와 같이 값을 출력해주세요.\n",
    "```\n",
    "environment : 환경\n",
    "company : 회사\n",
    "goverment : 정부\n",
    "face : 얼굴\n",
    "```"
   ]
  },
  {
   "cell_type": "code",
   "execution_count": 95,
   "id": "d2f892ea-f5fd-4a33-93db-51febb6baf66",
   "metadata": {},
   "outputs": [],
   "source": [
    "data = {\n",
    "    \"environment\" : \"환경\",\n",
    "    \"company\" : \"회사\",\n",
    "    \"goverment\" : \"정부\",\n",
    "    \"face\" : \"얼굴\"\n",
    "}"
   ]
  },
  {
   "cell_type": "code",
   "execution_count": 97,
   "id": "441f2a5e-57da-4388-adbc-16c2efc2b61f",
   "metadata": {},
   "outputs": [
    {
     "name": "stdout",
     "output_type": "stream",
     "text": [
      "environment : 환경\n",
      "company : 회사\n",
      "goverment : 정부\n",
      "face : 얼굴\n"
     ]
    }
   ],
   "source": [
    "for item in data.keys() :\n",
    "    print(f\"{item} : {data[item]}\")"
   ]
  },
  {
   "cell_type": "markdown",
   "id": "f88233fc-81ab-44ae-a80b-a5822b21c9f7",
   "metadata": {},
   "source": [
    "- 딕셔너리 형태의 자료구조를 하나 만들어서 아래와 같이 값을 출력해주세요.\n",
    "```\n",
    "    environment : 환경 x\n",
    "    company : 회사 o\n",
    "    goverment : 정부 x\n",
    "    face : 얼굴 x\n",
    "```"
   ]
  },
  {
   "cell_type": "code",
   "execution_count": 98,
   "id": "5129bc3e-2727-4335-8af7-f456e292af97",
   "metadata": {},
   "outputs": [],
   "source": [
    "data = {\n",
    "    \"environment\" : [\"환경\", \"x\"],\n",
    "    \"company\" : [\"회사\", \"o\"],\n",
    "    \"goverment\" : [\"정부\", \"x\"],\n",
    "    \"face\" : [\"얼굴\", \"x\"]\n",
    "}"
   ]
  },
  {
   "cell_type": "code",
   "execution_count": 99,
   "id": "e4ab8ea9-b4f9-4e72-9e5d-58995fb89276",
   "metadata": {},
   "outputs": [
    {
     "name": "stdout",
     "output_type": "stream",
     "text": [
      "environment : ['환경', 'x']\n",
      "company : ['회사', 'o']\n",
      "goverment : ['정부', 'x']\n",
      "face : ['얼굴', 'x']\n"
     ]
    }
   ],
   "source": [
    "for item in data.keys() :\n",
    "    print(f\"{item} : {data[item]}\")"
   ]
  },
  {
   "cell_type": "markdown",
   "id": "bf1b6e08-8471-4169-9054-67a8256aef66",
   "metadata": {},
   "source": [
    "- 사용자로부터 사전에 등록되어 있는 단어들 중 1개를 입력 받으세요. 그러면 입력받은 단어의 경우, \n",
    "외움표시 o 표시로 수정하고 아직 외우지 못한 단어들만 출력하는 프로그램 코드를 작성해주세요!!"
   ]
  },
  {
   "cell_type": "code",
   "execution_count": 100,
   "id": "e5956494-dc7c-4c06-8c1d-a07590e652b9",
   "metadata": {},
   "outputs": [],
   "source": [
    "data = {\n",
    "    \"environment\" : [\"환경\", \"x\"],\n",
    "    \"company\" : [\"회사\", \"o\"],\n",
    "    \"goverment\" : [\"정부\", \"x\"],\n",
    "    \"face\" : [\"얼굴\", \"x\"]\n",
    "}"
   ]
  },
  {
   "cell_type": "code",
   "execution_count": 114,
   "id": "0755825b-ecb6-420f-8c4e-9dcbe2dfe5b0",
   "metadata": {},
   "outputs": [
    {
     "name": "stdin",
     "output_type": "stream",
     "text": [
      "다 외운 단어 입력하기 environment\n"
     ]
    }
   ],
   "source": [
    "english = input(\"다 외운 단어 입력하기\")\n",
    "\n",
    "if english in data.keys() :\n",
    "    data[english][1] = \"o\"\n",
    "else : \n",
    "    print(\"사전에 존재하지 않는 단어입니다!\")\n",
    "for item in data.keys() :\n",
    "    data_list = data[item]\n",
    "    if data_list[1] == \"x\" :\n",
    "        print(item)"
   ]
  },
  {
   "cell_type": "markdown",
   "id": "8fe64d97-1095-4e17-96b0-1ba16f393fa4",
   "metadata": {},
   "source": [
    "- dict_all = {\"environment\":\"환경\", \"goverment\":\"정부\"}\n",
    "- dict2 = {\"company\":\"회사\",\"face\":\"얼굴\"}\n",
    "- dict3 = {\"apple\":\"사과\"}\n",
    "- dict_all 안에 dict2와 dict3 값을 모두 넣어주세요! 그리고 dict_all 값을 출력해주세요."
   ]
  },
  {
   "cell_type": "code",
   "execution_count": 119,
   "id": "a080de81-0314-44fa-b9fa-d1d0a4ef9721",
   "metadata": {},
   "outputs": [
    {
     "data": {
      "text/plain": [
       "{'environment': '환경',\n",
       " 'goverment': '정부',\n",
       " 'company': '회사',\n",
       " 'face': '얼굴',\n",
       " 'apple': '사과'}"
      ]
     },
     "execution_count": 119,
     "metadata": {},
     "output_type": "execute_result"
    }
   ],
   "source": [
    "dict_all = {\"environment\":\"환경\", \"goverment\":\"정부\"}\n",
    "dict2 = {\"company\":\"회사\",\"face\":\"얼굴\"}\n",
    "dict3 = {\"apple\":\"사과\"}\n",
    "\n",
    "for item in dict2.keys() :\n",
    "    dict_all[item] = dict2[item]\n",
    "\n",
    "for item in dict3.keys() :\n",
    "    dict_all[item] = dict3[item]\n",
    "\n",
    "dict_all"
   ]
  },
  {
   "cell_type": "code",
   "execution_count": 126,
   "id": "ef20be07-01cb-4f06-bb9a-6bec76aa7f12",
   "metadata": {},
   "outputs": [
    {
     "data": {
      "text/plain": [
       "{3, 4, 5, 6}"
      ]
     },
     "execution_count": 126,
     "metadata": {},
     "output_type": "execute_result"
    }
   ],
   "source": [
    "number_list = {1, 2, 3}\n",
    "number_list.add(4)\n",
    "number_list.update([5,6])\n",
    "# set이라는 add라는 매서드 함수를 하면 자료 추가 가능하다. 하지만 한개 인자값만 받을 수 있다.\n",
    "# update 이라는 매서드 함수는 여러개를 추가할 수 있지만 리스트 형식이어야 한다 []\n",
    "number_list.remove(2)\n",
    "number_list.remove(1)\n",
    "\n",
    "number_list"
   ]
  },
  {
   "cell_type": "markdown",
   "id": "b5fbe1ad-2c6c-44c2-8d20-b1745a86cd0d",
   "metadata": {},
   "source": [
    "- 임의의 숫자 2개를 사용자에게 받으면 해당 2개의 숫자를 곱한 값을 반환하는 함수를 만들고, 해당 함수의 결과 값을 화면에 출력 해 주세요!"
   ]
  },
  {
   "cell_type": "code",
   "execution_count": 132,
   "id": "5ffff5e8-8b21-4476-be0c-2562efd07079",
   "metadata": {},
   "outputs": [
    {
     "name": "stdin",
     "output_type": "stream",
     "text": [
      "숫자를 입력하세요 2\n",
      "숫자를 한번 더 입력하세요 3\n"
     ]
    },
    {
     "name": "stdout",
     "output_type": "stream",
     "text": [
      "결과 값 : 6\n"
     ]
    }
   ],
   "source": [
    "user1 = int(input(\"숫자를 입력하세요\"))\n",
    "user2 = int(input(\"숫자를 한번 더 입력하세요\"))\n",
    "print(f\"결과 값 :\", user1 * user2)"
   ]
  },
  {
   "cell_type": "code",
   "execution_count": 134,
   "id": "5ef69958-afc3-4d25-8b32-df4678056091",
   "metadata": {},
   "outputs": [
    {
     "name": "stdin",
     "output_type": "stream",
     "text": [
      "첫번째 숫자 2\n",
      "두번째 숫자 3\n"
     ]
    },
    {
     "name": "stdout",
     "output_type": "stream",
     "text": [
      "6\n"
     ]
    }
   ],
   "source": [
    "num1 = int(input(\"첫번째 숫자\"))\n",
    "num2 = int(input(\"두번째 숫자\"))\n",
    "\n",
    "def f1(num1, num2) :\n",
    "    return num1 * num2\n",
    "\n",
    "print(f1(num1, num2))"
   ]
  },
  {
   "cell_type": "code",
   "execution_count": 146,
   "id": "ca891a46-a3d8-423a-bce6-e227ee76c0bd",
   "metadata": {},
   "outputs": [
    {
     "ename": "TypeError",
     "evalue": "'generator' object is not subscriptable",
     "output_type": "error",
     "traceback": [
      "\u001b[1;31m---------------------------------------------------------------------------\u001b[0m",
      "\u001b[1;31mTypeError\u001b[0m                                 Traceback (most recent call last)",
      "Cell \u001b[1;32mIn[146], line 5\u001b[0m\n\u001b[0;32m      3\u001b[0m \u001b[38;5;28;01mdef\u001b[39;00m\u001b[38;5;250m \u001b[39m\u001b[38;5;21mf1\u001b[39m(num1,num2) :\n\u001b[0;32m      4\u001b[0m     \u001b[38;5;28;01mreturn\u001b[39;00m num1 \u001b[38;5;241m*\u001b[39m num2\n\u001b[1;32m----> 5\u001b[0m \u001b[38;5;28mprint\u001b[39m(f1(num_all[\u001b[38;5;241m1\u001b[39m], num_all[\u001b[38;5;241m0\u001b[39m]))\n",
      "\u001b[1;31mTypeError\u001b[0m: 'generator' object is not subscriptable"
     ]
    }
   ],
   "source": [
    "num_all = (int(input(\"숫자를 입력하세요!\")) for _ in range(2))\n",
    "\n",
    "def f1(num1,num2) :\n",
    "    return num1 * num2\n",
    "    \n",
    "print(f1(num_all[1], num_all[0]))"
   ]
  },
  {
   "cell_type": "markdown",
   "id": "24340f61-fefc-4498-971b-9be09e065798",
   "metadata": {},
   "source": [
    "- 인자값 3개를 받을 수 있는 함수를 호출합니다.\n",
    "- func1(인자값1, 인자값2, 인자값3)\n",
    "- 해당 함수의 3번째 인자값 = 인자값3, + => 첫번째 인자값과 두번째 인자값을 더한 결과값을 반환하도록 해주시고, \n",
    "만약 3번째 인자값이 * 라면, 첫번째 인자값과 두번째 인자값을 곱한 결과값을 반환해주세요. 그런데 만약에 3번째 인자값이 +도 아니고, *도 아니라면 무조건 \n",
    "0이라는 값을 반환하도록 하는 함수를 만들어 주세요!"
   ]
  },
  {
   "cell_type": "code",
   "execution_count": 153,
   "id": "d6618da3-1744-476e-9be7-69a9c4344db9",
   "metadata": {},
   "outputs": [
    {
     "name": "stdout",
     "output_type": "stream",
     "text": [
      "3 6 0\n"
     ]
    }
   ],
   "source": [
    "def calc(data1, data2, way) :\n",
    "    if way == \"+\" :\n",
    "        return data1+data2\n",
    "    elif way == \"*\" :\n",
    "        return data1*data2\n",
    "    else :\n",
    "        return 0\n",
    "data01 = calc(1, 2, \"+\")\n",
    "data02 = calc(3, 2, \"*\")\n",
    "data03 = calc(2, 4, \"-\")\n",
    "\n",
    "print(data01, data02, data03)"
   ]
  }
 ],
 "metadata": {
  "kernelspec": {
   "display_name": "Python [conda env:base] *",
   "language": "python",
   "name": "conda-base-py"
  },
  "language_info": {
   "codemirror_mode": {
    "name": "ipython",
    "version": 3
   },
   "file_extension": ".py",
   "mimetype": "text/x-python",
   "name": "python",
   "nbconvert_exporter": "python",
   "pygments_lexer": "ipython3",
   "version": "3.13.5"
  }
 },
 "nbformat": 4,
 "nbformat_minor": 5
}
