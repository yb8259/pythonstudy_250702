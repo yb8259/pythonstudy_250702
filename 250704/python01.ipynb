{
 "cells": [
  {
   "cell_type": "markdown",
   "id": "413d67f8-88d3-4624-aec7-e1ae36efb837",
   "metadata": {},
   "source": [
    "### 파이썬 자료구조\n",
    "- list => 하나의 그룹안에 순번을 매겨서 값을 저장해놓은 형태 (*단일 값을 수정, 삭제 등 변경 허용)\n",
    "- tuple => 하나의 그룹안에 순번을 매겨서 값을 저장해놓은 형태 (*단일 값을 수정, 삭제 등 변경 허용x)\n",
    "- dictionary => 사전 (*단어 : 뜻, 형태, 예시 등등 세부정보) => key(*단어) & value(*해당 단어에 대한 의미) => 속성 (*property)\n",
    "- CRUD => 웹 사이틔 구현정도 // 프로그램 난이도// 고급언어인지, 저급언어인지 등을 구분\n",
    "- Create // Read //Updata // Delete => 고급언어로 난이도 상단계 포지션\n",
    "- 프로그래밍언어는 절대 정답 x => 예제 문제 => 제가 문제를 해결한 방법 // 수강생 분들이 문제를 해결한 방법 => x\n",
    "- 2 => 1+1 // 10/5 // 2*1\n",
    "- 문자열 => 숫자 int => 문법해결 // 문자열 => 문법 해결 둘다 같은 방법!\n",
    "- 개발영역 => 결과가 도출된다면 모두 답 => 어떤 답이 \"효과\"적 || \"효율\"이 있는가?\n",
    "- 만들고자 하는 프로그램이 지향하는 것이 무엇이냐? => 안정성 // 속도 // 메모리?\n",
    "- 시간 => 빠른시간 내 코드를 처리할 수 있는가 => 시간복잡도 라는 개념\n",
    "- 어떤 코드가 실행되는데 있어서 얼만큼 빨리 처리하냐 => 빅오 // 빅오메가 // 빅세타 개념 빅오메가와 빅세타는 하드웨어, 컴퓨터의 성능차이\n",
    "- 빅오! 시간 체크 => 가장 많은 시간을 차지하는 것 하나를 체크 => 반복문"
   ]
  },
  {
   "cell_type": "code",
   "execution_count": 2,
   "id": "73d4d553-8b4f-44f1-9e16-ffb971c4ce2e",
   "metadata": {},
   "outputs": [
    {
     "data": {
      "text/plain": [
       "{'name': 'David'}"
      ]
     },
     "execution_count": 2,
     "metadata": {},
     "output_type": "execute_result"
    }
   ],
   "source": [
    "dict1 = {\"name\": \"David\"}\n",
    "dict1"
   ]
  },
  {
   "cell_type": "code",
   "execution_count": 4,
   "id": "3264b349-356f-4aef-97fa-ff9799c3084c",
   "metadata": {},
   "outputs": [
    {
     "data": {
      "text/plain": [
       "{'Korean': 95, 'math': 100, 'science': 80}"
      ]
     },
     "execution_count": 4,
     "metadata": {},
     "output_type": "execute_result"
    }
   ],
   "source": [
    "dict2 = {\"Korean\": 95, \"math\":100, \"science\":80}\n",
    "dict2"
   ]
  },
  {
   "cell_type": "code",
   "execution_count": 42,
   "id": "c769f18e-5a25-48e0-a853-1a4c8de023b3",
   "metadata": {},
   "outputs": [
    {
     "ename": "TypeError",
     "evalue": "'dict' object is not callable",
     "output_type": "error",
     "traceback": [
      "\u001b[1;31m---------------------------------------------------------------------------\u001b[0m",
      "\u001b[1;31mTypeError\u001b[0m                                 Traceback (most recent call last)",
      "Cell \u001b[1;32mIn[42], line 5\u001b[0m\n\u001b[0;32m      1\u001b[0m \u001b[38;5;66;03m# list1 = [] |[1,2]| list()\u001b[39;00m\n\u001b[0;32m      2\u001b[0m \u001b[38;5;66;03m# tuple1 = () |[1,2]| tuple()\u001b[39;00m\n\u001b[0;32m      4\u001b[0m dict1 \u001b[38;5;241m=\u001b[39m {}\n\u001b[1;32m----> 5\u001b[0m dict2 \u001b[38;5;241m=\u001b[39m \u001b[38;5;28mdict\u001b[39m()\n\u001b[0;32m      6\u001b[0m \u001b[38;5;28mtype\u001b[39m(dict2)\n",
      "\u001b[1;31mTypeError\u001b[0m: 'dict' object is not callable"
     ]
    }
   ],
   "source": [
    " # list1 = [] |[1,2]| list()\n",
    " # tuple1 = () |[1,2]| tuple()\n",
    "\n",
    "dict1 = {}\n",
    "dict2 = dict()\n",
    "type(dict2)"
   ]
  },
  {
   "cell_type": "code",
   "execution_count": 8,
   "id": "b57cb6de-02a8-4abf-bb74-81fab3ef0a4c",
   "metadata": {},
   "outputs": [],
   "source": [
    "data_dict = {\"한국\":\"KR\", \"일본\":\"JP\", \"중국\":\"CN\"}"
   ]
  },
  {
   "cell_type": "code",
   "execution_count": 35,
   "id": "f44e1967-d787-43a8-b630-b71b80fc31cf",
   "metadata": {},
   "outputs": [
    {
     "data": {
      "text/plain": [
       "'KR'"
      ]
     },
     "execution_count": 35,
     "metadata": {},
     "output_type": "execute_result"
    }
   ],
   "source": [
    "data_dict[\"한국\"]"
   ]
  },
  {
   "cell_type": "code",
   "execution_count": 11,
   "id": "a5172ef4-403e-422e-a1e2-e1076db1698c",
   "metadata": {},
   "outputs": [],
   "source": [
    "data_dict[\"미국\"]=\"US\""
   ]
  },
  {
   "cell_type": "code",
   "execution_count": 12,
   "id": "6143e807-1458-47af-bc1d-a7142027338d",
   "metadata": {},
   "outputs": [
    {
     "data": {
      "text/plain": [
       "'US'"
      ]
     },
     "execution_count": 12,
     "metadata": {},
     "output_type": "execute_result"
    }
   ],
   "source": [
    "data_dict[\"미국\"]"
   ]
  },
  {
   "cell_type": "code",
   "execution_count": 13,
   "id": "5df6b87c-6904-4609-9e3d-bc25d274c932",
   "metadata": {},
   "outputs": [],
   "source": [
    "del data_dict[\"일본\"]"
   ]
  },
  {
   "cell_type": "code",
   "execution_count": 14,
   "id": "de155549-142e-4607-a4bb-76bc4d1550bc",
   "metadata": {},
   "outputs": [
    {
     "data": {
      "text/plain": [
       "{'한국': 'KR', '중국': 'CN', '미국': 'US'}"
      ]
     },
     "execution_count": 14,
     "metadata": {},
     "output_type": "execute_result"
    }
   ],
   "source": [
    "data_dict"
   ]
  },
  {
   "cell_type": "code",
   "execution_count": 15,
   "id": "b742e439-31c1-46eb-b9cf-5e04c3f006f4",
   "metadata": {},
   "outputs": [],
   "source": [
    "data_dict[\"미국\"]=\"USA\""
   ]
  },
  {
   "cell_type": "code",
   "execution_count": 16,
   "id": "e9ad57de-3ec3-4943-8804-02a7e914d638",
   "metadata": {},
   "outputs": [
    {
     "data": {
      "text/plain": [
       "'USA'"
      ]
     },
     "execution_count": 16,
     "metadata": {},
     "output_type": "execute_result"
    }
   ],
   "source": [
    "data_dict[\"미국\"]"
   ]
  },
  {
   "cell_type": "code",
   "execution_count": 27,
   "id": "0a256d14-544d-449d-bcca-687f8efc7773",
   "metadata": {},
   "outputs": [
    {
     "name": "stdout",
     "output_type": "stream",
     "text": [
      "dict_keys(['한국', '중국', '미국'])\n",
      "<class 'dict_keys'>\n",
      "dict_values(['KR', 'CN', 'USA'])\n",
      "dict_items([('한국', 'KR'), ('중국', 'CN'), ('미국', 'USA')])\n"
     ]
    }
   ],
   "source": [
    "keys = data_dict.keys()\n",
    "print(keys)\n",
    "print(type(keys))\n",
    "\n",
    "values = data_dict.values()\n",
    "print(values)\n",
    "items= data_dict.items()\n",
    "print(items)\n",
    "\n",
    "# 리스트로 바꾼이유 : 바꾸지 않으면 반복문 사용 불가ㅠ"
   ]
  },
  {
   "cell_type": "code",
   "execution_count": 28,
   "id": "b8d2b912-e293-4a0f-930e-8a6736edea09",
   "metadata": {},
   "outputs": [
    {
     "name": "stdout",
     "output_type": "stream",
     "text": [
      "한국\n",
      "중국\n",
      "미국\n"
     ]
    }
   ],
   "source": [
    "for key in keys :\n",
    "    print(key)"
   ]
  },
  {
   "cell_type": "code",
   "execution_count": 38,
   "id": "3bde1f37-6564-4cba-a976-a50ac94fb651",
   "metadata": {},
   "outputs": [
    {
     "name": "stdout",
     "output_type": "stream",
     "text": [
      "--------\n",
      "- 구구단 2단 - \n",
      "--------\n",
      "2 x 1 = 2\n",
      "2 x 2 = 4\n",
      "2 x 3 = 6\n",
      "2 x 4 = 8\n",
      "2 x 5 = 10\n",
      "2 x 6 = 12\n",
      "2 x 7 = 14\n",
      "2 x 8 = 16\n",
      "2 x 9 = 18\n",
      "--------\n",
      "\n",
      "--------\n",
      "- 구구단 3단 - \n",
      "--------\n",
      "3 x 1 = 3\n",
      "3 x 2 = 6\n",
      "3 x 3 = 9\n",
      "3 x 4 = 12\n",
      "3 x 5 = 15\n",
      "3 x 6 = 18\n",
      "3 x 7 = 21\n",
      "3 x 8 = 24\n",
      "3 x 9 = 27\n",
      "--------\n",
      "\n",
      "--------\n",
      "- 구구단 4단 - \n",
      "--------\n",
      "4 x 1 = 4\n",
      "4 x 2 = 8\n",
      "4 x 3 = 12\n",
      "4 x 4 = 16\n",
      "4 x 5 = 20\n",
      "4 x 6 = 24\n",
      "4 x 7 = 28\n",
      "4 x 8 = 32\n",
      "4 x 9 = 36\n",
      "--------\n",
      "\n",
      "--------\n",
      "- 구구단 5단 - \n",
      "--------\n",
      "5 x 1 = 5\n",
      "5 x 2 = 10\n",
      "5 x 3 = 15\n",
      "5 x 4 = 20\n",
      "5 x 5 = 25\n",
      "5 x 6 = 30\n",
      "5 x 7 = 35\n",
      "5 x 8 = 40\n",
      "5 x 9 = 45\n",
      "--------\n",
      "\n",
      "--------\n",
      "- 구구단 6단 - \n",
      "--------\n",
      "6 x 1 = 6\n",
      "6 x 2 = 12\n",
      "6 x 3 = 18\n",
      "6 x 4 = 24\n",
      "6 x 5 = 30\n",
      "6 x 6 = 36\n",
      "6 x 7 = 42\n",
      "6 x 8 = 48\n",
      "6 x 9 = 54\n",
      "--------\n",
      "\n",
      "--------\n",
      "- 구구단 7단 - \n",
      "--------\n",
      "7 x 1 = 7\n",
      "7 x 2 = 14\n",
      "7 x 3 = 21\n",
      "7 x 4 = 28\n",
      "7 x 5 = 35\n",
      "7 x 6 = 42\n",
      "7 x 7 = 49\n",
      "7 x 8 = 56\n",
      "7 x 9 = 63\n",
      "--------\n",
      "\n",
      "--------\n",
      "- 구구단 8단 - \n",
      "--------\n",
      "8 x 1 = 8\n",
      "8 x 2 = 16\n",
      "8 x 3 = 24\n",
      "8 x 4 = 32\n",
      "8 x 5 = 40\n",
      "8 x 6 = 48\n",
      "8 x 7 = 56\n",
      "8 x 8 = 64\n",
      "8 x 9 = 72\n",
      "--------\n",
      "\n",
      "--------\n",
      "- 구구단 9단 - \n",
      "--------\n",
      "9 x 1 = 9\n",
      "9 x 2 = 18\n",
      "9 x 3 = 27\n",
      "9 x 4 = 36\n",
      "9 x 5 = 45\n",
      "9 x 6 = 54\n",
      "9 x 7 = 63\n",
      "9 x 8 = 72\n",
      "9 x 9 = 81\n",
      "--------\n",
      "\n"
     ]
    }
   ],
   "source": [
    "for num01 in range(2,10):\n",
    "    print(\"--------\")\n",
    "    print(f\"- 구구단 {num01}단 - \")\n",
    "    print(\"--------\") \n",
    "    for num02 in range(1,10):\n",
    "        print(f\"{num01} x {num02} = {num01*num02}\")\n",
    "    print(\"--------\") \n",
    "    print()"
   ]
  },
  {
   "cell_type": "code",
   "execution_count": 39,
   "id": "53e7f247-fdd2-459b-bf8c-547857306420",
   "metadata": {},
   "outputs": [
    {
     "name": "stdout",
     "output_type": "stream",
     "text": [
      "('한국', 'KR')\n",
      "('중국', 'CN')\n",
      "('미국', 'USA')\n"
     ]
    }
   ],
   "source": [
    "for item in items :\n",
    "    print(item)"
   ]
  },
  {
   "cell_type": "markdown",
   "id": "54b68710-6d93-4a42-ae6a-64bfb7ea1992",
   "metadata": {},
   "source": [
    "### 리스트"
   ]
  },
  {
   "cell_type": "markdown",
   "id": "791af40f-44f4-4601-82b5-fcc75d51299f",
   "metadata": {},
   "source": [
    "\n",
    "크롤링 할 때\n",
    "- HTML 문서상에 제목이 여러개 있는 경우\n"
   ]
  },
  {
   "cell_type": "code",
   "execution_count": 40,
   "id": "889f1a2c-6751-4eb3-80ea-99803ae53c27",
   "metadata": {},
   "outputs": [
    {
     "name": "stdout",
     "output_type": "stream",
     "text": [
      "뉴스A\n",
      "뉴스B\n",
      "뉴스C\n",
      "뉴스A\n"
     ]
    }
   ],
   "source": [
    "titles = [\"뉴스A\", \"뉴스B\", \"뉴스C\", \"뉴스A\"]\n",
    "for title in titles :\n",
    "    print(title)"
   ]
  },
  {
   "cell_type": "markdown",
   "id": "ae57ac25-5b50-4779-b66e-48c4edaeb308",
   "metadata": {},
   "source": [
    "#### 딕셔너리"
   ]
  },
  {
   "cell_type": "code",
   "execution_count": 41,
   "id": "9f4cc079-91d8-41f6-88e4-75389e1916e3",
   "metadata": {},
   "outputs": [
    {
     "ename": "SyntaxError",
     "evalue": "unterminated string literal (detected at line 1) (1023476411.py, line 1)",
     "output_type": "error",
     "traceback": [
      "\u001b[1;36m  Cell \u001b[1;32mIn[41], line 1\u001b[1;36m\u001b[0m\n\u001b[1;33m    article = {\"title\":\"뉴스A\", \"link\":\"}\u001b[0m\n\u001b[1;37m                                     ^\u001b[0m\n\u001b[1;31mSyntaxError\u001b[0m\u001b[1;31m:\u001b[0m unterminated string literal (detected at line 1)\n"
     ]
    }
   ],
   "source": [
    "article01 = {              # 딕셔너리가 있고 안에 속성이 많으면 개행 시켜주는게 보기 편해요!\n",
    "    \"title\":\"뉴스A\", \n",
    "    \"link\":\"https://www.naver.com\"\n",
    "}\n",
    "article02 = {             \n",
    "    \"title\":\"뉴스B\", \n",
    "    \"link\":\"https://www.naver.com\"\n",
    "}\n",
    "#만약에 반복해서 쓰고싶다\n",
    "\n",
    "articleList = [article01, article02]"
   ]
  }
 ],
 "metadata": {
  "kernelspec": {
   "display_name": "Python [conda env:base] *",
   "language": "python",
   "name": "conda-base-py"
  },
  "language_info": {
   "codemirror_mode": {
    "name": "ipython",
    "version": 3
   },
   "file_extension": ".py",
   "mimetype": "text/x-python",
   "name": "python",
   "nbconvert_exporter": "python",
   "pygments_lexer": "ipython3",
   "version": "3.13.5"
  }
 },
 "nbformat": 4,
 "nbformat_minor": 5
}
