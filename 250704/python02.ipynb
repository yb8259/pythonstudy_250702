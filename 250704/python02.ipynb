{
 "cells": [
  {
   "cell_type": "markdown",
   "id": "ca0d1565-d1db-4df2-9882-f495e08901f2",
   "metadata": {},
   "source": [
    "#### 웹사이트 데이터를 크롤링 해오자!!!\n",
    "- 크롤링 : 마치 동물의 발톱 혹은 갈퀴로 어떤 정보를 잡아채온다. 개념\n",
    "- 프롤링은 파이썬에서만 할 수 있나요? 파이썬이 아닌 언어로도 충분히 예전부터 할 수 있는 기능이었음!!!\n",
    "- 파이썬은 문법이 타 언어대비 굉장히 심플 & 간소 => 초심자 학습하기에 매우 적절\n",
    "- 꼭 굳이 개발자가 아니더라도, 비개발자가 보다 쉽고 간편하고 빠르세 개발언어를 활용해서 크롤링을 할 수 있도록 도와주는 거의 유일 언어\n",
    "- 왜 다른 언어는 굳이 복잡한 것인지? => 파이썬 언어는 내부 혹은 외부 라이브러리 소스를 가져다가 사용할 수 있는 기회 혹은 상황이 무지 많음!!!\n",
    "- 초심자들이 제일 많이 쓰는 라이브러리 beautifulsoup4 // requests\n",
    "- beautifulsoup4 : 아래에 requests를 통해서 찾아온 html 문서를 파싱(parsing; 문서를 읽음 후 실행)\n",
    "      \n",
    "- requests : 크롤링 해오고자 하는 웹 사이트를 요청 => html 문서 안에 있는 코드를 가져오는 역할\n",
    "#### 브라우져는 이렇게 이해해요\n",
    "- html -> dom\n",
    "- css -> cssom"
   ]
  },
  {
   "cell_type": "code",
   "execution_count": 1,
   "id": "32af58f4-0f33-42d7-8bfc-7acbe5f3e212",
   "metadata": {},
   "outputs": [
    {
     "name": "stdout",
     "output_type": "stream",
     "text": [
      "Requirement already satisfied: requests in c:\\users\\user\\anaconda3\\lib\\site-packages (2.32.3)\n",
      "Requirement already satisfied: charset-normalizer<4,>=2 in c:\\users\\user\\anaconda3\\lib\\site-packages (from requests) (3.3.2)\n",
      "Requirement already satisfied: idna<4,>=2.5 in c:\\users\\user\\anaconda3\\lib\\site-packages (from requests) (3.7)\n",
      "Requirement already satisfied: urllib3<3,>=1.21.1 in c:\\users\\user\\anaconda3\\lib\\site-packages (from requests) (2.3.0)\n",
      "Requirement already satisfied: certifi>=2017.4.17 in c:\\users\\user\\anaconda3\\lib\\site-packages (from requests) (2025.6.15)\n",
      "Note: you may need to restart the kernel to use updated packages.\n"
     ]
    }
   ],
   "source": [
    "pip install requests"
   ]
  },
  {
   "cell_type": "code",
   "execution_count": 2,
   "id": "1b192f8a-53cc-44d6-8a04-7adfdaab6170",
   "metadata": {},
   "outputs": [
    {
     "name": "stdout",
     "output_type": "stream",
     "text": [
      "Requirement already satisfied: beautifulsoup4 in c:\\users\\user\\anaconda3\\lib\\site-packages (4.12.3)\n",
      "Requirement already satisfied: soupsieve>1.2 in c:\\users\\user\\anaconda3\\lib\\site-packages (from beautifulsoup4) (2.5)\n",
      "Note: you may need to restart the kernel to use updated packages.\n"
     ]
    }
   ],
   "source": [
    "pip install beautifulsoup4"
   ]
  },
  {
   "cell_type": "code",
   "execution_count": 3,
   "id": "219a5ab4-dc36-4499-a36f-2fca65b1b89a",
   "metadata": {},
   "outputs": [
    {
     "name": "stdout",
     "output_type": "stream",
     "text": [
      "Requirement already satisfied: requests in c:\\users\\user\\anaconda3\\lib\\site-packages (2.32.3)\n",
      "Requirement already satisfied: beautifulsoup4 in c:\\users\\user\\anaconda3\\lib\\site-packages (4.12.3)\n",
      "Requirement already satisfied: charset-normalizer<4,>=2 in c:\\users\\user\\anaconda3\\lib\\site-packages (from requests) (3.3.2)\n",
      "Requirement already satisfied: idna<4,>=2.5 in c:\\users\\user\\anaconda3\\lib\\site-packages (from requests) (3.7)\n",
      "Requirement already satisfied: urllib3<3,>=1.21.1 in c:\\users\\user\\anaconda3\\lib\\site-packages (from requests) (2.3.0)\n",
      "Requirement already satisfied: certifi>=2017.4.17 in c:\\users\\user\\anaconda3\\lib\\site-packages (from requests) (2025.6.15)\n",
      "Requirement already satisfied: soupsieve>1.2 in c:\\users\\user\\anaconda3\\lib\\site-packages (from beautifulsoup4) (2.5)\n",
      "Note: you may need to restart the kernel to use updated packages.\n"
     ]
    }
   ],
   "source": [
    "pip install requests beautifulsoup4"
   ]
  },
  {
   "cell_type": "code",
   "execution_count": 12,
   "id": "e2c6d72a-6e05-4c4a-8696-bceb3c0b9cc4",
   "metadata": {},
   "outputs": [
    {
     "name": "stdout",
     "output_type": "stream",
     "text": [
      "[<img alt=\"매트리스커버 관련 상품 추천\" class=\"img-fluid\" src=\"https://static.coupangcdn.com/image/retail/images/2017/10/11/16/6/bf3b2157-528d-4b24-9991-b601a24f4c6f.jpg\"/>, <img alt=\"매트리스커버 관련 상품 추천\" class=\"img-fluid\" src=\"https://static.coupangcdn.com/image/product/image/vendoritem/2018/11/28/3647689009/d72a996d-1e4e-42be-a23c-f9f6872214bb.jpg\"/>, <img alt=\"매트리스커버 관련 상품 추천\" class=\"img-fluid\" src=\"https://static.coupangcdn.com/image/product/image/vendoritem/2019/06/11/3361297461/699c49cc-5f9f-4927-ab26-b184f90c1571.jpg\"/>, <img alt=\"매트리스커버 관련 상품 추천\" class=\"img-fluid\" src=\"https://static.coupangcdn.com/image/retail/images/2018/10/26/16/9/c6dfa004-442c-4f48-9ff1-b76d81bae046.jpg\"/>, <img alt=\"매트리스커버 관련 상품 추천\" class=\"img-fluid\" src=\"https://static.coupangcdn.com/image/retail/images/2019/04/01/22/6/f9566f49-cf8c-48dd-bc73-b543a3f47f62.jpg\"/>, <img alt=\"매트리스커버 관련 상품 추천\" class=\"img-fluid\" src=\"https://static.coupangcdn.com/image/retail/images/12859794410743-0ab1b2fe-1cd4-4599-b38a-3fb22f3bf620.jpg\"/>, <img alt=\"매트리스커버 관련 상품 추천\" class=\"img-fluid\" src=\"https://static.coupangcdn.com/image/retail/images/2019/03/28/19/3/2d9f9b52-0cc9-424f-8639-8f298429d244.jpg\"/>, <img alt=\"매트리스커버 관련 상품 추천\" class=\"img-fluid\" src=\"https://static.coupangcdn.com/image/retail/images/2017/10/19/15/4/95b93d25-7014-458a-a2a5-9b93189cdcef.jpg\"/>, <img alt=\"행거도어 관련 상품 추천\" class=\"img-fluid\" src=\"https://static.coupangcdn.com/image/retail/images/2019/07/29/12/3/704931d7-4dbd-4af7-9247-856831bdc61e.jpg\"/>, <img alt=\"매트리스커버 관련 상품 추천\" class=\"img-fluid\" src=\"https://static.coupangcdn.com/image/retail/images/2017/10/13/10/3/8379ffd3-63be-4da4-98f9-895aaa0c9b52.jpg\"/>, <img alt=\"매트리스커버 관련 상품 추천\" class=\"img-fluid\" src=\"https://static.coupangcdn.com/image/retail/images/2018/09/17/19/4/329dbb2f-a0ad-44d4-af46-1eea0c548b67.jpg\"/>, <img alt=\"매트리스커버 관련 상품 추천\" class=\"img-fluid\" src=\"https://static.coupangcdn.com/image/retail/images/339338956730835-5cbe0521-2a03-4fe2-8eb7-7a7ae9ff187f.jpg\"/>]\n",
      "-------\n",
      "https://static.coupangcdn.com/image/retail/images/2017/10/11/16/6/bf3b2157-528d-4b24-9991-b601a24f4c6f.jpg\n",
      "매트리스커버 관련 상품 추천\n",
      "https://static.coupangcdn.com/image/product/image/vendoritem/2018/11/28/3647689009/d72a996d-1e4e-42be-a23c-f9f6872214bb.jpg\n",
      "매트리스커버 관련 상품 추천\n",
      "https://static.coupangcdn.com/image/product/image/vendoritem/2019/06/11/3361297461/699c49cc-5f9f-4927-ab26-b184f90c1571.jpg\n",
      "매트리스커버 관련 상품 추천\n",
      "https://static.coupangcdn.com/image/retail/images/2018/10/26/16/9/c6dfa004-442c-4f48-9ff1-b76d81bae046.jpg\n",
      "매트리스커버 관련 상품 추천\n",
      "https://static.coupangcdn.com/image/retail/images/2019/04/01/22/6/f9566f49-cf8c-48dd-bc73-b543a3f47f62.jpg\n",
      "매트리스커버 관련 상품 추천\n",
      "https://static.coupangcdn.com/image/retail/images/12859794410743-0ab1b2fe-1cd4-4599-b38a-3fb22f3bf620.jpg\n",
      "매트리스커버 관련 상품 추천\n",
      "https://static.coupangcdn.com/image/retail/images/2019/03/28/19/3/2d9f9b52-0cc9-424f-8639-8f298429d244.jpg\n",
      "매트리스커버 관련 상품 추천\n",
      "https://static.coupangcdn.com/image/retail/images/2017/10/19/15/4/95b93d25-7014-458a-a2a5-9b93189cdcef.jpg\n",
      "매트리스커버 관련 상품 추천\n",
      "https://static.coupangcdn.com/image/retail/images/2019/07/29/12/3/704931d7-4dbd-4af7-9247-856831bdc61e.jpg\n",
      "행거도어 관련 상품 추천\n",
      "https://static.coupangcdn.com/image/retail/images/2017/10/13/10/3/8379ffd3-63be-4da4-98f9-895aaa0c9b52.jpg\n",
      "매트리스커버 관련 상품 추천\n",
      "https://static.coupangcdn.com/image/retail/images/2018/09/17/19/4/329dbb2f-a0ad-44d4-af46-1eea0c548b67.jpg\n",
      "매트리스커버 관련 상품 추천\n",
      "https://static.coupangcdn.com/image/retail/images/339338956730835-5cbe0521-2a03-4fe2-8eb7-7a7ae9ff187f.jpg\n",
      "매트리스커버 관련 상품 추천\n"
     ]
    }
   ],
   "source": [
    "import requests # 기능 하나, 웹문서 가져오기\n",
    "#import beautifulsoup4  기능 여러개, 그래서 아래와 같이 쓴다 \n",
    "from bs4 import BeautifulSoup # bs4 에서 뷰티폴숩을 찾아온다.\n",
    "\n",
    "url = \"https://davelee-fun.github.io\" # 사이트 크롤링\n",
    "response = requests.get(url) # 응답값\n",
    "soup = BeautifulSoup(response.text, \"html.parser\") # soup 할당한다\n",
    "\n",
    "cards = soup.select(\"div.maxthumb img\")\n",
    "# > 표시는 직계자식, 빈공간은 후손\n",
    "print(cards)\n",
    "print(\"-------\")\n",
    "for card in cards :\n",
    "    print(card.get(\"src\")) # src는 https 주소\n",
    "    print(card.get(\"alt\"))"
   ]
  },
  {
   "cell_type": "code",
   "execution_count": 15,
   "id": "b0ae6dc2-a98e-4be6-a828-59e9794ec667",
   "metadata": {},
   "outputs": [
    {
     "name": "stdout",
     "output_type": "stream",
     "text": [
      "https://static.coupangcdn.com/image/retail/images/2017/10/11/16/6/bf3b2157-528d-4b24-9991-b601a24f4c6f.jpg\n",
      "매트리스커버 관련 상품 추천\n",
      "https://static.coupangcdn.com/image/product/image/vendoritem/2018/11/28/3647689009/d72a996d-1e4e-42be-a23c-f9f6872214bb.jpg\n",
      "매트리스커버 관련 상품 추천\n",
      "https://static.coupangcdn.com/image/product/image/vendoritem/2019/06/11/3361297461/699c49cc-5f9f-4927-ab26-b184f90c1571.jpg\n",
      "매트리스커버 관련 상품 추천\n",
      "https://static.coupangcdn.com/image/retail/images/2018/10/26/16/9/c6dfa004-442c-4f48-9ff1-b76d81bae046.jpg\n",
      "매트리스커버 관련 상품 추천\n",
      "https://static.coupangcdn.com/image/retail/images/2019/04/01/22/6/f9566f49-cf8c-48dd-bc73-b543a3f47f62.jpg\n",
      "매트리스커버 관련 상품 추천\n",
      "https://static.coupangcdn.com/image/retail/images/12859794410743-0ab1b2fe-1cd4-4599-b38a-3fb22f3bf620.jpg\n",
      "매트리스커버 관련 상품 추천\n",
      "https://static.coupangcdn.com/image/retail/images/2019/03/28/19/3/2d9f9b52-0cc9-424f-8639-8f298429d244.jpg\n",
      "매트리스커버 관련 상품 추천\n",
      "https://static.coupangcdn.com/image/retail/images/2017/10/19/15/4/95b93d25-7014-458a-a2a5-9b93189cdcef.jpg\n",
      "매트리스커버 관련 상품 추천\n",
      "https://static.coupangcdn.com/image/retail/images/2019/07/29/12/3/704931d7-4dbd-4af7-9247-856831bdc61e.jpg\n",
      "행거도어 관련 상품 추천\n",
      "https://static.coupangcdn.com/image/retail/images/2017/10/13/10/3/8379ffd3-63be-4da4-98f9-895aaa0c9b52.jpg\n",
      "매트리스커버 관련 상품 추천\n",
      "https://static.coupangcdn.com/image/retail/images/2018/09/17/19/4/329dbb2f-a0ad-44d4-af46-1eea0c548b67.jpg\n",
      "매트리스커버 관련 상품 추천\n",
      "https://static.coupangcdn.com/image/retail/images/339338956730835-5cbe0521-2a03-4fe2-8eb7-7a7ae9ff187f.jpg\n",
      "매트리스커버 관련 상품 추천\n"
     ]
    }
   ],
   "source": [
    "for card in cards :\n",
    "    print(card.get(\"src\", \"\").strip()) # src는 https 주소\n",
    "    print(card.get(\"alt\", \"제목 없음\").strip())"
   ]
  },
  {
   "cell_type": "code",
   "execution_count": 21,
   "id": "bfd369ad-0458-49fb-825a-3800fbac459f",
   "metadata": {},
   "outputs": [
    {
     "name": "stdout",
     "output_type": "stream",
     "text": [
      "상품카테고리 : 매트리스커버 관련 상품 추천 / 상품이미지 : https://static.coupangcdn.com/image/retail/images/2017/10/11/16/6/bf3b2157-528d-4b24-9991-b601a24f4c6f.jpg\n",
      "상품카테고리 : 매트리스커버 관련 상품 추천 / 상품이미지 : https://static.coupangcdn.com/image/product/image/vendoritem/2018/11/28/3647689009/d72a996d-1e4e-42be-a23c-f9f6872214bb.jpg\n",
      "상품카테고리 : 매트리스커버 관련 상품 추천 / 상품이미지 : https://static.coupangcdn.com/image/product/image/vendoritem/2019/06/11/3361297461/699c49cc-5f9f-4927-ab26-b184f90c1571.jpg\n",
      "상품카테고리 : 매트리스커버 관련 상품 추천 / 상품이미지 : https://static.coupangcdn.com/image/retail/images/2018/10/26/16/9/c6dfa004-442c-4f48-9ff1-b76d81bae046.jpg\n",
      "상품카테고리 : 매트리스커버 관련 상품 추천 / 상품이미지 : https://static.coupangcdn.com/image/retail/images/2019/04/01/22/6/f9566f49-cf8c-48dd-bc73-b543a3f47f62.jpg\n",
      "상품카테고리 : 매트리스커버 관련 상품 추천 / 상품이미지 : https://static.coupangcdn.com/image/retail/images/12859794410743-0ab1b2fe-1cd4-4599-b38a-3fb22f3bf620.jpg\n",
      "상품카테고리 : 매트리스커버 관련 상품 추천 / 상품이미지 : https://static.coupangcdn.com/image/retail/images/2019/03/28/19/3/2d9f9b52-0cc9-424f-8639-8f298429d244.jpg\n",
      "상품카테고리 : 매트리스커버 관련 상품 추천 / 상품이미지 : https://static.coupangcdn.com/image/retail/images/2017/10/19/15/4/95b93d25-7014-458a-a2a5-9b93189cdcef.jpg\n",
      "상품카테고리 : 행거도어 관련 상품 추천 / 상품이미지 : https://static.coupangcdn.com/image/retail/images/2019/07/29/12/3/704931d7-4dbd-4af7-9247-856831bdc61e.jpg\n",
      "상품카테고리 : 매트리스커버 관련 상품 추천 / 상품이미지 : https://static.coupangcdn.com/image/retail/images/2017/10/13/10/3/8379ffd3-63be-4da4-98f9-895aaa0c9b52.jpg\n",
      "상품카테고리 : 매트리스커버 관련 상품 추천 / 상품이미지 : https://static.coupangcdn.com/image/retail/images/2018/09/17/19/4/329dbb2f-a0ad-44d4-af46-1eea0c548b67.jpg\n",
      "상품카테고리 : 매트리스커버 관련 상품 추천 / 상품이미지 : https://static.coupangcdn.com/image/retail/images/339338956730835-5cbe0521-2a03-4fe2-8eb7-7a7ae9ff187f.jpg\n"
     ]
    }
   ],
   "source": [
    "card_data = []\n",
    "for card in cards :\n",
    "    title = card.get(\"alt\", \"제목 없음\").strip()\n",
    "    img_url = card.get(\"src\", \"\").strip()\n",
    "\n",
    "    card_info = (title, img_url)\n",
    "    card_data.append(card_info)\n",
    "\n",
    "for item in card_data : # enum 숫자형태의 무언가를 카운트 시킬수 있음\n",
    "    print(f\"상품카테고리 : {item[0]} / 상품이미지 : {item[1]}\")"
   ]
  },
  {
   "cell_type": "code",
   "execution_count": 26,
   "id": "9ba763d1-2359-406d-8098-b5cc66f96e6e",
   "metadata": {},
   "outputs": [
    {
     "name": "stdout",
     "output_type": "stream",
     "text": [
      "1번째 상품 : 상품카테고리 => 매트리스커버 관련 상품 추천 / 상품이미지 => https://static.coupangcdn.com/image/retail/images/2017/10/11/16/6/bf3b2157-528d-4b24-9991-b601a24f4c6f.jpg\n",
      "2번째 상품 : 상품카테고리 => 매트리스커버 관련 상품 추천 / 상품이미지 => https://static.coupangcdn.com/image/product/image/vendoritem/2018/11/28/3647689009/d72a996d-1e4e-42be-a23c-f9f6872214bb.jpg\n",
      "3번째 상품 : 상품카테고리 => 매트리스커버 관련 상품 추천 / 상품이미지 => https://static.coupangcdn.com/image/product/image/vendoritem/2019/06/11/3361297461/699c49cc-5f9f-4927-ab26-b184f90c1571.jpg\n",
      "4번째 상품 : 상품카테고리 => 매트리스커버 관련 상품 추천 / 상품이미지 => https://static.coupangcdn.com/image/retail/images/2018/10/26/16/9/c6dfa004-442c-4f48-9ff1-b76d81bae046.jpg\n",
      "5번째 상품 : 상품카테고리 => 매트리스커버 관련 상품 추천 / 상품이미지 => https://static.coupangcdn.com/image/retail/images/2019/04/01/22/6/f9566f49-cf8c-48dd-bc73-b543a3f47f62.jpg\n",
      "6번째 상품 : 상품카테고리 => 매트리스커버 관련 상품 추천 / 상품이미지 => https://static.coupangcdn.com/image/retail/images/12859794410743-0ab1b2fe-1cd4-4599-b38a-3fb22f3bf620.jpg\n",
      "7번째 상품 : 상품카테고리 => 매트리스커버 관련 상품 추천 / 상품이미지 => https://static.coupangcdn.com/image/retail/images/2019/03/28/19/3/2d9f9b52-0cc9-424f-8639-8f298429d244.jpg\n",
      "8번째 상품 : 상품카테고리 => 매트리스커버 관련 상품 추천 / 상품이미지 => https://static.coupangcdn.com/image/retail/images/2017/10/19/15/4/95b93d25-7014-458a-a2a5-9b93189cdcef.jpg\n",
      "9번째 상품 : 상품카테고리 => 행거도어 관련 상품 추천 / 상품이미지 => https://static.coupangcdn.com/image/retail/images/2019/07/29/12/3/704931d7-4dbd-4af7-9247-856831bdc61e.jpg\n",
      "10번째 상품 : 상품카테고리 => 매트리스커버 관련 상품 추천 / 상품이미지 => https://static.coupangcdn.com/image/retail/images/2017/10/13/10/3/8379ffd3-63be-4da4-98f9-895aaa0c9b52.jpg\n",
      "11번째 상품 : 상품카테고리 => 매트리스커버 관련 상품 추천 / 상품이미지 => https://static.coupangcdn.com/image/retail/images/2018/09/17/19/4/329dbb2f-a0ad-44d4-af46-1eea0c548b67.jpg\n",
      "12번째 상품 : 상품카테고리 => 매트리스커버 관련 상품 추천 / 상품이미지 => https://static.coupangcdn.com/image/retail/images/339338956730835-5cbe0521-2a03-4fe2-8eb7-7a7ae9ff187f.jpg\n"
     ]
    }
   ],
   "source": [
    "card_data = []\n",
    "for idx, card in enumerate(cards, start=1) :\n",
    "    title = card.get(\"alt\", \"제목 없음\").strip()\n",
    "    img_url = card.get(\"src\", \"\").strip()\n",
    "\n",
    "    card_info = (idx, title, img_url)\n",
    "    card_data.append(card_info)\n",
    "\n",
    "for item in card_data : # enum 숫자형태의 무언가를 카운트 시킬수 있음\n",
    "    print(f\"{item[0]}번째 상품 : 상품카테고리 => {item[1]} / 상품이미지 => {item[2]}\")"
   ]
  }
 ],
 "metadata": {
  "kernelspec": {
   "display_name": "Python [conda env:base] *",
   "language": "python",
   "name": "conda-base-py"
  },
  "language_info": {
   "codemirror_mode": {
    "name": "ipython",
    "version": 3
   },
   "file_extension": ".py",
   "mimetype": "text/x-python",
   "name": "python",
   "nbconvert_exporter": "python",
   "pygments_lexer": "ipython3",
   "version": "3.13.5"
  }
 },
 "nbformat": 4,
 "nbformat_minor": 5
}
