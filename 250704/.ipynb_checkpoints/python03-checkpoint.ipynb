{
 "cells": [
  {
   "cell_type": "markdown",
   "id": "935f3835-df67-4616-a587-58e8f1b00fd0",
   "metadata": {},
   "source": [
    "#### 자료구조 : set = 집합\n",
    "- 서로 다른 그룹 간 연산 작업을 보다 쉽게 하기 위한 목적으로 탄생된 자료구조 (교집합, 차집합 그룹간 어떤 ~~)\n",
    "- set() // list() // tuple() // dict()\n",
    "- 리스트 (*각각의 세부값에 인덱스 값을 부여, 이터러블한 객체, 반복문)\n",
    "- 튜플 (*각각의 세부값에 인덱스 값을 부여, 이터러블한 객체, 반복문)\n",
    "- 딕셔너리 (*각각의 세부값에 인덱스 값을 부여x, 이터러블한 객체x, 반복문x)\n",
    "- 집합;set (*반복문이 가능하니까 이터러블함, 하지만 인덱스 값을 부여받지 않음)\n",
    "- 이 네가지는 각각의 장단점이 있습니다!\n",
    "##### set 핵심\n",
    "- 크롤링 시, 찾아온 값이 거의 대부분 리스트 형태로 들어옴!!! => 굳이 반복적으로 불필요하게 값을 찾아오는 경우가 부지기수 => 중복된 값을 하나로 정리하는 기능을 가장많이 사용"
   ]
  },
  {
   "cell_type": "code",
   "execution_count": 1,
   "id": "0355a308-3eff-4809-a0b7-6ce3a155dbdb",
   "metadata": {},
   "outputs": [
    {
     "data": {
      "text/plain": [
       "set"
      ]
     },
     "execution_count": 1,
     "metadata": {},
     "output_type": "execute_result"
    }
   ],
   "source": [
    "data_set01 = set()\n",
    "type(data_set01)"
   ]
  },
  {
   "cell_type": "code",
   "execution_count": 2,
   "id": "67abe8c0-4b4b-42cb-a1eb-d9a8599ed1b0",
   "metadata": {},
   "outputs": [
    {
     "data": {
      "text/plain": [
       "{'apple', 'dell', 'lg', 'samsung'}"
      ]
     },
     "execution_count": 2,
     "metadata": {},
     "output_type": "execute_result"
    }
   ],
   "source": [
    "data_set02 = {\"apple\", \"dell\", \"samsung\", \"lg\"} # {} set, dict 다 가능  # () tuple # [] list\n",
    "data_set02 "
   ]
  },
  {
   "cell_type": "code",
   "execution_count": 3,
   "id": "2c48d8c5-2921-42f9-a355-e18ae05ed0b0",
   "metadata": {},
   "outputs": [
    {
     "data": {
      "text/plain": [
       "{'a', 'e', 'l', 'p'}"
      ]
     },
     "execution_count": 3,
     "metadata": {},
     "output_type": "execute_result"
    }
   ],
   "source": [
    "data_set03 = set(\"apple\") # -> 값이 하나기 때문에 오케이\n",
    "data_set03"
   ]
  },
  {
   "cell_type": "code",
   "execution_count": 4,
   "id": "68c34ae3-e250-4e6b-9ea9-012e65701fa9",
   "metadata": {},
   "outputs": [
    {
     "ename": "TypeError",
     "evalue": "set expected at most 1 argument, got 2",
     "output_type": "error",
     "traceback": [
      "\u001b[1;31m---------------------------------------------------------------------------\u001b[0m",
      "\u001b[1;31mTypeError\u001b[0m                                 Traceback (most recent call last)",
      "Cell \u001b[1;32mIn[4], line 1\u001b[0m\n\u001b[1;32m----> 1\u001b[0m data_set04 \u001b[38;5;241m=\u001b[39m \u001b[38;5;28mset\u001b[39m(\u001b[38;5;124m\"\u001b[39m\u001b[38;5;124msm\u001b[39m\u001b[38;5;124m\"\u001b[39m,\u001b[38;5;124m\"\u001b[39m\u001b[38;5;124mjyp\u001b[39m\u001b[38;5;124m\"\u001b[39m)\n\u001b[0;32m      2\u001b[0m data_set04\n",
      "\u001b[1;31mTypeError\u001b[0m: set expected at most 1 argument, got 2"
     ]
    }
   ],
   "source": [
    "data_set04 = set(\"sm\",\"jyp\") # set ()는 인자값 복수는 안돼요..! 이럴땐 = {} 쓰기\n",
    "data_set04"
   ]
  },
  {
   "cell_type": "code",
   "execution_count": 9,
   "id": "fcd7be87-27b4-4c2b-a0fa-8d32ed3dc0ff",
   "metadata": {},
   "outputs": [
    {
     "data": {
      "text/plain": [
       "{'jyp', 'sm'}"
      ]
     },
     "execution_count": 9,
     "metadata": {},
     "output_type": "execute_result"
    }
   ],
   "source": [
    "data_set04 = {\"sm\", \"jyp\"}\n",
    "data_set04"
   ]
  },
  {
   "cell_type": "code",
   "execution_count": 10,
   "id": "dc01f55f-80f2-45ea-99c4-65d80a9264eb",
   "metadata": {},
   "outputs": [
    {
     "name": "stdout",
     "output_type": "stream",
     "text": [
      "lg\n",
      "apple\n",
      "dell\n",
      "samsung\n"
     ]
    }
   ],
   "source": [
    "for data in data_set02 :\n",
    "    print(data)"
   ]
  },
  {
   "cell_type": "code",
   "execution_count": 11,
   "id": "b6e9d1ae-cf2c-440c-995c-f56010eedad9",
   "metadata": {},
   "outputs": [
    {
     "ename": "TypeError",
     "evalue": "'set' object is not subscriptable",
     "output_type": "error",
     "traceback": [
      "\u001b[1;31m---------------------------------------------------------------------------\u001b[0m",
      "\u001b[1;31mTypeError\u001b[0m                                 Traceback (most recent call last)",
      "Cell \u001b[1;32mIn[11], line 1\u001b[0m\n\u001b[1;32m----> 1\u001b[0m data_set02[\u001b[38;5;241m0\u001b[39m]\n",
      "\u001b[1;31mTypeError\u001b[0m: 'set' object is not subscriptable"
     ]
    }
   ],
   "source": [
    "# data_set02[0] # 인덱스 값이 없어요~"
   ]
  },
  {
   "cell_type": "code",
   "execution_count": 13,
   "id": "7c1acf89-4435-4d4c-be31-988c717682be",
   "metadata": {},
   "outputs": [
    {
     "name": "stdout",
     "output_type": "stream",
     "text": [
      "False\n",
      "True\n"
     ]
    }
   ],
   "source": [
    "\"motorola\" in data_set02 # data_set02에 motorala가 있나요? 뜻\n",
    "\n",
    "print(\"motorola\" in data_set02)\n",
    "print(\"apple\" in data_set02)"
   ]
  },
  {
   "cell_type": "code",
   "execution_count": 15,
   "id": "4ff1709c-f32b-460e-86cb-e101a8bc3a45",
   "metadata": {},
   "outputs": [],
   "source": [
    "data04 = {\"피카츄\", \"라이츄\", \"꼬북이\"}\n",
    "data05 = {\"잠만보\", \"파이리\", \"피카츄\"} "
   ]
  },
  {
   "cell_type": "code",
   "execution_count": 17,
   "id": "ec3573dd-e832-43b2-9b98-c4855748bdf3",
   "metadata": {},
   "outputs": [
    {
     "data": {
      "text/plain": [
       "{'피카츄'}"
      ]
     },
     "execution_count": 17,
     "metadata": {},
     "output_type": "execute_result"
    }
   ],
   "source": [
    "data04 & data05 # 그룹간 비교해서 동일한 값 도출 -> 교집합"
   ]
  },
  {
   "cell_type": "code",
   "execution_count": 18,
   "id": "09c40df4-9625-426d-acbd-13bfc9ca5905",
   "metadata": {},
   "outputs": [
    {
     "data": {
      "text/plain": [
       "{'꼬북이', '라이츄', '잠만보', '파이리', '피카츄'}"
      ]
     },
     "execution_count": 18,
     "metadata": {},
     "output_type": "execute_result"
    }
   ],
   "source": [
    "data04 | data05 # | 합집합!"
   ]
  },
  {
   "cell_type": "markdown",
   "id": "bff05e6a-9c13-4eed-9448-225651dc4e10",
   "metadata": {},
   "source": [
    "#### set이 나온 근본적 이유는, 데이터 중복처리 배제!"
   ]
  },
  {
   "cell_type": "code",
   "execution_count": 19,
   "id": "de194892-e759-46ea-89c2-7ff78c408f05",
   "metadata": {},
   "outputs": [
    {
     "data": {
      "text/plain": [
       "{'꼬북이', '라이츄'}"
      ]
     },
     "execution_count": 19,
     "metadata": {},
     "output_type": "execute_result"
    }
   ],
   "source": [
    "data04 - data05 # 차집합"
   ]
  },
  {
   "cell_type": "code",
   "execution_count": 20,
   "id": "3f7c6e85-81f3-496c-b9ce-285cc6e1087a",
   "metadata": {},
   "outputs": [
    {
     "data": {
      "text/plain": [
       "{'잠만보', '파이리'}"
      ]
     },
     "execution_count": 20,
     "metadata": {},
     "output_type": "execute_result"
    }
   ],
   "source": [
    "data05 - data04 "
   ]
  },
  {
   "cell_type": "code",
   "execution_count": 21,
   "id": "e1d2d492-4349-4df6-87a4-64e6b3cc2c22",
   "metadata": {},
   "outputs": [
    {
     "data": {
      "text/plain": [
       "{'꼬북이', '라이츄', '잠만보', '파이리'}"
      ]
     },
     "execution_count": 21,
     "metadata": {},
     "output_type": "execute_result"
    }
   ],
   "source": [
    "data04 ^ data05 # ^ 는 교집합을 제외한 나머지를 찾아오자! \"캐럿\""
   ]
  }
 ],
 "metadata": {
  "kernelspec": {
   "display_name": "Python [conda env:base] *",
   "language": "python",
   "name": "conda-base-py"
  },
  "language_info": {
   "codemirror_mode": {
    "name": "ipython",
    "version": 3
   },
   "file_extension": ".py",
   "mimetype": "text/x-python",
   "name": "python",
   "nbconvert_exporter": "python",
   "pygments_lexer": "ipython3",
   "version": "3.13.5"
  }
 },
 "nbformat": 4,
 "nbformat_minor": 5
}
