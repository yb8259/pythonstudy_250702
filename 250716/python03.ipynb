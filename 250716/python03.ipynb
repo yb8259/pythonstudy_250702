{
 "cells": [
  {
   "cell_type": "markdown",
   "id": "1b1721e4-7728-4750-8f3a-814a01db92d4",
   "metadata": {},
   "source": [
    "#### 미션\n",
    "- 공공데이터포털 사이트 > 캠핑장 정보를 apiㄹ 찾아옵니다.\n",
    "- 100개의 캠핑장 정보만 엑셀에 저장\n",
    "- No / 캠핑장 아이디 (contentId) / 캠핑장 이름 (facltNm) 위치 (doNm) / 주소 (addr1) / 홈페이지 (homepage)"
   ]
  },
  {
   "cell_type": "code",
   "execution_count": 1,
   "id": "019d6de7-649c-4cfd-92e9-fb8b0e02f7f2",
   "metadata": {},
   "outputs": [
    {
     "ename": "SyntaxError",
     "evalue": "invalid decimal literal (556056735.py, line 3)",
     "output_type": "error",
     "traceback": [
      "\u001b[1;36m  Cell \u001b[1;32mIn[1], line 3\u001b[1;36m\u001b[0m\n\u001b[1;33m    https://apis.data.go.kr/B551011/GoCamping/basedList?MobileOS=ETC&MobileApp=been&serviceKey=9CddWKBqyjQQ6afe3WLOVYPvCrXYuxPPd3%252BeA%252F7mVVSdg%252B2%252BZJXGyC%252B0RwPk8wDMSQpJyHc1gXYzC3h4OErgiQ%253D%253D\u001b[0m\n\u001b[1;37m                                                                                               ^\u001b[0m\n\u001b[1;31mSyntaxError\u001b[0m\u001b[1;31m:\u001b[0m invalid decimal literal\n"
     ]
    }
   ],
   "source": [
    "import requests\n",
    "\n",
    "https://apis.data.go.kr/B551011/GoCamping/basedList?MobileOS=ETC&MobileApp=been&serviceKey=9CddWKBqyjQQ6afe3WLOVYPvCrXYuxPPd3%252BeA%252F7mVVSdg%252B2%252BZJXGyC%252B0RwPk8wDMSQpJyHc1gXYzC3h4OErgiQ%253D%253D"
   ]
  }
 ],
 "metadata": {
  "kernelspec": {
   "display_name": "Python [conda env:base] *",
   "language": "python",
   "name": "conda-base-py"
  },
  "language_info": {
   "codemirror_mode": {
    "name": "ipython",
    "version": 3
   },
   "file_extension": ".py",
   "mimetype": "text/x-python",
   "name": "python",
   "nbconvert_exporter": "python",
   "pygments_lexer": "ipython3",
   "version": "3.13.5"
  }
 },
 "nbformat": 4,
 "nbformat_minor": 5
}
