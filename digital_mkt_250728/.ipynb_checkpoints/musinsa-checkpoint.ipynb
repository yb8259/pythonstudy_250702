{
 "cells": [
  {
   "cell_type": "code",
   "execution_count": 8,
   "id": "e7ee9c29-63d4-4e04-a530-15520d759df2",
   "metadata": {},
   "outputs": [
    {
     "name": "stdout",
     "output_type": "stream",
     "text": [
      "상품명 : [논파킹 X 킨치] N - ROAD LOW / BROWN\n",
      "1. 한달 넘게 써본결과\n",
      "슬리퍼와 다르게 뒷꿈치부분이 있어서 걸을때 불편합니다\n",
      "뒷꿈치를 잡아주지못해 헐떡거립니다\n",
      "2. 2번째 구매입니다. 매우 이쁘고 굽도 좋고 너무 편해요!\n",
      "3. 이제품을 찾기위해 엄청 서칭했는데 구매할수있게되어 너무 좋아요 약간 다소 무겁지만 디자인은 완벽!\n",
      "4. 다른옷들에 코디해서 입기도 좋았습니다\n",
      "착용감도 좋아요\n",
      "5. 길가다 신은 분이 너무 멋져서 물어보고 들였는데 겨울 코디 진짜 뚝딱입니다 추천추천\n",
      "6. 디자인은 볼드하고 와이드팬츠에 입기 좋습니다\n",
      "\n",
      "하지만 뮬 형태라 구런가 걸을때도 적응이 필요한거같네요\n",
      "7. 생각보다 편하고 오래걷긴 좀 빡세지만 동네 마실이나 차로다닐때 애용하고이ㅛ어요\n",
      "8. 이번겨울 어그 타스만을 구매하려고 했다가 너무 흔해지고 주변에 곂치는 지인들이 너무많다보니 비슷한라인으로 찾다가 알게되었는데 가격도 저렴하고 너무 귀엽고 이쁘게 생겼어요! 생각보다 크지만 푹신해서\n",
      "9. 진짜 휘뚜루마뚜루 개편하고 이쁘고 좋아요 싸면 하나 주워가세요\n",
      "10. 신발이 탄탄하고 신고벗기 좋습니다 굽이 높은편이고 칼발은 정사이즈 발볼 좀 있으면 한사이즈 업하면 좋을거 같습니다\n"
     ]
    }
   ],
   "source": [
    "from selenium import webdriver\n",
    "from selenium.webdriver.chrome.service import Service\n",
    "from selenium.webdriver.chrome.options import Options\n",
    "from selenium.webdriver.common.by import By\n",
    "from bs4 import BeautifulSoup\n",
    "from webdriver_manager.chrome import ChromeDriverManager # 버전 맞춰주기 위한 기능\n",
    "from openpyxl import Workbook\n",
    "import time\n",
    "\n",
    "from selenium.webdriver.support.ui import WebDriverWait #특정 조건이 만족될 때까지 기다리는 기능\n",
    "from selenium.webdriver.support import expected_conditions as EC #기다릴 \"조건\"을 정의하는 함수 모음 (예: 보이기, 클릭 가능 등)\n",
    "\n",
    "options=Options()\n",
    "options.add_argument(\"--headless\") # 브라우저를 안 띄운 상태에서 크롤링 가능\n",
    "options.add_argument(\"--no-sandbox\") # 웹이 기존의 가지고 있는 것이 샌드박스, 우리에겐 샌드박스 규정 없어!\n",
    "options.add_argument(\"--disable-dev-shm-usage\") # 내 로컬 공간에 값을 가져와\n",
    "service = Service(ChromeDriverManager().install())\n",
    "driver = webdriver.Chrome(service=service,options=options)\n",
    "\n",
    "url = \"https://www.musinsa.com/products/4678855\"\n",
    "driver.get(url)\n",
    "\n",
    "try :\n",
    "    review_tab = WebDriverWait(driver, 10).until(\n",
    "        EC.element_to_be_clickable((By.XPATH, \"//span[contains(text(),'스냅·후기')]\"))\n",
    "    ) # 10초 기다리는 동안 뒤에것도 해줘\n",
    "    review_tab.click()\n",
    "    time.sleep(2)\n",
    "except Exception as e :\n",
    "    print(\"리뷰 탭 클릭 실패 : \", e)\n",
    "#높이\n",
    "scroll_pause = 1\n",
    "last_height = driver.execute_script(\"return document.body.scrollHeight\") #전체 총 문서 길이\n",
    "for _ in range(5) :\n",
    "    driver.execute_script(\"window.scrollTo(0,document.body.scrollHeight)\")\n",
    "    time.sleep(scroll_pause)\n",
    "    new_height = driver.execute_script(\"return document.body.scrollHeight\")\n",
    "    if new_height == last_height :\n",
    "        break\n",
    "    last_height = new_height\n",
    "\n",
    "soup = BeautifulSoup(driver.page_source, \"html.parser\")\n",
    "product_name = soup.select_one(\"span.text-title_18px_med.sc-1omefes-1.exqQRL.font-pretendard\").get_text().strip() # get_text(strip=True)도 가능합니다!\n",
    "\n",
    "review_cards = soup.select(\"div.GoodsReviewStaticList__Container-sc-s1ucwv-0.lnqPxe\")\n",
    "reviews = []\n",
    "for card in review_cards :\n",
    "    text_tags = card.select(\"span.text-body_13px_reg.text-black.font-pretendard\")\n",
    "    for tag in text_tags :\n",
    "        text = tag.get_text(strip=True)\n",
    "        if text and len(text) > 10 : #짧은 리뷰는 필요 ㄴ\n",
    "            reviews.append(text)\n",
    "\n",
    "reviews = list(set(reviews))\n",
    "\n",
    "print(f\"상품명 : {product_name}\")\n",
    "for index, review in enumerate(reviews) :\n",
    "    print(f\"{index+1}. {review}\")\n",
    "driver.quit()"
   ]
  }
 ],
 "metadata": {
  "kernelspec": {
   "display_name": "Python [conda env:base] *",
   "language": "python",
   "name": "conda-base-py"
  },
  "language_info": {
   "codemirror_mode": {
    "name": "ipython",
    "version": 3
   },
   "file_extension": ".py",
   "mimetype": "text/x-python",
   "name": "python",
   "nbconvert_exporter": "python",
   "pygments_lexer": "ipython3",
   "version": "3.13.5"
  }
 },
 "nbformat": 4,
 "nbformat_minor": 5
}
