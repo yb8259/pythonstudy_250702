{
 "cells": [
  {
   "cell_type": "markdown",
   "id": "6abe9b9a-a86c-4aa2-80eb-61095944fa0d",
   "metadata": {},
   "source": [
    "문자열 관련 함수 리스트\n",
    "- count : 문자열 객체 안에 있는 특정 문자 갯수 세기\n",
    "- index : 문자열에 있는 특정 문자으 인덱스 위치를 알려주기\n",
    "- find : 문자열에 있는 특정 문자의 인덱스를 찾아오긴 하나, 만약 존재하지 않는다면 에러를 발생하지 않고 -1을 발생, 1은 발생시키지 않는다\n",
    "- join : 문자열 사이에 다른 문자를 끼워 넣기\n",
    "- strip : 문자열 앞뒤에 공백을 지우기\n",
    "- upper : 소문자를 대문자로 변경하기\n",
    "- lower : 대문자를 소문자로 변경하기\n",
    "- split : 문자열 내 특정 문자를 기준으로 나누기\n",
    "- replace :"
   ]
  },
  {
   "cell_type": "code",
   "execution_count": 3,
   "id": "b411b4d2-1ab0-4b83-bd80-154386164fa9",
   "metadata": {},
   "outputs": [
    {
     "data": {
      "text/plain": [
       "0"
      ]
     },
     "execution_count": 3,
     "metadata": {},
     "output_type": "execute_result"
    }
   ],
   "source": [
    "data = \"Dave\"\n",
    "data.count(\"D\") #카운트 함수는 그 변수에 인자값이 몇개있는지 세어준다.\n",
    "data.count(\"o\")"
   ]
  },
  {
   "cell_type": "code",
   "execution_count": 13,
   "id": "fc06045e-416e-4166-800f-6e21407f83aa",
   "metadata": {},
   "outputs": [
    {
     "ename": "SyntaxError",
     "evalue": "invalid syntax (3487820203.py, line 3)",
     "output_type": "error",
     "traceback": [
      "\u001b[1;36m  Cell \u001b[1;32mIn[13], line 3\u001b[1;36m\u001b[0m\n\u001b[1;33m    string.index(\"x\") 없으면 Error!\u001b[0m\n\u001b[1;37m                      ^\u001b[0m\n\u001b[1;31mSyntaxError\u001b[0m\u001b[1;31m:\u001b[0m invalid syntax\n"
     ]
    }
   ],
   "source": [
    "string = \"Dave ID is dave\"\n",
    "string.index(\"d\") #인자값이 변수에 몇번째 오는지 알려준다. 첫 마주한 인자값 기준!\n",
    "string.index(\"x\") #없으면 Error!"
   ]
  },
  {
   "cell_type": "code",
   "execution_count": 16,
   "id": "65b71948-6a61-4e08-8b30-08a387936b1b",
   "metadata": {},
   "outputs": [
    {
     "name": "stdout",
     "output_type": "stream",
     "text": [
      "x는 string 문자열 객체 안에 없습니다.\n"
     ]
    }
   ],
   "source": [
    "string01 = \"Dave ID is dave\"\n",
    "string01.find(\"x\") # find 함수는 있으면 위치 없으면 -1\n",
    "string01.find(\"e\") # =3\n",
    "string01.find(\"d\") # = 11\n",
    "string01.find(\"D\") # = 0\n",
    "string01.find(\"x\") # find 함수는 있으면 위치 없으면 -1\n",
    "if string01.find(\"x\") == -1 :\n",
    "    print(\"x는 string 문자열 객체 안에 없습니다.\")"
   ]
  },
  {
   "cell_type": "code",
   "execution_count": 19,
   "id": "0618a930-7889-4719-88bc-d03ed0cfc829",
   "metadata": {},
   "outputs": [
    {
     "data": {
      "text/plain": [
       "'1/2/3/4/5'"
      ]
     },
     "execution_count": 19,
     "metadata": {},
     "output_type": "execute_result"
    }
   ],
   "source": [
    "string02 = \"12345\"\n",
    "comma= \",\"\n",
    "comma= \"/\"\n",
    "comma.join(string02) #넣고자하는 값.join(인자값=적용하고자 하는 값)"
   ]
  },
  {
   "cell_type": "code",
   "execution_count": 23,
   "id": "8703d208-2fa5-410b-bf43-52b77151f6b0",
   "metadata": {},
   "outputs": [
    {
     "data": {
      "text/plain": [
       "'   Dave03'"
      ]
     },
     "execution_count": 23,
     "metadata": {},
     "output_type": "execute_result"
    }
   ],
   "source": [
    "data01 = \" Dave \"\n",
    "data01.strip() # 인자값만 내용만 지우고 도출\n",
    "\n",
    "data02 = \"            Dave02   \" # 좌측공백만 지움\n",
    "data02.lstrip()\n",
    "\n",
    "data03 = \"   Dave03        \" # 우측 공백만 지움\n",
    "data03.rstrip()"
   ]
  },
  {
   "cell_type": "code",
   "execution_count": 26,
   "id": "45f7af40-19ea-479d-b0c4-050de29638d3",
   "metadata": {},
   "outputs": [
    {
     "data": {
      "text/plain": [
       "'davd id is dave'"
      ]
     },
     "execution_count": 26,
     "metadata": {},
     "output_type": "execute_result"
    }
   ],
   "source": [
    "string04 = \"Davd Id is dave\"\n",
    "string04.upper() # 대문자 출력 ='DAVD ID IS DAVE'\n",
    "string04.lower() # 소문자 출력 ='davd id is dave'\n"
   ]
  },
  {
   "cell_type": "code",
   "execution_count": 33,
   "id": "aaa04df3-51f2-4b08-9666-63de8b2151a1",
   "metadata": {},
   "outputs": [
    {
     "data": {
      "text/plain": [
       "['Dave', 'goes', 'to', 'Korea']"
      ]
     },
     "execution_count": 33,
     "metadata": {},
     "output_type": "execute_result"
    }
   ],
   "source": [
    "string06 = \"Dave goes to Korea\"\n",
    "string06.split()[3] # = Korea, () 뒤에 대괄호 숫자 넣으면 그 위치에 있는 값 도출\n",
    "string06.split(\" \")\n",
    "\n",
    "string07 = (\"Dave/goes/to/Korea\")\n",
    "string07.split(\"/\")"
   ]
  },
  {
   "cell_type": "code",
   "execution_count": 37,
   "id": "8487ab75-5790-4e66-8bac-0bf63d8ec852",
   "metadata": {},
   "outputs": [
    {
     "name": "stdout",
     "output_type": "stream",
     "text": [
      "[10, 11, 12, 13, 14]\n"
     ]
    }
   ],
   "source": [
    "string = \"10,11,12,13,14\"\n",
    "split_string = string.split(\",\")\n",
    "split_string\n",
    "for index, split_item in enumerate(split_string) :\n",
    "    #rint(index, split_item)\n",
    "    split_string[index] = int(split_item)\n",
    "print(split_string)"
   ]
  },
  {
   "cell_type": "code",
   "execution_count": 43,
   "id": "cfffddda-3ff0-4016-9cf0-85c9c620632e",
   "metadata": {},
   "outputs": [
    {
     "data": {
      "text/plain": [
       "'David'"
      ]
     },
     "execution_count": 43,
     "metadata": {},
     "output_type": "execute_result"
    }
   ],
   "source": [
    "string08 = \"Dave goes to Korea\"\n",
    "string08.replace(\"Dave\", \"David\")\n",
    "\n",
    "string09 = \"(David)\"\n",
    "string09.replace(\"(\", \"\")\n",
    "string10 = \"(David)\"\n",
    "string10.replace(\"()\", \"\")\n",
    "\n",
    "string11 = \"(David)\"\n",
    "string11.replace(\"(\",\"\").replace(\")\",\"\")\n",
    "string12 = string11.replace(\"(\",\"\")\n",
    "string12.replace(\")\",\"\")"
   ]
  }
 ],
 "metadata": {
  "kernelspec": {
   "display_name": "Python [conda env:base] *",
   "language": "python",
   "name": "conda-base-py"
  },
  "language_info": {
   "codemirror_mode": {
    "name": "ipython",
    "version": 3
   },
   "file_extension": ".py",
   "mimetype": "text/x-python",
   "name": "python",
   "nbconvert_exporter": "python",
   "pygments_lexer": "ipython3",
   "version": "3.13.5"
  }
 },
 "nbformat": 4,
 "nbformat_minor": 5
}
