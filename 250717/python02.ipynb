{
 "cells": [
  {
   "cell_type": "markdown",
   "id": "7d03f9a0-f25f-403e-bda0-613be9998cd7",
   "metadata": {},
   "source": [
    "#### 문자열 관련 함수 리스트\n",
    "- count : 문자열 객체 안에 있는 특정 문자 갯수 세기\n",
    "- index : 문자열에 있는 특정 문자으 인덱스 위치를 알려주기\n",
    "- find : 문자열에 있는 특정 문자의 인덱스를 찾아오긴 하나, 만약 존재하지 않는다면 에러를 발생하지 않고 -1을 발생, 1은 발생시키지 않는다\n",
    "- join : 문자열 사이에 다른 문자를 끼워 넣기\n",
    "- strip : 문자열 앞뒤에 공백을 지우기\n",
    "- upper : 소문자를 대문자로 변경하기\n",
    "- lower : 대문자를 소문자로 변경하기\n",
    "- split : 문자열 내 특정 문자를 기준으로 나누기\n",
    "- replace : "
   ]
  },
  {
   "cell_type": "code",
   "execution_count": 8,
   "id": "f683be1b-0e3d-4d94-b4f5-5c03adacbf3d",
   "metadata": {},
   "outputs": [
    {
     "data": {
      "text/plain": [
       "2"
      ]
     },
     "execution_count": 8,
     "metadata": {},
     "output_type": "execute_result"
    }
   ],
   "source": [
    "data = \"Dave David\" # => 문자열 = 문자\n",
    "data.count(\"Dave\")\n",
    "data.count(\"D\")"
   ]
  },
  {
   "cell_type": "code",
   "execution_count": 13,
   "id": "80a1ecd5-cad8-4c2b-a8d7-71dc4ad38e10",
   "metadata": {},
   "outputs": [
    {
     "data": {
      "text/plain": [
       "11"
      ]
     },
     "execution_count": 13,
     "metadata": {},
     "output_type": "execute_result"
    }
   ],
   "source": [
    "string = \"Dave ID is dave\"\n",
    "string.index(\"D\")\n",
    "string.index(\"d\")\n",
    "#string.index(\"x\")"
   ]
  },
  {
   "cell_type": "code",
   "execution_count": 21,
   "id": "aebad742-f403-4631-89e3-036ce98309cf",
   "metadata": {},
   "outputs": [
    {
     "name": "stdout",
     "output_type": "stream",
     "text": [
      "x는 string 문자열 객체 안에 없습니다.\n"
     ]
    }
   ],
   "source": [
    "string01 = \"Dave ID is dave\"\n",
    "string01.find(\"x\")\n",
    "string01.find(\"a\")\n",
    "if string01.find(\"x\")== -1 :\n",
    "    print(\"x는 string 문자열 객체 안에 없습니다.\")"
   ]
  },
  {
   "cell_type": "code",
   "execution_count": 18,
   "id": "81f0e68e-f140-4fdb-9c8a-d09d20844899",
   "metadata": {},
   "outputs": [
    {
     "data": {
      "text/plain": [
       "'1,2,3,4,5'"
      ]
     },
     "execution_count": 18,
     "metadata": {},
     "output_type": "execute_result"
    }
   ],
   "source": [
    "string02 = \"12345\"\n",
    "comma= \",\"\n",
    "comma.join(string02) #넣고자하는 값.join(인자값=적용하고자 하는 값)"
   ]
  },
  {
   "cell_type": "code",
   "execution_count": 22,
   "id": "57d4a769-7e44-481c-a62e-031ec1c98556",
   "metadata": {},
   "outputs": [
    {
     "data": {
      "text/plain": [
       "'      Dave03'"
      ]
     },
     "execution_count": 22,
     "metadata": {},
     "output_type": "execute_result"
    }
   ],
   "source": [
    "data01 = \" Dave \"\n",
    "data01.strip()\n",
    "\n",
    "data02 = \"       Dave02 \" # lstrip 좌측 공백만 지움\n",
    "data02.lstrip()\n",
    "\n",
    "data03 = \"      Dave03   \" # rstrip 우측 공백만 지움\n",
    "data03.rstrip()"
   ]
  },
  {
   "cell_type": "code",
   "execution_count": 28,
   "id": "3b66d694-9871-4cde-a907-207db9d6f788",
   "metadata": {},
   "outputs": [
    {
     "data": {
      "text/plain": [
       "'Dave'"
      ]
     },
     "execution_count": 28,
     "metadata": {},
     "output_type": "execute_result"
    }
   ],
   "source": [
    "string03 = \"     999999999999(Dave)888888888    \"\n",
    "string03.strip(\" 98()\") # 여백+글자혹은 숫자 하면 싹다 지워짐 (그냥 하나하나 입력해주면 됨)"
   ]
  },
  {
   "cell_type": "code",
   "execution_count": 30,
   "id": "7a2e3343-d9fb-491e-8497-c2e266c165b8",
   "metadata": {},
   "outputs": [
    {
     "data": {
      "text/plain": [
       "'dave id is dave'"
      ]
     },
     "execution_count": 30,
     "metadata": {},
     "output_type": "execute_result"
    }
   ],
   "source": [
    "string04 = \"Dave ID is dave\"\n",
    "string04.upper()  #대문자\n",
    "string04.lower()  #소문자"
   ]
  },
  {
   "cell_type": "code",
   "execution_count": 36,
   "id": "82883f40-abd1-411e-b3c7-c7f2588aa9d5",
   "metadata": {},
   "outputs": [
    {
     "data": {
      "text/plain": [
       "['Dave', 'goes', 'to', 'Korea']"
      ]
     },
     "execution_count": 36,
     "metadata": {},
     "output_type": "execute_result"
    }
   ],
   "source": [
    "string06 = \"Dave goes to Korea\"\n",
    "string06.split() [3]# 값을 아무것도 넣지 않으면 공백기준으로 됨.\n",
    "string06.split(\" \")\n",
    "\n",
    "string07 = (\"Dave/goes/to/Korea\")\n",
    "string07.split(\"/\")"
   ]
  },
  {
   "cell_type": "markdown",
   "id": "a17b4b6b-5dc0-4d1c-90bc-6ad5e5026c9b",
   "metadata": {},
   "source": [
    "#### 문자열 10,11,12,13,14 해당 값을 리스트 자료형태로 변환시켜보세요!!\n"
   ]
  },
  {
   "cell_type": "code",
   "execution_count": 63,
   "id": "253a43be-b2f8-4920-af06-441f40f0fd94",
   "metadata": {},
   "outputs": [
    {
     "name": "stdout",
     "output_type": "stream",
     "text": [
      "['10, 11, 12, 13, 14']\n"
     ]
    }
   ],
   "source": [
    "data = \"10, 11, 12, 13, 14\"\n",
    "data.strip()\n",
    "data_list = [data.strip()]\n",
    "type(data_list)\n",
    "print(data_list)"
   ]
  },
  {
   "cell_type": "code",
   "execution_count": 50,
   "id": "bb87029b-4614-44c9-9cc9-e037e72dcbc7",
   "metadata": {},
   "outputs": [
    {
     "name": "stdout",
     "output_type": "stream",
     "text": [
      "[10, 11, 12, 13, 14]\n"
     ]
    }
   ],
   "source": [
    "string = \"10, 11, 12, 13, 14\"\n",
    "split_string = string.split(\",\")\n",
    "#print(split_string)\n",
    "\n",
    "for index, split_item in enumerate(split_string) :\n",
    "    split_string[index] = int(split_item)\n",
    "print(split_string)"
   ]
  },
  {
   "cell_type": "code",
   "execution_count": 61,
   "id": "cdc045eb-3d80-4afd-867f-a0fd2e4702af",
   "metadata": {},
   "outputs": [
    {
     "data": {
      "text/plain": [
       "'David'"
      ]
     },
     "execution_count": 61,
     "metadata": {},
     "output_type": "execute_result"
    }
   ],
   "source": [
    "string08 = \"Dave goes to Korea\"\n",
    "string08.replace(\"Dave\", \"David\")\n",
    "\n",
    "string09 = \"(David)\"\n",
    "string09.replace(\"(\", \"\")\n",
    "string10 = \"(David)\"\n",
    "string09.replace(\"()\", \"\")\n",
    "\n",
    "# Method Chaining\n",
    "string11 = \"(David)\"\n",
    "string11.replace(\"(\",\"\").replace(\")\",\"\")\n",
    "\n",
    "string12 = string11.replace(\"(\",\"\")\n",
    "string12.replace(\")\",\"\")"
   ]
  }
 ],
 "metadata": {
  "kernelspec": {
   "display_name": "Python [conda env:base] *",
   "language": "python",
   "name": "conda-base-py"
  },
  "language_info": {
   "codemirror_mode": {
    "name": "ipython",
    "version": 3
   },
   "file_extension": ".py",
   "mimetype": "text/x-python",
   "name": "python",
   "nbconvert_exporter": "python",
   "pygments_lexer": "ipython3",
   "version": "3.13.5"
  }
 },
 "nbformat": 4,
 "nbformat_minor": 5
}
