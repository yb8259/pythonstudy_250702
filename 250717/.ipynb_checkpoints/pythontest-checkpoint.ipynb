{
 "cells": [
  {
   "cell_type": "markdown",
   "id": "984c04b5-d20b-4508-9f7d-db105267e0d4",
   "metadata": {},
   "source": [
    "#### 전달해드린 엑셀파일을 주피터 노트북으로 가져오시고, B열에 입력된 각각의 주민등록 번호의 뒷자리 8자리를 모두 *표시해주세요. 그리고 주피터 노트북에 출력해주세요.\n"
   ]
  },
  {
   "cell_type": "code",
   "execution_count": 11,
   "id": "9ad7d213-0d9e-4231-8d76-1d413b8ae206",
   "metadata": {},
   "outputs": [
    {
     "name": "stdout",
     "output_type": "stream",
     "text": [
      "주민등록번호\n",
      "800215-*******\n",
      "821030-*******\n",
      "841230-*******\n",
      "790903-*******\n",
      "800125-*******\n",
      "820612-*******\n"
     ]
    }
   ],
   "source": [
    "# 1. openpyxl로 엑셀불러오고 값을 찾아오고 변수 만들기!\n",
    "# 2. 워크 몇번째 워크시크 불러올지 판단하기 => 첫번째면 .active 두번째면 work_book.sheetnames[1], work_book[sheet_name]\n",
    "# 3. 반복문 쓰고 sub사용해서 맞게 안배하고 프린트하기!\n",
    "\n",
    "import openpyxl\n",
    "import re # 정규 표현식\n",
    "work_book = openpyxl.load_workbook(\"data_kr.xlsx\")\n",
    "#print(work_book)\n",
    "#work_sheet = work_book.worksheets[1] -> 두번째 시트\n",
    "#work_sheet = work_book.active\n",
    "work_sheet = work_book[\"주민번호\"]\n",
    "\n",
    "for each_row in work_sheet.rows :\n",
    "    # print(each_row[1].value)\n",
    "    print(re.sub(\"-[0-9]{7}\",\"-*******\", each_row[1].value))# 원본값을 찾아오고 세번째 인자값을 찾아오면\n",
    "#sub(\"[패턴]{반복되는 숫자}\",\"바꾸고 싶은 것\", 그것이 위치한 시트)\n"
   ]
  }
 ],
 "metadata": {
  "kernelspec": {
   "display_name": "Python [conda env:base] *",
   "language": "python",
   "name": "conda-base-py"
  },
  "language_info": {
   "codemirror_mode": {
    "name": "ipython",
    "version": 3
   },
   "file_extension": ".py",
   "mimetype": "text/x-python",
   "name": "python",
   "nbconvert_exporter": "python",
   "pygments_lexer": "ipython3",
   "version": "3.13.5"
  }
 },
 "nbformat": 4,
 "nbformat_minor": 5
}
