{
 "cells": [
  {
   "cell_type": "markdown",
   "id": "9ba925a7-90f5-438f-a005-a47dbb677ade",
   "metadata": {},
   "source": [
    "### SQL 학습 전, 반드시 알고가야하는 개념정의 \n",
    "1. 데이터 (Data) *\n",
    "2. 데이터베이스 (DB) *\n",
    "3. 스키마 (schema) +\n",
    "4. . 테이블 (table) +\n",
    "5. SQL"
   ]
  },
  {
   "cell_type": "markdown",
   "id": "ca03ac57-1820-4753-b8a5-471a4bb116ce",
   "metadata": {},
   "source": [
    "#### 1. 데이터 (Data)\n",
    "- 수집 가능한 값, 사실, 기록물 등의 원초적인 정보\n",
    "- 숫자 : 23, 5.9\n",
    "- 문자 : \"David\", \"2025-07-31\"\n",
    "- 상태 : True, False\n",
    "- 데이터 그 자체로는 의미가 부족 -> 구조화가 되어야 데이터는 비로소 가치를 갖게 됨"
   ]
  },
  {
   "cell_type": "markdown",
   "id": "66d10595-a6cc-441e-8696-fa7cc8299795",
   "metadata": {},
   "source": [
    "#### 2. 데이터베이스 (Database = DB)\n",
    "- 여러가지 다양한 데이터를 구조적이고 체계적으로 저장 및 관리할 수 있도록 해주는 저장소\n",
    "- 종류\n",
    "  - 관계형 데이터베이스 (RDBMS -> Oracle // MySQL) 정형화된 정보 관리 (회원, 주문 등),관계가 중요하고 일관성 필수\n",
    "  - 비관계형 데이터베이스(DMBS -> MongoDB) 데이터가 유동적이고 빠르게 바뀜, 속도와 유연성이 더 중요\n",
    "- 오프라인 가게를 운영하는데 일일 고객 주문정보, 특정 기간동안 사용한 재고 수령 등"
   ]
  },
  {
   "cell_type": "markdown",
   "id": "b532cc15-f25b-4544-9bb2-8a9b79c2b6bc",
   "metadata": {},
   "source": [
    "#### 3. 스키마 (Schema)\n",
    "- 데이터베이스의 구조를 정의한 것\n",
    "- 데이터베이스를 어떻게 구조화할 것인지를 정의해놓은 일종의 설계도\n",
    "- 스키마는 데이터베이스 내부에 존재하는 논리적 구조"
   ]
  },
  {
   "cell_type": "markdown",
   "id": "f3683e2d-50da-47da-84de-81d1fda2dbf8",
   "metadata": {},
   "source": [
    "#### 4. 테이블 (Table)\n",
    "- 관계형 데이터베이스 안에 저장된 실제 데이터의 저장 단위\n",
    "- 구성요소\n",
    "    - 열 (Column) => 속성 (ex. 고객의 나이, 성별, 이메일 )\n",
    "    - 행 (Row) => 레코드 (ex. 한 명의 고객)"
   ]
  },
  {
   "cell_type": "markdown",
   "id": "116d7625-8b87-41cd-a083-d4857f7045f6",
   "metadata": {
    "jp-MarkdownHeadingCollapsed": true
   },
   "source": [
    "#### 5. SQL (Structured Query Language)\n",
    "- 관계형 데이터베이스를 정의, 조작, 제어 할 수 있도록 도와주는 표준 언어\n",
    "- 종류\n",
    "    - DDL (Data Definition Language) : CREATE, DROP, ALTER\n",
    "    - DML (Data Manipulation Language) : SELECT, INSERT, UPDATE, DELETE\n",
    "    - DCL (Data Control Language) : GRANT, REVOKE"
   ]
  },
  {
   "cell_type": "markdown",
   "id": "2eb60f86-dd1b-4d2f-bbb1-af7bf008d4f6",
   "metadata": {},
   "source": [
    "#### 지금까지 설명한 내용에 대한 정리 & 요약\n",
    "- 데이터 : 가장 하위 개념. 원초적인 정보 의미\n",
    "- 테이블 : 해당 데이터를 담은 (*구조화) 틀\n",
    "- 스키마 : 이러한 테이블 간 관계를 정의한 설계도면\n",
    "- 데이터베이스 : 스키마의 개념 속에 존재하는 테이블이 포함된 상위 구조 및 개념\n",
    "- SQL : 이 모든 구조를 만들고, 조작하고, 제어할 수 있도록 해주는 언어"
   ]
  },
  {
   "cell_type": "markdown",
   "id": "69c81262-f2a1-4fec-a46b-66a37105e9f2",
   "metadata": {},
   "source": [
    "#### 지금까지 학습했던 데이터 수집 관련 프로그램 정의\n",
    "- 아나콘다 (Anaconda) : 파이썬 통합 관리 플랫폼\n",
    "    - 역할 : 파이썬 관련 다양한 라이브러리, 실행환경, 패키지 등을 종합적으로 제공해주는 플랫폼\n",
    "- 쥬피터 노트북 (Jupyter Notebook) : 파이썬 언어 코딩 프로그램\n",
    "- MySQL : 관계형 데이터베이스 구조 공간을 설계하도록 지원해주는 관계형 데이터베이스 전문 프로그램\n",
    "- MySQL WorkBench : MySQL을 시각적으로 보면서 테이블을 설계하고 각각의 테이블 간 관계를 설정할 수 있도록 도와주는 GUI방식의 보조 프로그램"
   ]
  },
  {
   "cell_type": "markdown",
   "id": "22c1b94a-98bb-4985-993a-307b28b6403f",
   "metadata": {},
   "source": [
    "#### 프로그래밍 영역에서 꼭 알고 있어야 하는 상식\n",
    "- C : Create\n",
    "- R : Read\n",
    "- U : Update\n",
    "- D : Delete"
   ]
  },
  {
   "cell_type": "markdown",
   "id": "fe23acad-3e2c-4a6c-9a5d-d9b65495e5ef",
   "metadata": {},
   "source": [
    "#### 테이블 생성\n",
    "CREATE TABLE 테이블 이름 (\n",
    "    컬럼명 데이터형,\n",
    "    컬럼명 데이터형\n",
    "    ...\n",
    "    기본키 (*PRIMARY KEY)\n",
    ")"
   ]
  },
  {
   "cell_type": "markdown",
   "id": "ea873242-6a77-4f54-9b26-dfa58e6de0dc",
   "metadata": {},
   "source": [
    "- Dave 라는 DB 생성\n",
    "- 해당 DB안에 다음과 같은 속성을 가지고 있는 테이블을 생성하세요.\n",
    "- id, name, modelnumber, series\n",
    "- id는 양의 정수값 & 필수값 & 자동증가\n",
    "- name은 최대 50자까지 가능한 문자열 & 필수값\n",
    "- modelnumber는 최대 15자까지 가능한 문자열 & 필수값\n",
    "- series는 최대 30자까지 가능한 문자열 & 필수값\n",
    "- 고유식별키는 id"
   ]
  },
  {
   "cell_type": "markdown",
   "id": "8e03daf6-94a5-40e8-a3c6-d0a288dc52e5",
   "metadata": {},
   "source": [
    "1. name의 최대 문자입력 값을 20으로 변경\n",
    "2. modelnumber 속성명을 model_number로 변경&최대 10자까지로 변경\n",
    "3. series속성명을 model-type 으로 변경 &최대 10자까지로 변경"
   ]
  },
  {
   "cell_type": "markdown",
   "id": "95f577f0-009c-435d-a31e-2895cafb9fe4",
   "metadata": {},
   "source": [
    "1. 기존 데이터베이스 내 mytable을 삭제하세요.\n",
    "2. model_info 라는 새로운 테이블을 만들어주세요.\n",
    "3. 해당 테이블 안에는 id, name, moder_num, model_type의 속성값을 설정해주세요.\n",
    "4. 고유키는 id여야 하며, 필수값, 자동증가 속성 부여해주세요.\n",
    "5. name은 최대 20자까지 허용가능, 필수\n",
    "6. model_num는 최대 10자까지 허용가능, 필수\n",
    "7. model_type은 최대 10자까지 허용가능, 필수"
   ]
  },
  {
   "cell_type": "markdown",
   "id": "a20b4415-48bf-4ce0-baeb-218ca7b8eb47",
   "metadata": {},
   "source": [
    "### DDL\n",
    "- CREATE DATABASE dbname\n",
    "- CREATE DATABASE IF NOT EXISTS dbname \"만약 이 값이 존재하지 않다면 만들어줘, 있으면 넘어가~\"\n",
    "- SHOW DATABASES\n",
    "- USE dbname\n",
    "- CREATE TABLE tablename\n",
    "- DROP TABLE tablename\n",
    "- DROP TABLE IF EXISTS tablename \"만약 이 값이 존재한다면 삭제해줘.없으면 그냥 넘어가~\"\n",
    "- ALTER TABLE tablename ADD COLUMN 속성명 속성값; 추가\n",
    "- ALTER TABLE tablename MODIFY COLUMN 속성명 속성값; 변경\n",
    "- ALTER TABLE tablename CHANGE COLUMN 속성명A 속성명B 속성값; 변경\n",
    "- ALTER TABLE tablename DROP COLUMN 속성명; 속성삭제\n",
    "- "
   ]
  },
  {
   "cell_type": "markdown",
   "id": "5b01b771-8494-43be-9c6c-b6dcc9f44980",
   "metadata": {},
   "source": [
    "### DML\n",
    "- INSERT INTO students VALUES (Field value, Field value,Field value,Field value); 저장되어 있는 순서대로!, DESC 테이블 보고 확인하기\n",
    "- INSERT INTO students (Field, Field, Field)\n",
    "  VALUES (Field value, Field value,Field value,Field value);\n",
    "  ```\n",
    "- INSERT INTO students (Field, Field, Field) VALUES\n",
    "  (Field value, Field value, Field value, Field value),\n",
    "  (Field value, Field value, Field value, Field value);\n",
    "  ```\n",
    "- DESC tablename;\n",
    "- SELECT * FROM tablename;\n",
    "- SELECT column FROM tablename;\n",
    "- SELECT column, column FROM tablename;\n",
    "- SELECT * FROM tablename WHERE column = value;\n",
    "- \"=\" / \">\" / \"!=\" / \"<>\"\n",
    "- SELECT * FROM tablename WHERE column >= value AND column = value; 둘 다 해당되어야만 가능\n",
    "- SELECT * FROM tablename WHERE column >= value OR column = value; 둘중에 하나만이어도 가능\n",
    "- SELECT * FROM tablename WHERE name LIKE \"%value%\"; 앞뒤 몇개든 상관 없음.\n",
    "- SELECT * FROM tablename WHERE name LIKE \"_value_\"; 정확한 개수 카운드.\n",
    "- UPDATE tablename SET column = value; \n",
    "- UPDATE tablename SET column = \"윤대협\" WHERE id = 1; PRIMARY KEY여야지만 가능, Safe Mode로 보통 막아줌 \n",
    "- UPDATE tablename SET column = value, column = value WHERE PRIMARY KEY = 1; PRIMARY KEY여야지만 가능, Safe Mode로 보통 막아줌 , 여러값 가능\n",
    "- DELETE FROM tablename\n",
    "- DELETE FROM tablename WHERE PRIMARY KEY = value;"
   ]
  },
  {
   "cell_type": "markdown",
   "id": "3c12d9f1-770b-4fc3-a369-c9a7d1cae1e3",
   "metadata": {},
   "source": [
    "### DCL"
   ]
  },
  {
   "cell_type": "markdown",
   "id": "5e280bb4-e782-4e3b-ba10-f7b70bd2ac38",
   "metadata": {},
   "source": [
    "## 회원 정보 관리 시스템을 구축하기 위한 멤버십 db를 하나 만들어주세요.\n",
    "- 1개의 회원 번호, 이름, 이메일, 생년월일, 가입일시, 포인트, 성별이 반드시 속성으로 포함되어있어야 합니다.\n",
    "- 최소 3명의 회원 정보가 삽입되도록 해주세요.\n",
    "- 해당 db 및 테이블이 모두 설계되었다면, 고객 포인트가 1000이상인 회원만 조회할 수 있도록 코드를 작성해주세요.\n",
    "- 이메일 도메인이 @google.com인 사람만 조회할 수 있도록 코드를 작성해주세요."
   ]
  },
  {
   "cell_type": "markdown",
   "id": "2938c7ea-6717-4b70-b67e-dea3d14f6a1b",
   "metadata": {},
   "source": [
    "### SELECT 문법 :\n",
    "- LIMIT : 가져올 수 있는 데이터 중 일부만 가져오고 싶을 때\n",
    "- COUNT(*집계함수) : 데이터의 총 개수를 확인하고 싶을 때\n",
    "- DISTINCT : 특정 값을 가져올 때, 중복된 값을 출력하지 않고 싶을 때 -> 범주형 데이터\n",
    "- SUM : 해당 컬럼값의 합계 -> 수치형 데이터\n",
    "- AVG : 해당 컬럼값의 평균 -> 수치형 데이터\n",
    "- MAX : 해당 컬럼값의 최대값 -> 수치형 데이터\n",
    "- MIN : 해당 컬럼값의 최소값 -> 수치형 데이터\n",
    "- GROUP BY : 특정 컬럼값을 기반으로 그룹핑하기\n",
    "  - SELECT rating FROM film GROUP BY rating -> film이라는 테이블에서 rating 값을 찾아오는데, 해당 rating의 값을 그룹화해서 찾아와라!\n",
    "  - SELECT COUNT(*) FROM film GROUP BY rating -> 각 rating 값의 종류별로 몇개의 데이터가 있는지 확인\n",
    "  - SELECT COUNT(*) FROM film WHERE 조건문 GROUP BY rating -> 특정 조건에 맞는 데이터 중 rating 값의 종류별로 몇 개의 데이터가 있는지 확인\n",
    "- ORDER BY : 특정 컬럼값을 기준으로 데이터를 정렬(*오름차순 = ASC|| 내림차순 = DESC)\n",
    "  - 만약 DESC, ASC 중 그 어떤 값도 입력하지 않는다면, 기본 디폴트 값은 ASC정렬로 실행\n",
    " \n",
    "```\n",
    "```\n",
    "```\n",
    "SELECT 컬럼명\n",
    "FROM 테이블명\n",
    "WHERE 조건절\n",
    "GROUP BY 컴럼\n",
    "ORDER BY 컬럼\n",
    "LIMIT 출력갯수\n",
    "```"
   ]
  },
  {
   "cell_type": "markdown",
   "id": "683f1dff-fe55-4543-a71a-338d8053f40b",
   "metadata": {},
   "source": [
    "## Data 대분류 리스트 :\n",
    "1) 수치형 데이터 : (1, 2, 1.1 등)\n",
    "2) 범주형 데이터 : (남/여, 미성년/성인 등) -》중복값 제거해야하는 경우가 많음"
   ]
  },
  {
   "cell_type": "markdown",
   "id": "e1e61414-6acd-4316-8e4c-f38115385c43",
   "metadata": {},
   "source": [
    "### SQL 중급 단계\n",
    "1) FOREIGN KEY (외래 키) <-> PRIMARY KEY (고유 키)"
   ]
  }
 ],
 "metadata": {
  "kernelspec": {
   "display_name": "Python [conda env:base] *",
   "language": "python",
   "name": "conda-base-py"
  },
  "language_info": {
   "codemirror_mode": {
    "name": "ipython",
    "version": 3
   },
   "file_extension": ".py",
   "mimetype": "text/x-python",
   "name": "python",
   "nbconvert_exporter": "python",
   "pygments_lexer": "ipython3",
   "version": "3.13.5"
  }
 },
 "nbformat": 4,
 "nbformat_minor": 5
}
