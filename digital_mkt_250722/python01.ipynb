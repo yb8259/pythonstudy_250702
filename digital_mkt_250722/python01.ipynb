{
 "cells": [
  {
   "cell_type": "code",
   "execution_count": 1,
   "id": "54e1145b-94f1-4600-90d1-361cb2c630f8",
   "metadata": {},
   "outputs": [
    {
     "name": "stdout",
     "output_type": "stream",
     "text": [
      "Collecting konlpy\n",
      "  Downloading konlpy-0.6.0-py2.py3-none-any.whl.metadata (1.9 kB)\n",
      "Collecting JPype1>=0.7.0 (from konlpy)\n",
      "  Downloading jpype1-1.6.0-cp313-cp313-win_amd64.whl.metadata (5.1 kB)\n",
      "Requirement already satisfied: lxml>=4.1.0 in c:\\users\\user\\anaconda3\\lib\\site-packages (from konlpy) (5.3.0)\n",
      "Requirement already satisfied: numpy>=1.6 in c:\\users\\user\\anaconda3\\lib\\site-packages (from konlpy) (2.1.3)\n",
      "Requirement already satisfied: packaging in c:\\users\\user\\anaconda3\\lib\\site-packages (from JPype1>=0.7.0->konlpy) (24.2)\n",
      "Downloading konlpy-0.6.0-py2.py3-none-any.whl (19.4 MB)\n",
      "   ---------------------------------------- 0.0/19.4 MB ? eta -:--:--\n",
      "   --------- ------------------------------ 4.7/19.4 MB 23.5 MB/s eta 0:00:01\n",
      "   ------------------- -------------------- 9.4/19.4 MB 23.2 MB/s eta 0:00:01\n",
      "   ----------------------------- ---------- 14.2/19.4 MB 23.6 MB/s eta 0:00:01\n",
      "   ---------------------------------------  19.1/19.4 MB 23.2 MB/s eta 0:00:01\n",
      "   ---------------------------------------- 19.4/19.4 MB 22.7 MB/s eta 0:00:00\n",
      "Downloading jpype1-1.6.0-cp313-cp313-win_amd64.whl (355 kB)\n",
      "Installing collected packages: JPype1, konlpy\n",
      "\n",
      "   -------------------- ------------------- 1/2 [konlpy]\n",
      "   ---------------------------------------- 2/2 [konlpy]\n",
      "\n",
      "Successfully installed JPype1-1.6.0 konlpy-0.6.0\n",
      "Note: you may need to restart the kernel to use updated packages.\n"
     ]
    }
   ],
   "source": [
    "pip install konlpy "
   ]
  },
  {
   "cell_type": "code",
   "execution_count": 6,
   "id": "5ad0420f-99c7-4c22-a9e4-821661d972bf",
   "metadata": {},
   "outputs": [
    {
     "name": "stdout",
     "output_type": "stream",
     "text": [
      "엑셀 저장 완료 : kurly_reviews.xlsx\n"
     ]
    }
   ],
   "source": [
    "from selenium import webdriver\n",
    "from selenium.webdriver.chrome.options import Options #셀레니움에 웹드라이브에 크롬을 통해서 내부적인 옵션이 설정 되어있어야 함 class!\n",
    "from bs4 import BeautifulSoup # 파싱을 위한 뷰티풀슙~\n",
    "from openpyxl import Workbook\n",
    "from konlpy.tag import Okt   #코리안 내츄럴 파이썬. 오픈 코리안 텍스트\n",
    "from collections import Counter # 수집하고 숫자 카운트? 리스트형식\n",
    "import time #싱글페이지 앱일 경우엔 js로 만드는데 너무 짧은 시간에 페이지로 가면 데이터를 찾아오지 않은 상태에서 랜딩하기 떄문 -> 그걸 방지하기 위해~\n",
    "\n",
    "options= Options() # 옵션즈로부터 전달받은 인자값을 사용할 수 있다\n",
    "options.add_argument(\"--no-sandbox\") # 방해하지마! 모래상자개념 => 내부에서 보안정책 시행되게끔 한게 샌드박스\n",
    "options.add_argument(\"--disable-dev-shm-usage\") # 어디에 넣어놓고 다시 찾아올 수 있음, 개발자도구안에 가상메모리 공간에 저장 못할 수 있기 떄문에 우리의 메모리공간을 써라 not 브라우저 메모리공간!\n",
    "options.add_argument(\"--headless\") # 새창 안뜨고 몰래 값 도출!\n",
    "\n",
    "driver = webdriver.Chrome(options=options) # 위에 옵션값을 가지고 있는 브라우저를 통해 컬리에 들어가야 한다\n",
    "\n",
    "url = \"https://www.kurly.com/goods/1000338161\"\n",
    "test = driver.get(url)\n",
    "time.sleep(5)\n",
    "\n",
    "soup = BeautifulSoup(driver.page_source, \"html.parser\")\n",
    "reviews = soup.select(\"p.css-y49dcn.e36z05c13\")\n",
    "review_lists = [review.get_text().strip() for review in reviews] #태그가 필요 없기 떄문에\n",
    "\n",
    "#print(review_lists)\n",
    "driver.quit() # 다 하면 나가자! \n",
    "\n",
    "wb = Workbook()\n",
    "ws = wb.active\n",
    "ws.title = \"kurly Reviews\"\n",
    "ws.append([\"리뷰내용\"])\n",
    "\n",
    "for item in review_lists :\n",
    "    ws.append([item])\n",
    "\n",
    "okt = Okt()\n",
    "all_text = \" \".join(review_lists)\n",
    "nouns = okt.nouns(all_text) #명사만 찾아오세요\n",
    "filtered_nouns = [n for n in nouns if len(n) > 1]\n",
    "#print(filtered_nouns)\n",
    "count = Counter(filtered_nouns)\n",
    "\n",
    "ws_keywords = wb.create_sheet(\"Keyword Frequency\")\n",
    "ws_keywords.append([\"키워드\", \"빈도수\"])\n",
    "for word, freq in count.most_common(30) : # 위로부터 () 만큼 카운트  / 단어와 빈도수\n",
    "    ws_keywords.append([word, freq])\n",
    "\n",
    "wb.save(\"kurly_reviews.xlsx\")\n",
    "print(\"엑셀 저장 완료 : kurly_reviews.xlsx\")"
   ]
  },
  {
   "cell_type": "code",
   "execution_count": 13,
   "id": "0bdba98f-0cc2-4ad5-a0e8-c6f9c871c0bf",
   "metadata": {},
   "outputs": [
    {
     "name": "stdout",
     "output_type": "stream",
     "text": [
      "완료 : 전체 키워드 분석 결과 저장됨\n"
     ]
    }
   ],
   "source": [
    "from openpyxl import load_workbook # 기존 엑셀 파일 불러옴\n",
    "from konlpy.tag import Okt\n",
    "from collections import Counter\n",
    "\n",
    "wb = load_workbook(\"연관키워드 20250722 1448.xlsx\")\n",
    "ws = wb.active \n",
    "\n",
    "texts = [row[0]for row in ws.iter_rows(min_row = 2, max_col = 1, values_only= True) if row [0]] # row에 값이 있다면-> 답 for (어떠한 닶) if ~하면 \n",
    "\n",
    "okt = Okt()\n",
    "all_text = \" \".join(texts) # 리스트였던 애들이 통으로 도출됨\n",
    "nouns = okt.nouns(all_text)\n",
    "filtered_nouns = [n for n in nouns if len(n) > 1]\n",
    "count = Counter(filtered_nouns)\n",
    "\n",
    "ws_keywords = wb.create_sheet(\"키워드 전체분석\")\n",
    "ws_keywords.append([\"명사\", \"빈도수\"])\n",
    "for word, freq in sorted(count.items(), key=lambda x : x[1], reverse = True): # 내림차순 정렬, lambda 익명함수 x에 값을 넣어라..?ㅋ 트루면 내림 펄스는 올림\n",
    "    ws_keywords.append([word,freq])\n",
    "\n",
    "wb.save(\"연관키워드_분석결과.xlsx\")\n",
    "print(\"완료 : 전체 키워드 분석 결과 저장됨\")"
   ]
  },
  {
   "cell_type": "code",
   "execution_count": 22,
   "id": "738dd49c-5b7c-4655-8bfb-154cc2852eb6",
   "metadata": {},
   "outputs": [
    {
     "name": "stdout",
     "output_type": "stream",
     "text": [
      "완료 : 전체 키워드 분석 결과 저장됨\n"
     ]
    }
   ],
   "source": [
    "from openpyxl import load_workbook\n",
    "from konlpy.tag import Okt\n",
    "from collections import Counter\n",
    "\n",
    "wb = load_workbook(\"연관키워드 20250722 1551.xlsx\")\n",
    "ws = wb.active\n",
    "\n",
    "texts = [row[0]for row in ws.iter_rows(min_row = 2, max_col= 1, values_only= True) if row [0]]\n",
    "\n",
    "okt = Okt()\n",
    "all_text = \" \".join(texts)\n",
    "nouns = okt.nouns(all_text)\n",
    "filtered_nouns = [n for n in nouns if len(n)>1]\n",
    "count = Counter(filtered_nouns)\n",
    "\n",
    "ws_keywords = wb.create_sheet(\"키워드 전체분석\")\n",
    "ws_keywords.append([\"명사\", \"빈도수\"])\n",
    "for word, freq in sorted(count.items(), key=lambda x:x[1], reverse = True) :\n",
    "    ws_keywords.append([word,freq])\n",
    "\n",
    "wb.save(\"유산균연관키워드_분석결고.xlsx\")\n",
    "print(\"완료 : 전체 키워드 분석 결과 저장됨\")"
   ]
  },
  {
   "cell_type": "code",
   "execution_count": 23,
   "id": "9b9d5b4e-ae00-43cf-80d9-7f76471dac15",
   "metadata": {},
   "outputs": [
    {
     "name": "stdout",
     "output_type": "stream",
     "text": [
      "완료 : 전체 키워드 분석 결과 저장됨\n"
     ]
    }
   ],
   "source": [
    "from openpyxl import load_workbook # 기존 엑셀 파일 불러옴\n",
    "from konlpy.tag import Okt\n",
    "from collections import Counter\n",
    "import re\n",
    "\n",
    "wb = load_workbook(\"연관키워드 20250722 1448.xlsx\")\n",
    "ws = wb.active \n",
    "\n",
    "texts = [row[0]for row in ws.iter_rows(min_row = 2, max_col = 1, values_only= True) if row [0]] # row에 값이 있다면-> 답 for (어떠한 닶) if ~하면 \n",
    "\n",
    "okt = Okt()\n",
    "all_text = \" \".join(texts) # 리스트였던 애들이 통으로 도출됨\n",
    "\n",
    "nouns_tokens = okt.nouns(all_text)\n",
    "\n",
    "regex_tokens = re.findall(r'[A-Za-z]*\\d+[A-Za-z]+|\\d+[A-Za-z]*', all_text) #(,찾아와야하는 대상) r 로우스트링 있을수도 없을수도 있음~ * \\d는 숫자, | 버티컬바는 또는\n",
    "\n",
    "valid_one_letter = {\"금\", \"은\", \"동\"}\n",
    "stopwords = {\"사용\", \"정도\", \"조금\", \"제품\", \"때문\", \"생각\", \"만족\", \"구매\", \"다음\"}\n",
    "\n",
    "combined_tokens = nouns_tokens + regex_tokens\n",
    "filtered_tokens = [ t for t in combined_tokens if (len(t)>1 or t in valid_one_letter) and t not in stopwords]\n",
    "\n",
    "count = Counter(filtered_tokens)\n",
    "\n",
    "ws_keywords = wb.create_sheet(\"키워드 전체분석\")\n",
    "ws_keywords.append([\"명사\", \"빈도수\"])\n",
    "for word, freq in sorted(count.items(), key=lambda x : x[1], reverse = True): # 내림차순 정렬, lambda 익명함수 x에 값을 넣어라..?ㅋ 트루면 내림 펄스는 올림\n",
    "    ws_keywords.append([word,freq])\n",
    "\n",
    "wb.save(\"연관키워드_분석결과.xlsx\")\n",
    "print(\"완료 : 전체 키워드 분석 결과 저장됨\")"
   ]
  }
 ],
 "metadata": {
  "kernelspec": {
   "display_name": "Python [conda env:base] *",
   "language": "python",
   "name": "conda-base-py"
  },
  "language_info": {
   "codemirror_mode": {
    "name": "ipython",
    "version": 3
   },
   "file_extension": ".py",
   "mimetype": "text/x-python",
   "name": "python",
   "nbconvert_exporter": "python",
   "pygments_lexer": "ipython3",
   "version": "3.13.5"
  }
 },
 "nbformat": 4,
 "nbformat_minor": 5
}
