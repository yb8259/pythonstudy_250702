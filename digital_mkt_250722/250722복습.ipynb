{
 "cells": [
  {
   "cell_type": "code",
   "execution_count": 2,
   "id": "c3dccdc5-1d9a-465b-83a9-e7b9e9675a65",
   "metadata": {},
   "outputs": [
    {
     "name": "stdout",
     "output_type": "stream",
     "text": [
      "Name: webdriver-manager\n",
      "Version: 4.0.2\n",
      "Summary: Library provides the way to automatically manage drivers for different browsers\n",
      "Home-page: https://github.com/SergeyPirogov/webdriver_manager\n",
      "Author: Sergey Pirogov\n",
      "Author-email: automationremarks@gmail.com\n",
      "License: \n",
      "Location: C:\\Users\\user\\anaconda3\\Lib\\site-packages\n",
      "Requires: packaging, python-dotenv, requests\n",
      "Required-by: \n"
     ]
    }
   ],
   "source": [
    "!pip show webdriver-manager\n"
   ]
  },
  {
   "cell_type": "code",
   "execution_count": 9,
   "id": "17785cbf-581e-479d-b2e3-ebd3a7783811",
   "metadata": {},
   "outputs": [
    {
     "name": "stdout",
     "output_type": "stream",
     "text": [
      "보기만해도 기분이 업되는 샤인머스켓!!\n",
      "아이 현장학습때문에 도시락재료 주문했습니다\n",
      "컬리의 장점은 너무 좋은 상품들을 한번에 구입할 수 있다는것!!\n",
      "과일부터 김밥재료 간식까지 모두 컬리에서 전날 주문했어요\n",
      "\n",
      "이번에 주문하면서 특히나 마음에 들었던 샤인머스켓\n",
      "16브릭스 고당도라는 이름에 도시락용으로 1송이만 삿는데 후회중이요!\n",
      "\n",
      "올리고당을 흘려 뿌린듯한 당도와 \n",
      "껍질도 두껍지 않고 질긴식감 전혀 없이\n",
      "톡톡 터지는 식감이 예술이에요\n",
      "\n",
      "씻어서 바로 도시락통에 넣어 귀여운 도시락픽 꽂아주면 \n",
      "귀여운 디저트로 완성됩니다\n",
      "\n",
      "샤인머스켓 최근 4~5년정도 정말 많이 먹어봤지만 \n",
      "비싸다고 다 맛있는거 아니더라고요 \n",
      "1송이 1만원정도 하는거 실패하면 마음아픈데 \n",
      "이번 kf365샤인머스켓은 성공입니다!\n",
      "역시 컬리는 과일까지 맛있어요\n",
      "\n",
      "맛있는 샤인머스켓 드셔보고싶으신분  무조건 주문하세요 \n"
     ]
    }
   ],
   "source": [
    "from selenium.webdriver.common.by import By\n",
    "\n",
    "options = Options()\n",
    "driver = webdriver.Chrome(options=options)\n",
    "driver.get(\"https://www.kurly.com/goods/1000338161\")\n",
    "\n",
    "element = driver.find_element(By.CSS_SELECTOR, \"p.css-y49dcn.e36z05c13\")\n",
    "print(element.text)\n",
    "driver.quit()"
   ]
  },
  {
   "cell_type": "code",
   "execution_count": 13,
   "id": "4e4880da-12d4-450d-bd40-1f8e0d7622f5",
   "metadata": {},
   "outputs": [
    {
     "name": "stdout",
     "output_type": "stream",
     "text": [
      "Counter({'귀걸이': 462, '터치': 35, '명품': 35, '실버': 26, '여자': 24, '브랜드': 23, '드롭': 19, '추천': 19, '큐빅': 17, '골드': 16, '목걸이': 15, '여성': 14, '볼드': 13, '하트': 12, '일리': 11, '주얼리': 11, '악세사리': 10, '진주': 10, '이어링': 10, '미니': 8, '쇼핑몰': 7, '귀고리': 6, '선물': 5, '심플': 5, '물방울': 5, '클립': 5, '리본': 4, '화이트골드': 4, '꼬임': 4, '가격': 4, '쥬얼리': 4, '블랙': 4, '커플링': 4, '피어싱': 3, '금침': 3, '연예인': 3, '모양': 3, '남자': 3, '귓바퀴': 3, '엄마': 3, '클로버': 3, '나비': 3, '볼륨': 3, '유행': 3, '체인': 3, '보석': 3, '반지': 3, '니트': 3, '바지': 3, '등산': 3, '후드': 3, '팔찌': 3, '헤어': 3, '패션': 2, '도금': 2, '사이트': 2, '펜던트': 2, '팬던트': 2, '파이프': 2, '케이': 2, '탄생석': 2, '여자친구': 2, '알러지': 2, '여름': 2, '루비': 2, '종로': 2, '스터드': 2, '편집': 2, '액세서리': 2, '진주원': 2, '하객': 2, '자개': 2, '한쪽': 2, '디올': 2, '커프': 2, '당일': 2, '배송': 2, '비즈': 2, '스타일': 2, '유색': 2, '무광': 2, '유니크': 2, '가방': 2, '남성': 2, '자켓': 2, '패딩': 2, '리스트': 2, '위드': 2, '하이': 2, '앤디': 1, '금링': 1, '디자이너': 1, '메이커': 1, '대학생': 1, '빅링': 1, '이드': 1, '왕관': 1, '정유미': 1, '웨이': 1, '판매': 1, '금볼': 1, '플라워': 1, '별자리': 1, '투핀': 1, '스틱': 1, '성금': 1, '자금': 1, '럭셔리': 1, '화이트': 1, '컷팅링': 1, '볼링': 1, '고리': 1, '핑크': 1, '컷팅': 1, '고급': 1, '블링블링': 1, '샤넬': 1, '달랑': 1, '통통': 1, '삼색': 1, '어머니': 1, '동전': 1, '라운드': 1, '벚꽃': 1, '단발머리': 1, '체인드': 1, '인기': 1, '가을': 1, '겨울': 1, '갈고리': 1, '크로스': 1, '홍대': 1, '직장인': 1, '부모님': 1, '엑스': 1, '더블': 1, '구슬': 1, '쇼핑': 1, '요즘': 1, '파티': 1, '주얼': 1, '열쇠': 1, '트렌드': 1, '시세': 1, '가성': 1, '학생': 1, '도넛': 1, '스와로브스키': 1, '후프': 1, '후크': 1, '그림': 1, '옐로우': 1, '스마일': 1, '디자인': 1, '은침': 1, '데일': 1, '리진': 1, '백금': 1, '이데일리': 1, '블링': 1, '은링': 1, '알레르기': 1, '미러볼': 1, '매듭': 1, '은볼': 1, '결혼식': 1, '볼라': 1, '링금': 1, '맛집': 1, '트리플': 1, '저가': 1, '순은': 1, '기본': 1, '포인트': 1, '보라색': 1, '마름모': 1, '토끼': 1, '리프': 1, '와이프': 1, '레이어': 1, '아이유': 1, '우정': 1, '부엉이': 1, '연결': 1, '인스타': 1, '말발굽': 1, '오픈': 1, '스톤헨지': 1, '나사': 1, '왕진': 1, '로고': 1, '커플': 1, '자수정': 1, '투링': 1, '은침링': 1, '은색': 1, '협찬': 1, '아나운서': 1, '연말': 1, '다이아반지': 1, '줄링': 1, '예물': 1, '수능': 1, '시계': 1, '아세테이트': 1, '정장': 1, '세트': 1, '조끼': 1, '골덴': 1, '핸드폰': 1, '스트랩': 1, '데님': 1, '셔츠': 1, '원피스': 1, '주름': 1, '캐시미어': 1, '양말': 1, '테일러': 1, '스커트': 1, '경량': 1, '브로치': 1, '케이프': 1, '밴드': 1, '머리띠': 1, '서류가방': 1, '클러치': 1, '브레이': 1, '슬릿': 1})\n"
     ]
    }
   ],
   "source": [
    "from openpyxl import load_workbook # 기존 엑셀 파일 불러옴\n",
    "from konlpy.tag import Okt\n",
    "from collections import Counter\n",
    "\n",
    "wb = load_workbook(\"연관키워드 20250722 1448.xlsx\")\n",
    "ws = wb.active \n",
    "texts = [row[0]for row in ws.iter_rows(min_row = 2, max_col = 1, values_only= True) if row [0]]\n",
    "\n",
    "okt = Okt()\n",
    "all_text = \" \".join(texts)\n",
    "# print(all_text)\n",
    "nouns = okt.nouns(all_text)\n",
    "filtered_nouns = [n for n in nouns if len(n) > 1]\n",
    "count = Counter(filtered_nouns)\n",
    "print(count)"
   ]
  }
 ],
 "metadata": {
  "kernelspec": {
   "display_name": "Python [conda env:base] *",
   "language": "python",
   "name": "conda-base-py"
  },
  "language_info": {
   "codemirror_mode": {
    "name": "ipython",
    "version": 3
   },
   "file_extension": ".py",
   "mimetype": "text/x-python",
   "name": "python",
   "nbconvert_exporter": "python",
   "pygments_lexer": "ipython3",
   "version": "3.13.5"
  }
 },
 "nbformat": 4,
 "nbformat_minor": 5
}
