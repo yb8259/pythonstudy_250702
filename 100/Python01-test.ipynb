{
 "cells": [
  {
   "cell_type": "code",
   "execution_count": 9,
   "id": "d13227b0-49e5-4e85-a7f4-af2dfe9ded8c",
   "metadata": {},
   "outputs": [
    {
     "name": "stdout",
     "output_type": "stream",
     "text": [
      "Hellow World\n",
      "Hellow World\n"
     ]
    }
   ],
   "source": [
    "word01 = \"Hellow World\"\n",
    "print(word01)\n",
    "\n",
    "print(\"Hellow World\")"
   ]
  },
  {
   "cell_type": "code",
   "execution_count": 11,
   "id": "4dd82030-231b-4e9c-a85e-278dadfe38f1",
   "metadata": {},
   "outputs": [
    {
     "name": "stdout",
     "output_type": "stream",
     "text": [
      "3.1\n"
     ]
    }
   ],
   "source": [
    "pi = 3.1415\n",
    "print(format(pi, \".1f\"))"
   ]
  },
  {
   "cell_type": "code",
   "execution_count": 13,
   "id": "a1f0c562-e78a-486b-b8e6-e1edb7664759",
   "metadata": {},
   "outputs": [
    {
     "name": "stdout",
     "output_type": "stream",
     "text": [
      "720\n",
      "<class 'int'>\n",
      "<class 'int'> 720\n"
     ]
    }
   ],
   "source": [
    "text01 = 720\n",
    "print(\"720\")\n",
    "print(type(text01))\n",
    "\n",
    "str01 = \"720\"\n",
    "int01 = int(str01)\n",
    "\n",
    "print(type(int01), int01)"
   ]
  },
  {
   "cell_type": "code",
   "execution_count": 5,
   "id": "5f51bd4b-f18d-4476-822f-e831aadd8354",
   "metadata": {},
   "outputs": [
    {
     "name": "stdout",
     "output_type": "stream",
     "text": [
      "36\n"
     ]
    }
   ],
   "source": [
    "print(6**2)"
   ]
  },
  {
   "cell_type": "code",
   "execution_count": 15,
   "id": "fcf46816-8771-48f3-bf1f-d4376723fa94",
   "metadata": {},
   "outputs": [
    {
     "name": "stdin",
     "output_type": "stream",
     "text": [
      "first 10\n",
      "second 10\n"
     ]
    },
    {
     "name": "stdout",
     "output_type": "stream",
     "text": [
      "OUTPUT : (result)\n"
     ]
    }
   ],
   "source": [
    "user01 = 1\n",
    "user02 = 2\n",
    "\n",
    "num01 = input(\"first\")\n",
    "num02 = input(\"second\")\n",
    "\n",
    "result = num01 + num02\n",
    "print(f\"OUTPUT : (result)\")"
   ]
  }
 ],
 "metadata": {
  "kernelspec": {
   "display_name": "Python [conda env:base] *",
   "language": "python",
   "name": "conda-base-py"
  },
  "language_info": {
   "codemirror_mode": {
    "name": "ipython",
    "version": 3
   },
   "file_extension": ".py",
   "mimetype": "text/x-python",
   "name": "python",
   "nbconvert_exporter": "python",
   "pygments_lexer": "ipython3",
   "version": "3.13.5"
  }
 },
 "nbformat": 4,
 "nbformat_minor": 5
}
