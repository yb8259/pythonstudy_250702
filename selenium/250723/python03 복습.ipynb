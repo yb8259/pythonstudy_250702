{
 "cells": [
  {
   "cell_type": "code",
   "execution_count": 10,
   "id": "bfc6a4b6-7e1a-4c12-9391-6480964251b9",
   "metadata": {},
   "outputs": [
    {
     "name": "stdout",
     "output_type": "stream",
     "text": [
      "상품명: 보몽드 순면스퀘어 솔리드 누빔매트커버, 다크블루\n",
      "상품명: 슈에뜨룸 선인장 리플 침구 세트, 베이지\n",
      "상품명: 선우랜드 레인보우 2단 문걸이용 옷걸이 _중형, 화이트, 상세페이지참조\n",
      "상품명: 보드래 헬로우 누빔 매트리스커버, 핑크\n",
      "상품명: 보드래 퍼펙트 누빔 매트리스커버, 차콜\n",
      "상품명: 피아블 클래식 방수 매트리스커버, 화이트\n",
      "상품명: 더자리 에코항균 마이크로 매트리스커버, 밀키차콜그레이\n",
      "상품명: 더자리 프레쉬 퓨어 매트리스 커버, 퓨어 차콜그레이\n",
      "상품명: 몽쉐어 알러스킨 항균 매트리스 커버, 카키그레이\n",
      "상품명: 쿠팡 브랜드 - 코멧 홈 40수 트윌 순면 100% 홑겹 매트리스커버, 그레이\n",
      "상품명: 패브릭아트 항균 마이크로 원단 매트리스 커버, 아이보리\n",
      "상품명: 바숨 순면 누빔 침대 매트리스커버, 차콜\n",
      "상품명: WEMAX 다용도 문옷걸이, 화이트, 1개\n",
      "상품명: 타카타카 프리미엄 나노 화이바 누빔 매트리스 커버, 젠틀핑핑\n",
      "상품명: 보몽드 순면스퀘어 누빔매트커버, 다크그레이\n",
      "상품명: 보드래 국내산 순면 60수 누빔 매트리스커버, 그레이\n"
     ]
    },
    {
     "ename": "ElementClickInterceptedException",
     "evalue": "Message: element click intercepted: Element <a class=\"ml-1 mr-1\" href=\"/page2/\">...</a> is not clickable at point (617, 640). Other element would receive the click: <div class=\"alertbar\" style=\"display: block;\">...</div>\n  (Session info: chrome=138.0.7204.183); For documentation on this error, please visit: https://www.selenium.dev/documentation/webdriver/troubleshooting/errors#elementclickinterceptedexception\nStacktrace:\n\tGetHandleVerifier [0x0x116ba83+63395]\n\tGetHandleVerifier [0x0x116bac4+63460]\n\t(No symbol) [0x0xfb2113]\n\t(No symbol) [0x0x1000ba0]\n\t(No symbol) [0x0xffef5a]\n\t(No symbol) [0x0xffcab7]\n\t(No symbol) [0x0xffbd6d]\n\t(No symbol) [0x0xff0515]\n\t(No symbol) [0x0x101f3ac]\n\t(No symbol) [0x0xfeffa4]\n\t(No symbol) [0x0x101f624]\n\t(No symbol) [0x0x10407ba]\n\t(No symbol) [0x0x101f1a6]\n\t(No symbol) [0x0xfee7b2]\n\t(No symbol) [0x0xfef654]\n\tGetHandleVerifier [0x0x13e8883+2672035]\n\tGetHandleVerifier [0x0x13e3cba+2652634]\n\tGetHandleVerifier [0x0x1192bca+223466]\n\tGetHandleVerifier [0x0x1182cb8+158168]\n\tGetHandleVerifier [0x0x118978d+185517]\n\tGetHandleVerifier [0x0x1173b78+96408]\n\tGetHandleVerifier [0x0x1173d02+96802]\n\tGetHandleVerifier [0x0x115e90a+9770]\n\tBaseThreadInitThunk [0x0x75ae5d49+25]\n\tRtlInitializeExceptionChain [0x0x76ffd1ab+107]\n\tRtlGetAppContainerNamedObjectPath [0x0x76ffd131+561]\n",
     "output_type": "error",
     "traceback": [
      "\u001b[1;31m---------------------------------------------------------------------------\u001b[0m",
      "\u001b[1;31mElementClickInterceptedException\u001b[0m          Traceback (most recent call last)",
      "Cell \u001b[1;32mIn[10], line 25\u001b[0m\n\u001b[0;32m     23\u001b[0m page_links \u001b[38;5;241m=\u001b[39m driver\u001b[38;5;241m.\u001b[39mfind_elements(By\u001b[38;5;241m.\u001b[39mCSS_SELECTOR, \u001b[38;5;124m\"\u001b[39m\u001b[38;5;124ma.ml-1.mr-1\u001b[39m\u001b[38;5;124m\"\u001b[39m)\n\u001b[0;32m     24\u001b[0m \u001b[38;5;28;01mif\u001b[39;00m \u001b[38;5;28mlen\u001b[39m(page_links) \u001b[38;5;241m>\u001b[39m \u001b[38;5;241m7\u001b[39m:\n\u001b[1;32m---> 25\u001b[0m     page_links[\u001b[38;5;241m7\u001b[39m]\u001b[38;5;241m.\u001b[39mclick()\n\u001b[0;32m     26\u001b[0m     time\u001b[38;5;241m.\u001b[39msleep(\u001b[38;5;241m2\u001b[39m)\n\u001b[0;32m     28\u001b[0m elements \u001b[38;5;241m=\u001b[39m driver\u001b[38;5;241m.\u001b[39mfind_elements(By\u001b[38;5;241m.\u001b[39mCSS_SELECTOR, \u001b[38;5;124m\"\u001b[39m\u001b[38;5;124mh4.card-text\u001b[39m\u001b[38;5;124m\"\u001b[39m)\n",
      "File \u001b[1;32m~\\anaconda3\\Lib\\site-packages\\selenium\\webdriver\\remote\\webelement.py:120\u001b[0m, in \u001b[0;36mWebElement.click\u001b[1;34m(self)\u001b[0m\n\u001b[0;32m    112\u001b[0m \u001b[38;5;28;01mdef\u001b[39;00m\u001b[38;5;250m \u001b[39m\u001b[38;5;21mclick\u001b[39m(\u001b[38;5;28mself\u001b[39m) \u001b[38;5;241m-\u001b[39m\u001b[38;5;241m>\u001b[39m \u001b[38;5;28;01mNone\u001b[39;00m:\n\u001b[0;32m    113\u001b[0m \u001b[38;5;250m    \u001b[39m\u001b[38;5;124;03m\"\"\"Clicks the element.\u001b[39;00m\n\u001b[0;32m    114\u001b[0m \n\u001b[0;32m    115\u001b[0m \u001b[38;5;124;03m    Example:\u001b[39;00m\n\u001b[1;32m   (...)\u001b[0m\n\u001b[0;32m    118\u001b[0m \u001b[38;5;124;03m    >>> element.click()\u001b[39;00m\n\u001b[0;32m    119\u001b[0m \u001b[38;5;124;03m    \"\"\"\u001b[39;00m\n\u001b[1;32m--> 120\u001b[0m     \u001b[38;5;28mself\u001b[39m\u001b[38;5;241m.\u001b[39m_execute(Command\u001b[38;5;241m.\u001b[39mCLICK_ELEMENT)\n",
      "File \u001b[1;32m~\\anaconda3\\Lib\\site-packages\\selenium\\webdriver\\remote\\webelement.py:573\u001b[0m, in \u001b[0;36mWebElement._execute\u001b[1;34m(self, command, params)\u001b[0m\n\u001b[0;32m    571\u001b[0m     params \u001b[38;5;241m=\u001b[39m {}\n\u001b[0;32m    572\u001b[0m params[\u001b[38;5;124m\"\u001b[39m\u001b[38;5;124mid\u001b[39m\u001b[38;5;124m\"\u001b[39m] \u001b[38;5;241m=\u001b[39m \u001b[38;5;28mself\u001b[39m\u001b[38;5;241m.\u001b[39m_id\n\u001b[1;32m--> 573\u001b[0m \u001b[38;5;28;01mreturn\u001b[39;00m \u001b[38;5;28mself\u001b[39m\u001b[38;5;241m.\u001b[39m_parent\u001b[38;5;241m.\u001b[39mexecute(command, params)\n",
      "File \u001b[1;32m~\\anaconda3\\Lib\\site-packages\\selenium\\webdriver\\remote\\webdriver.py:454\u001b[0m, in \u001b[0;36mWebDriver.execute\u001b[1;34m(self, driver_command, params)\u001b[0m\n\u001b[0;32m    451\u001b[0m response \u001b[38;5;241m=\u001b[39m cast(RemoteConnection, \u001b[38;5;28mself\u001b[39m\u001b[38;5;241m.\u001b[39mcommand_executor)\u001b[38;5;241m.\u001b[39mexecute(driver_command, params)\n\u001b[0;32m    453\u001b[0m \u001b[38;5;28;01mif\u001b[39;00m response:\n\u001b[1;32m--> 454\u001b[0m     \u001b[38;5;28mself\u001b[39m\u001b[38;5;241m.\u001b[39merror_handler\u001b[38;5;241m.\u001b[39mcheck_response(response)\n\u001b[0;32m    455\u001b[0m     response[\u001b[38;5;124m\"\u001b[39m\u001b[38;5;124mvalue\u001b[39m\u001b[38;5;124m\"\u001b[39m] \u001b[38;5;241m=\u001b[39m \u001b[38;5;28mself\u001b[39m\u001b[38;5;241m.\u001b[39m_unwrap_value(response\u001b[38;5;241m.\u001b[39mget(\u001b[38;5;124m\"\u001b[39m\u001b[38;5;124mvalue\u001b[39m\u001b[38;5;124m\"\u001b[39m, \u001b[38;5;28;01mNone\u001b[39;00m))\n\u001b[0;32m    456\u001b[0m     \u001b[38;5;28;01mreturn\u001b[39;00m response\n",
      "File \u001b[1;32m~\\anaconda3\\Lib\\site-packages\\selenium\\webdriver\\remote\\errorhandler.py:232\u001b[0m, in \u001b[0;36mErrorHandler.check_response\u001b[1;34m(self, response)\u001b[0m\n\u001b[0;32m    230\u001b[0m         alert_text \u001b[38;5;241m=\u001b[39m value[\u001b[38;5;124m\"\u001b[39m\u001b[38;5;124malert\u001b[39m\u001b[38;5;124m\"\u001b[39m]\u001b[38;5;241m.\u001b[39mget(\u001b[38;5;124m\"\u001b[39m\u001b[38;5;124mtext\u001b[39m\u001b[38;5;124m\"\u001b[39m)\n\u001b[0;32m    231\u001b[0m     \u001b[38;5;28;01mraise\u001b[39;00m exception_class(message, screen, stacktrace, alert_text)  \u001b[38;5;66;03m# type: ignore[call-arg]  # mypy is not smart enough here\u001b[39;00m\n\u001b[1;32m--> 232\u001b[0m \u001b[38;5;28;01mraise\u001b[39;00m exception_class(message, screen, stacktrace)\n",
      "\u001b[1;31mElementClickInterceptedException\u001b[0m: Message: element click intercepted: Element <a class=\"ml-1 mr-1\" href=\"/page2/\">...</a> is not clickable at point (617, 640). Other element would receive the click: <div class=\"alertbar\" style=\"display: block;\">...</div>\n  (Session info: chrome=138.0.7204.183); For documentation on this error, please visit: https://www.selenium.dev/documentation/webdriver/troubleshooting/errors#elementclickinterceptedexception\nStacktrace:\n\tGetHandleVerifier [0x0x116ba83+63395]\n\tGetHandleVerifier [0x0x116bac4+63460]\n\t(No symbol) [0x0xfb2113]\n\t(No symbol) [0x0x1000ba0]\n\t(No symbol) [0x0xffef5a]\n\t(No symbol) [0x0xffcab7]\n\t(No symbol) [0x0xffbd6d]\n\t(No symbol) [0x0xff0515]\n\t(No symbol) [0x0x101f3ac]\n\t(No symbol) [0x0xfeffa4]\n\t(No symbol) [0x0x101f624]\n\t(No symbol) [0x0x10407ba]\n\t(No symbol) [0x0x101f1a6]\n\t(No symbol) [0x0xfee7b2]\n\t(No symbol) [0x0xfef654]\n\tGetHandleVerifier [0x0x13e8883+2672035]\n\tGetHandleVerifier [0x0x13e3cba+2652634]\n\tGetHandleVerifier [0x0x1192bca+223466]\n\tGetHandleVerifier [0x0x1182cb8+158168]\n\tGetHandleVerifier [0x0x118978d+185517]\n\tGetHandleVerifier [0x0x1173b78+96408]\n\tGetHandleVerifier [0x0x1173d02+96802]\n\tGetHandleVerifier [0x0x115e90a+9770]\n\tBaseThreadInitThunk [0x0x75ae5d49+25]\n\tRtlInitializeExceptionChain [0x0x76ffd1ab+107]\n\tRtlGetAppContainerNamedObjectPath [0x0x76ffd131+561]\n"
     ]
    }
   ],
   "source": [
    "from selenium import webdriver\n",
    "from selenium.webdriver.chrome.service import Service\n",
    "from selenium.webdriver.chrome.options import Options\n",
    "from selenium.webdriver.common.by import By\n",
    "from webdriver_manager.chrome import ChromeDriverManager\n",
    "import time\n",
    "import pyautogui\n",
    "\n",
    "service =Service(ChromeDriverManager().install())\n",
    "options = Options()\n",
    "options.add_argument(\"window-size=1920x1080\")\n",
    "options.add_argument(\"--disable-gpu\")\n",
    "options.add_argument(\"--user-agent=Mozilla/5.0 (Windows NT 10.0; Win64; x64) AppleWebKit/537.36 (KHTML, like Gecko) Chrome/138.0.0.0 Safari/537.36\")\n",
    "options.add_argument(\"lang=ko_KR\")\n",
    "\n",
    "driver=webdriver.Chrome(service=service,options=options)\n",
    "driver.get(\"https://davelee-fun.github.io/\")\n",
    "\n",
    "elements = driver.find_elements(By.CSS_SELECTOR, \"h4.card-text\")\n",
    "for element in elements :\n",
    "    print(element.text.strip())\n",
    "\n",
    "page_links = driver.find_elements(By.CSS_SELECTOR, \"a.ml-1.mr-1\")\n",
    "if len(page_links) > 7:\n",
    "    page_links[7].click()\n",
    "    time.sleep(2)\n",
    "\n",
    "elements = driver.find_elements(By.CSS_SELECTOR, \"h4.card-text\")\n",
    "for element in elements :\n",
    "    print(element.text.strip())\n",
    "\n",
    "driver.quit()"
   ]
  }
 ],
 "metadata": {
  "kernelspec": {
   "display_name": "Python [conda env:base] *",
   "language": "python",
   "name": "conda-base-py"
  },
  "language_info": {
   "codemirror_mode": {
    "name": "ipython",
    "version": 3
   },
   "file_extension": ".py",
   "mimetype": "text/x-python",
   "name": "python",
   "nbconvert_exporter": "python",
   "pygments_lexer": "ipython3",
   "version": "3.13.5"
  }
 },
 "nbformat": 4,
 "nbformat_minor": 5
}
