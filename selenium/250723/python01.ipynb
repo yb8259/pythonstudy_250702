{
 "cells": [
  {
   "cell_type": "markdown",
   "id": "92d7e876-2715-4604-9145-1a2d126ebfbb",
   "metadata": {},
   "source": [
    "#### 셀레니움 통해서 값 도출하기"
   ]
  },
  {
   "cell_type": "code",
   "execution_count": 12,
   "id": "54dc31bd-37b6-4827-8be3-9010542802db",
   "metadata": {},
   "outputs": [],
   "source": [
    "from selenium import webdriver\n",
    "from selenium.webdriver.chrome.service import Service # 옵셥값 정의\n",
    "from webdriver_manager.chrome import ChromeDriverManager\n",
    "import time\n",
    "\n",
    "# 상단처럼 라이브러리 형식으로 불러오고 싶지 않다면, \n",
    "# pip install webdriver-manager 설치하면 됨.\n",
    "# 설치 확인 pip show webdriver-manager\n",
    "\n",
    "service = Service(ChromeDriverManager().install())\n",
    "driver = webdriver.Chrome(service = service) # service 문법 , 그래서 무조건 쓴다~, driver 특정사이트에 가서 크롤링해올수 있는 인스턴스객체\n",
    "\n",
    "driver.get(\"https://davelee-fun.github.io/\")\n",
    "\n",
    "# print(driver.title) # 홈페이지 이름\n",
    "# print(driver.current_url) # 크롤링 하려는 주소\n",
    "assert \"Teddy\" in driver.title #타이틀에 \"Teddy\"라는 값이 있는지 확인하는 것. assert = 단언하다, 잦은 크롤링은 좋지 않기 떄문!\n",
    "\n",
    "time.sleep(1)\n",
    "\n",
    "driver.quit()"
   ]
  },
  {
   "cell_type": "code",
   "execution_count": 29,
   "id": "a13d4e15-4384-43aa-b7ef-b40947e709f9",
   "metadata": {},
   "outputs": [
    {
     "name": "stdout",
     "output_type": "stream",
     "text": [
      "Requirement already satisfied: webdriver-manager in c:\\users\\user\\anaconda3\\lib\\site-packages (4.0.2)\n",
      "Requirement already satisfied: requests in c:\\users\\user\\anaconda3\\lib\\site-packages (from webdriver-manager) (2.32.3)\n",
      "Requirement already satisfied: python-dotenv in c:\\users\\user\\anaconda3\\lib\\site-packages (from webdriver-manager) (1.1.0)\n",
      "Requirement already satisfied: packaging in c:\\users\\user\\anaconda3\\lib\\site-packages (from webdriver-manager) (24.2)\n",
      "Requirement already satisfied: charset-normalizer<4,>=2 in c:\\users\\user\\anaconda3\\lib\\site-packages (from requests->webdriver-manager) (3.3.2)\n",
      "Requirement already satisfied: idna<4,>=2.5 in c:\\users\\user\\anaconda3\\lib\\site-packages (from requests->webdriver-manager) (3.7)\n",
      "Requirement already satisfied: urllib3<3,>=1.21.1 in c:\\users\\user\\anaconda3\\lib\\site-packages (from requests->webdriver-manager) (2.5.0)\n",
      "Requirement already satisfied: certifi>=2017.4.17 in c:\\users\\user\\anaconda3\\lib\\site-packages (from requests->webdriver-manager) (2025.6.15)\n",
      "Name: webdriver-manager\n",
      "Version: 4.0.2\n",
      "Summary: Library provides the way to automatically manage drivers for different browsers\n",
      "Home-page: https://github.com/SergeyPirogov/webdriver_manager\n",
      "Author: Sergey Pirogov\n",
      "Author-email: automationremarks@gmail.com\n",
      "License: \n",
      "Location: C:\\Users\\user\\anaconda3\\Lib\\site-packages\n",
      "Requires: packaging, python-dotenv, requests\n",
      "Required-by: \n"
     ]
    }
   ],
   "source": [
    "!pip install webdriver-manager\n",
    "!pip show webdriver-manager"
   ]
  },
  {
   "cell_type": "code",
   "execution_count": 30,
   "id": "4cf9e479-ebb7-4f62-b690-b9d994cfa15a",
   "metadata": {},
   "outputs": [
    {
     "name": "stdout",
     "output_type": "stream",
     "text": [
      "상품명: 보몽드 순면스퀘어 솔리드 누빔매트커버, 다크블루\n",
      "상품명: 슈에뜨룸 선인장 리플 침구 세트, 베이지\n",
      "상품명: 선우랜드 레인보우 2단 문걸이용 옷걸이 _중형, 화이트, 상세페이지참조\n",
      "상품명: 보드래 헬로우 누빔 매트리스커버, 핑크\n",
      "상품명: 보드래 퍼펙트 누빔 매트리스커버, 차콜\n",
      "상품명: 피아블 클래식 방수 매트리스커버, 화이트\n",
      "상품명: 더자리 에코항균 마이크로 매트리스커버, 밀키차콜그레이\n",
      "상품명: 더자리 프레쉬 퓨어 매트리스 커버, 퓨어 차콜그레이\n",
      "상품명: 몽쉐어 알러스킨 항균 매트리스 커버, 카키그레이\n",
      "상품명: 쿠팡 브랜드 - 코멧 홈 40수 트윌 순면 100% 홑겹 매트리스커버, 그레이\n",
      "상품명: 패브릭아트 항균 마이크로 원단 매트리스 커버, 아이보리\n",
      "상품명: 바숨 순면 누빔 침대 매트리스커버, 차콜\n",
      "상품명: WEMAX 다용도 문옷걸이, 화이트, 1개\n",
      "상품명: 타카타카 프리미엄 나노 화이바 누빔 매트리스 커버, 젠틀핑핑\n",
      "상품명: 보몽드 순면스퀘어 누빔매트커버, 다크그레이\n",
      "상품명: 보드래 국내산 순면 60수 누빔 매트리스커버, 그레이\n"
     ]
    }
   ],
   "source": [
    "service = Service(ChromeDriverManager().install())\n",
    "driver = webdriver.Chrome(service = service)\n",
    "\n",
    "driver.get(\"https://davelee-fun.github.io/\")\n",
    "elements = driver.find_elements(By.TAG_NAME, \"h4\")\n",
    "\n",
    "for element in elements :\n",
    "    print(element.text)\n",
    "\n",
    "time.sleep(1)\n",
    "\n",
    "driver.quit()"
   ]
  },
  {
   "cell_type": "code",
   "execution_count": 17,
   "id": "e174506a-51e7-4129-b85b-1b8086c321d2",
   "metadata": {},
   "outputs": [
    {
     "name": "stdout",
     "output_type": "stream",
     "text": [
      "상품명: 보몽드 순면스퀘어 솔리드 누빔매트커버, 다크블루\n",
      "상품명: 슈에뜨룸 선인장 리플 침구 세트, 베이지\n",
      "상품명: 선우랜드 레인보우 2단 문걸이용 옷걸이 _중형, 화이트, 상세페이지참조\n",
      "상품명: 보드래 헬로우 누빔 매트리스커버, 핑크\n",
      "상품명: 보드래 퍼펙트 누빔 매트리스커버, 차콜\n",
      "상품명: 피아블 클래식 방수 매트리스커버, 화이트\n",
      "상품명: 더자리 에코항균 마이크로 매트리스커버, 밀키차콜그레이\n",
      "상품명: 더자리 프레쉬 퓨어 매트리스 커버, 퓨어 차콜그레이\n",
      "상품명: 몽쉐어 알러스킨 항균 매트리스 커버, 카키그레이\n",
      "상품명: 쿠팡 브랜드 - 코멧 홈 40수 트윌 순면 100% 홑겹 매트리스커버, 그레이\n",
      "상품명: 패브릭아트 항균 마이크로 원단 매트리스 커버, 아이보리\n",
      "상품명: 바숨 순면 누빔 침대 매트리스커버, 차콜\n",
      "상품명: WEMAX 다용도 문옷걸이, 화이트, 1개\n",
      "상품명: 타카타카 프리미엄 나노 화이바 누빔 매트리스 커버, 젠틀핑핑\n",
      "상품명: 보몽드 순면스퀘어 누빔매트커버, 다크그레이\n",
      "상품명: 보드래 국내산 순면 60수 누빔 매트리스커버, 그레이\n"
     ]
    }
   ],
   "source": [
    "from selenium import webdriver\n",
    "from selenium.webdriver.chrome.service import Service # 옵셥값 정의\n",
    "from selenium.webdriver.common.by import By #~에 의한 명령\n",
    "from webdriver_manager.chrome import ChromeDriverManager\n",
    "import time\n",
    "\n",
    "service = Service(ChromeDriverManager().install())\n",
    "driver = webdriver.Chrome(service = service) # service 문법 , 그래서 무조건 쓴다~, driver 특정사이트에 가서 크롤링해올수 있는 인스턴스객체\n",
    "\n",
    "driver.get(\"https://davelee-fun.github.io/\")\n",
    "\n",
    "# element =  driver.find_element(By.TAG_NAME, \"h1\") # s 는 모든 값 ㄴs는 위에서 차근차근내려오다가 처음만나는 값 도출\n",
    "# print(element.text)\n",
    "\n",
    "elements = driver.find_elements(By.TAG_NAME, \"h4\")\n",
    "# print(elements.) # s는 리스트 형식, 리스트 중 어떤걸 가져와야하는지 모름. 리터러블한 객체에 대한 이해 필요!\n",
    "for element in elements :\n",
    "    print(element.text)\n",
    "\n",
    "time.sleep(1)\n",
    "\n",
    "driver.quit()"
   ]
  },
  {
   "cell_type": "code",
   "execution_count": 26,
   "id": "b368adde-5ebb-420c-bf13-40618f4fa783",
   "metadata": {},
   "outputs": [
    {
     "name": "stdout",
     "output_type": "stream",
     "text": [
      "\n"
     ]
    }
   ],
   "source": [
    "from selenium import webdriver\n",
    "from selenium.webdriver.chrome.service import Service # 옵셥값 정의\n",
    "from selenium.webdriver.common.by import By #~에 의한 명령\n",
    "from webdriver_manager.chrome import ChromeDriverManager\n",
    "import time\n",
    "\n",
    "service = Service(ChromeDriverManager().install())\n",
    "driver = webdriver.Chrome(service = service) # service 문법 , 그래서 무조건 쓴다~, driver 특정사이트에 가서 크롤링해올수 있는 인스턴스객체\n",
    "\n",
    "driver.get(\"https://davelee-fun.github.io/\")\n",
    "\n",
    "\n",
    "\n",
    "elements = driver.find_elements(By.ID, \"navbarMediumish\")\n",
    "for element in elements:\n",
    "    print(element.text)\n",
    "\n",
    "time.sleep(1)\n",
    "\n",
    "driver.quit()\n",
    "\n",
    "# 이거 오류난 코드임"
   ]
  },
  {
   "cell_type": "code",
   "execution_count": 36,
   "id": "78ffabe6-6be5-4aed-9b6e-bb05655e02f7",
   "metadata": {},
   "outputs": [
    {
     "name": "stdout",
     "output_type": "stream",
     "text": [
      "Blog\n",
      "About\n"
     ]
    }
   ],
   "source": [
    "from selenium import webdriver\n",
    "from selenium.webdriver.chrome.service import Service # 옵셥값 정의\n",
    "from selenium.webdriver.common.by import By #~에 의한 명령\n",
    "from selenium.webdriver.chrome.options import Options\n",
    "from webdriver_manager.chrome import ChromeDriverManager\n",
    "import time\n",
    "\n",
    "service = Service(\"C:\\\\Users\\\\user\\\\Downloads\\\\chromedriver\\\\chromedriver.exe\")\n",
    "options = Options()\n",
    "options.add_argument(\"--disable-gpu\")\n",
    "options.add_argument(\"--start-maximized\")\n",
    "\n",
    "driver = webdriver.Chrome(service = service, options=options) # service 문법 , 그래서 무조건 쓴다~, driver 특정사이트에 가서 크롤링해올수 있는 인스턴스객체\n",
    "\n",
    "driver.get(\"https://davelee-fun.github.io/\")\n",
    "\n",
    "\n",
    "\n",
    "elements = driver.find_elements(By.ID, \"navbarMediumish\")\n",
    "for element in elements:\n",
    "    print(element.text)\n",
    "\n",
    "time.sleep(1)\n",
    "\n",
    "driver.quit()"
   ]
  },
  {
   "cell_type": "markdown",
   "id": "a110b70c-7695-4859-9d1e-372fa82d9790",
   "metadata": {},
   "source": [
    "#### 여러 방식으로 크롤링하기(CSS_SELECTOR, get_attribute)"
   ]
  },
  {
   "cell_type": "code",
   "execution_count": 41,
   "id": "ae76f371-6517-467f-a290-92607ad56767",
   "metadata": {},
   "outputs": [
    {
     "name": "stdout",
     "output_type": "stream",
     "text": [
      "상품명: 보몽드 순면스퀘어 솔리드 누빔매트커버, 다크블루\n",
      "상품명: 슈에뜨룸 선인장 리플 침구 세트, 베이지\n",
      "상품명: 선우랜드 레인보우 2단 문걸이용 옷걸이 _중형, 화이트, 상세페이지참조\n",
      "상품명: 보드래 헬로우 누빔 매트리스커버, 핑크\n",
      "상품명: 보드래 퍼펙트 누빔 매트리스커버, 차콜\n",
      "상품명: 피아블 클래식 방수 매트리스커버, 화이트\n",
      "상품명: 더자리 에코항균 마이크로 매트리스커버, 밀키차콜그레이\n",
      "상품명: 더자리 프레쉬 퓨어 매트리스 커버, 퓨어 차콜그레이\n",
      "상품명: 몽쉐어 알러스킨 항균 매트리스 커버, 카키그레이\n",
      "상품명: 쿠팡 브랜드 - 코멧 홈 40수 트윌 순면 100% 홑겹 매트리스커버, 그레이\n",
      "상품명: 패브릭아트 항균 마이크로 원단 매트리스 커버, 아이보리\n",
      "상품명: 바숨 순면 누빔 침대 매트리스커버, 차콜\n",
      "상품명: WEMAX 다용도 문옷걸이, 화이트, 1개\n",
      "상품명: 타카타카 프리미엄 나노 화이바 누빔 매트리스 커버, 젠틀핑핑\n",
      "상품명: 보몽드 순면스퀘어 누빔매트커버, 다크그레이\n",
      "상품명: 보드래 국내산 순면 60수 누빔 매트리스커버, 그레이\n"
     ]
    }
   ],
   "source": [
    "from selenium import webdriver\n",
    "from selenium.webdriver.chrome.service import Service # 옵셥값 정의\n",
    "from selenium.webdriver.common.by import By #~에 의한 명령\n",
    "from webdriver_manager.chrome import ChromeDriverManager\n",
    "import time\n",
    "\n",
    "\n",
    "\n",
    "\n",
    "driver = webdriver.Chrome(service = service) # service 문법 , 그래서 무조건 쓴다~, driver 특정사이트에 가서 크롤링해올수 있는 인스턴스객체\n",
    "\n",
    "driver.get(\"https://davelee-fun.github.io/\")\n",
    "\n",
    "#element = driver.find_element(By.CSS_SELECTOR, \"div.card-body > h4.card-text\")\n",
    "#print(element.text)\n",
    "elements = driver.find_elements(By.CSS_SELECTOR, \"div.card-body > h4.card-text\")\n",
    "for element in elements :\n",
    "    print(element.text)\n",
    "\n",
    "time.sleep(1)\n",
    "\n",
    "driver.quit()"
   ]
  },
  {
   "cell_type": "code",
   "execution_count": 47,
   "id": "29e88d10-23a1-4577-86c1-e1ebb9f4331b",
   "metadata": {},
   "outputs": [
    {
     "name": "stdout",
     "output_type": "stream",
     "text": [
      "text :  매트리스커버 관련 상품 추천\n",
      "driver.title  https://davelee-fun.github.io/product-83/\n",
      "get_attribute('class') :  text-dark\n",
      "get_attribute('text') :  매트리스커버 관련 상품 추천\n"
     ]
    }
   ],
   "source": [
    "from selenium import webdriver\n",
    "from selenium.webdriver.chrome.service import Service # 옵셥값 정의\n",
    "from selenium.webdriver.common.by import By #~에 의한 명령\n",
    "from webdriver_manager.chrome import ChromeDriverManager\n",
    "import time\n",
    "\n",
    "service = Service(ChromeDriverManager().install())\n",
    "driver = webdriver.Chrome(service = service) # service 문법 , 그래서 무조건 쓴다~, driver 특정사이트에 가서 크롤링해올수 있는 인스턴스객체\n",
    "\n",
    "driver.get(\"https://davelee-fun.github.io/\")\n",
    "\n",
    "element = driver.find_element(By.CSS_SELECTOR, \"a.text-dark\")\n",
    "print(\"text : \", element.text)\n",
    "print(\"driver.title \", element.get_attribute(\"href\")) #href 속성값 출력 (링크 주소)\n",
    "print(\"get_attribute('class') : \", element.get_attribute(\"class\")) #href 속성값 출력 (링크 주소)\n",
    "print(\"get_attribute('text') : \", element.get_attribute(\"text\")) #text 속성값 출력 (링크 주소)\n",
    "#속성값 기준으로 가지고 오는것이 ATTRIBUTE!\n",
    "time.sleep(1)\n",
    "\n",
    "driver.quit()"
   ]
  },
  {
   "cell_type": "code",
   "execution_count": 49,
   "id": "46ab7d56-131c-41fe-b233-377c1a3c674f",
   "metadata": {
    "scrolled": true
   },
   "outputs": [
    {
     "name": "stdout",
     "output_type": "stream",
     "text": [
      "text :  매트리스커버 관련 상품 추천\n",
      "driver.title  https://davelee-fun.github.io/product-83/\n",
      "get_attribute('class') :  text-dark\n",
      "get_attribute('text') :  매트리스커버 관련 상품 추천\n",
      "text :  여름이불세트 관련 상품 추천\n",
      "driver.title  https://davelee-fun.github.io/product-69/\n",
      "get_attribute('class') :  text-dark\n",
      "get_attribute('text') :  여름이불세트 관련 상품 추천\n",
      "text :  행거도어 관련 상품 추천\n",
      "driver.title  https://davelee-fun.github.io/product-20/\n",
      "get_attribute('class') :  text-dark\n",
      "get_attribute('text') :  행거도어 관련 상품 추천\n",
      "text :  매트리스커버 관련 상품 추천\n",
      "driver.title  https://davelee-fun.github.io/product-105/\n",
      "get_attribute('class') :  text-dark\n",
      "get_attribute('text') :  매트리스커버 관련 상품 추천\n",
      "text :  매트리스커버 관련 상품 추천\n",
      "driver.title  https://davelee-fun.github.io/product-99/\n",
      "get_attribute('class') :  text-dark\n",
      "get_attribute('text') :  매트리스커버 관련 상품 추천\n",
      "text :  매트리스커버 관련 상품 추천\n",
      "driver.title  https://davelee-fun.github.io/product-98/\n",
      "get_attribute('class') :  text-dark\n",
      "get_attribute('text') :  매트리스커버 관련 상품 추천\n",
      "text :  매트리스커버 관련 상품 추천\n",
      "driver.title  https://davelee-fun.github.io/product-97/\n",
      "get_attribute('class') :  text-dark\n",
      "get_attribute('text') :  매트리스커버 관련 상품 추천\n",
      "text :  매트리스커버 관련 상품 추천\n",
      "driver.title  https://davelee-fun.github.io/product-96/\n",
      "get_attribute('class') :  text-dark\n",
      "get_attribute('text') :  매트리스커버 관련 상품 추천\n",
      "text :  매트리스커버 관련 상품 추천\n",
      "driver.title  https://davelee-fun.github.io/product-95/\n",
      "get_attribute('class') :  text-dark\n",
      "get_attribute('text') :  매트리스커버 관련 상품 추천\n",
      "text :  매트리스커버 관련 상품 추천\n",
      "driver.title  https://davelee-fun.github.io/product-94/\n",
      "get_attribute('class') :  text-dark\n",
      "get_attribute('text') :  매트리스커버 관련 상품 추천\n",
      "text :  매트리스커버 관련 상품 추천\n",
      "driver.title  https://davelee-fun.github.io/product-93/\n",
      "get_attribute('class') :  text-dark\n",
      "get_attribute('text') :  매트리스커버 관련 상품 추천\n",
      "text :  매트리스커버 관련 상품 추천\n",
      "driver.title  https://davelee-fun.github.io/product-92/\n",
      "get_attribute('class') :  text-dark\n",
      "get_attribute('text') :  매트리스커버 관련 상품 추천\n",
      "text :  행거도어 관련 상품 추천\n",
      "driver.title  https://davelee-fun.github.io/product-91/\n",
      "get_attribute('class') :  text-dark\n",
      "get_attribute('text') :  행거도어 관련 상품 추천\n",
      "text :  매트리스커버 관련 상품 추천\n",
      "driver.title  https://davelee-fun.github.io/product-90/\n",
      "get_attribute('class') :  text-dark\n",
      "get_attribute('text') :  매트리스커버 관련 상품 추천\n",
      "text :  매트리스커버 관련 상품 추천\n",
      "driver.title  https://davelee-fun.github.io/product-89/\n",
      "get_attribute('class') :  text-dark\n",
      "get_attribute('text') :  매트리스커버 관련 상품 추천\n",
      "text :  매트리스커버 관련 상품 추천\n",
      "driver.title  https://davelee-fun.github.io/product-88/\n",
      "get_attribute('class') :  text-dark\n",
      "get_attribute('text') :  매트리스커버 관련 상품 추천\n"
     ]
    }
   ],
   "source": [
    "from selenium import webdriver\n",
    "from selenium.webdriver.chrome.service import Service # 옵셥값 정의\n",
    "from selenium.webdriver.common.by import By #~에 의한 명령\n",
    "from webdriver_manager.chrome import ChromeDriverManager\n",
    "import time\n",
    "\n",
    "service = Service(ChromeDriverManager().install())\n",
    "driver = webdriver.Chrome(service = service) # service 문법 , 그래서 무조건 쓴다~, driver 특정사이트에 가서 크롤링해올수 있는 인스턴스객체\n",
    "\n",
    "driver.get(\"https://davelee-fun.github.io/\")\n",
    "\n",
    "elements = driver.find_elements(By.CSS_SELECTOR, \"a.text-dark\")\n",
    "for element in elements :\n",
    "    print(\"text : \", element.text)\n",
    "    print(\"driver.title \", element.get_attribute(\"href\")) #href 속성값 출력 (링크 주소)\n",
    "    print(\"get_attribute('class') : \", element.get_attribute(\"class\")) #href 속성값 출력 (링크 주소)\n",
    "    print(\"get_attribute('text') : \", element.get_attribute(\"text\"))\n",
    "\n",
    "\n",
    "time.sleep(1)\n",
    "\n",
    "driver.quit()"
   ]
  },
  {
   "cell_type": "markdown",
   "id": "531e77c0-8bb8-42d4-b89d-b3beccc6a161",
   "metadata": {},
   "source": [
    "#### head에 있는 내용을 정식방법인 \"get_attribute : \", element.get_attribute(\"text\")"
   ]
  },
  {
   "cell_type": "code",
   "execution_count": 52,
   "id": "710f5999-c919-48ea-9b59-9bf6a3d67ad0",
   "metadata": {},
   "outputs": [
    {
     "name": "stdout",
     "output_type": "stream",
     "text": [
      "text :  \n",
      "get_attribute :  Home | Teddy의 선물 블로그\n"
     ]
    }
   ],
   "source": [
    "from selenium import webdriver\n",
    "from selenium.webdriver.chrome.service import Service # 옵셥값 정의\n",
    "from selenium.webdriver.common.by import By #~에 의한 명령\n",
    "from webdriver_manager.chrome import ChromeDriverManager\n",
    "import time\n",
    "\n",
    "service = Service(ChromeDriverManager().install())\n",
    "driver = webdriver.Chrome(service = service) # service 문법 , 그래서 무조건 쓴다~, driver 특정사이트에 가서 크롤링해올수 있는 인스턴스객체\n",
    "\n",
    "driver.get(\"https://davelee-fun.github.io/\")\n",
    "\n",
    "element = driver.find_element(By.CSS_SELECTOR, \"title\") #head(정보저장용도) 영역에서 찾아올땐 정식적인 방법인 \"get_attribute : \", element.get_attribute(\"text\")\n",
    "print(\"text : \", element.text)\n",
    "print(\"get_attribute : \", element.get_attribute(\"text\"))\n",
    "time.sleep(1)\n",
    "\n",
    "driver.quit()"
   ]
  },
  {
   "cell_type": "markdown",
   "id": "272d389a-2034-4080-95e4-a9c84a3677f7",
   "metadata": {},
   "source": [
    "#### 여러방식으로 스크롤하기"
   ]
  },
  {
   "cell_type": "code",
   "execution_count": 57,
   "id": "56d80a5c-a9f2-45c7-bf3d-0fe57f0f578e",
   "metadata": {},
   "outputs": [
    {
     "name": "stdout",
     "output_type": "stream",
     "text": [
      "scrollHeight :  5318\n",
      "clientHeight :  873\n",
      "offsettHeight :  5375\n"
     ]
    }
   ],
   "source": [
    "from selenium import webdriver\n",
    "from selenium.webdriver.chrome.service import Service # 옵셥값 정의\n",
    "from selenium.webdriver.common.by import By #~에 의한 명령\n",
    "from webdriver_manager.chrome import ChromeDriverManager\n",
    "import time\n",
    "\n",
    "service = Service(ChromeDriverManager().install())\n",
    "driver = webdriver.Chrome(service = service) # service 문법 , 그래서 무조건 쓴다~, driver 특정사이트에 가서 크롤링해올수 있는 인스턴스객체\n",
    "\n",
    "driver.get(\"https://davelee-fun.github.io/\")\n",
    "\n",
    "driver.execute_script(\"window.scrollTo(0,document.body.scrollHeight)\")\n",
    "height = driver.execute_script(\"return document.body.scrollHeight\")\n",
    "print(\"scrollHeight : \", height) # 홈페이지 총길이\n",
    "\n",
    "client_height = driver.execute_script(\"return document.documentElement.clientHeight\")\n",
    "print(\"clientHeight : \", client_height) # 클라이언트 입장에서 쓸모 있다 느껴지는 내용\n",
    "\n",
    "offset_height = driver.execute_script(\"return document.documentElement.offsetHeight\")\n",
    "print(\"offsettHeight : \", offset_height) # 문서 그 자체 길이\n",
    "\n",
    "time.sleep(1)\n",
    "\n",
    "driver.quit()"
   ]
  },
  {
   "cell_type": "code",
   "execution_count": 60,
   "id": "c5e39ab0-4378-447b-946d-730194362e55",
   "metadata": {},
   "outputs": [],
   "source": [
    "from selenium import webdriver\n",
    "from selenium.webdriver.chrome.service import Service # 옵셥값 정의\n",
    "from selenium.webdriver.common.by import By #~에 의한 명령\n",
    "from webdriver_manager.chrome import ChromeDriverManager\n",
    "import time\n",
    "\n",
    "service = Service(ChromeDriverManager().install())\n",
    "driver = webdriver.Chrome(service = service) # service 문법 , 그래서 무조건 쓴다~, driver 특정사이트에 가서 크롤링해올수 있는 인스턴스객체\n",
    "\n",
    "driver.get(\"https://davelee-fun.github.io/\")\n",
    "\n",
    "# driver.execute_script(\"window.scrollTo(0,document.body.scrollHeight)\")\n",
    "driver.execute_script(\"window.scrollTo(0,2300)\")\n",
    "\n",
    "\n",
    "time.sleep(1)\n",
    "\n",
    "driver.quit()"
   ]
  },
  {
   "cell_type": "code",
   "execution_count": 63,
   "id": "51344d90-95b6-4fb7-8168-82f97bfbaae7",
   "metadata": {},
   "outputs": [],
   "source": [
    "from selenium import webdriver\n",
    "from selenium.webdriver.chrome.service import Service # 옵셥값 정의\n",
    "from selenium.webdriver.common.by import By #~에 의한 명령\n",
    "from selenium.webdriver.common.keys import Keys\n",
    "from webdriver_manager.chrome import ChromeDriverManager\n",
    "import time\n",
    "\n",
    "service = Service(ChromeDriverManager().install())\n",
    "driver = webdriver.Chrome(service = service) # service 문법 , 그래서 무조건 쓴다~, driver 특정사이트에 가서 크롤링해올수 있는 인스턴스객체\n",
    "\n",
    "driver.get(\"https://davelee-fun.github.io/\")\n",
    "\n",
    "driver.execute_script(\"window.scrollTo(0,document.body.scrollHeight)\")\n",
    "\n",
    "element = driver.find_element(By.NAME,\"EMAIL\")\n",
    "element.clear()\n",
    "\n",
    "element.send_keys(\"error@error.com\")\n",
    "time.sleep(3)\n",
    "\n",
    "element.send_keys(Keys.RETURN)\n",
    "time.sleep(3)\n",
    "\n",
    "\n",
    "driver.quit()"
   ]
  },
  {
   "cell_type": "code",
   "execution_count": 67,
   "id": "86c073d2-6c99-4452-ab5a-f892e51c0892",
   "metadata": {},
   "outputs": [
    {
     "name": "stdout",
     "output_type": "stream",
     "text": [
      "Requirement already satisfied: pyautogui in c:\\users\\user\\anaconda3\\lib\\site-packages (0.9.54)\n",
      "Requirement already satisfied: pymsgbox in c:\\users\\user\\anaconda3\\lib\\site-packages (from pyautogui) (1.0.9)\n",
      "Requirement already satisfied: pytweening>=1.0.4 in c:\\users\\user\\anaconda3\\lib\\site-packages (from pyautogui) (1.2.0)\n",
      "Requirement already satisfied: pyscreeze>=0.1.21 in c:\\users\\user\\anaconda3\\lib\\site-packages (from pyautogui) (1.0.1)\n",
      "Requirement already satisfied: pygetwindow>=0.0.5 in c:\\users\\user\\anaconda3\\lib\\site-packages (from pyautogui) (0.0.9)\n",
      "Requirement already satisfied: mouseinfo in c:\\users\\user\\anaconda3\\lib\\site-packages (from pyautogui) (0.1.3)\n",
      "Requirement already satisfied: pyrect in c:\\users\\user\\anaconda3\\lib\\site-packages (from pygetwindow>=0.0.5->pyautogui) (0.2.0)\n",
      "Requirement already satisfied: pyperclip in c:\\users\\user\\anaconda3\\lib\\site-packages (from mouseinfo->pyautogui) (1.9.0)\n"
     ]
    }
   ],
   "source": [
    "!pip install pyautogui"
   ]
  },
  {
   "cell_type": "code",
   "execution_count": 72,
   "id": "12086780-7ea3-49f7-9cc8-75113beb67cc",
   "metadata": {},
   "outputs": [],
   "source": [
    "from selenium import webdriver\n",
    "from selenium.webdriver.chrome.service import Service # 옵셥값 정의\n",
    "from selenium.webdriver.common.by import By #~에 의한 명령\n",
    "from selenium.webdriver.common.keys import Keys\n",
    "from webdriver_manager.chrome import ChromeDriverManager\n",
    "import time\n",
    "import pyautogui\n",
    "\n",
    "# screen_width, screen_height = pyautogui.size()\n",
    "# print(screen_width, screen_height)\n",
    "\n",
    "service = Service(ChromeDriverManager().install())\n",
    "driver = webdriver.Chrome(service = service) # service 문법 , 그래서 무조건 쓴다~, driver 특정사이트에 가서 크롤링해올수 있는 인스턴스객체\n",
    "\n",
    "driver.get(\"https://davelee-fun.github.io/\")\n",
    "screen_width, screen_height = pyautogui.size()\n",
    "driver.set_window_size(screen_width, screen_height) #가로, 세로\n",
    "element = driver.find_element(By.TAG_NAME, \"body\")\n",
    "\n",
    "element.screenshot(\"samplesite.png\")\n",
    "\n",
    "time.sleep(3)\n",
    "\n",
    "\n",
    "driver.quit()"
   ]
  }
 ],
 "metadata": {
  "kernelspec": {
   "display_name": "Python [conda env:base] *",
   "language": "python",
   "name": "conda-base-py"
  },
  "language_info": {
   "codemirror_mode": {
    "name": "ipython",
    "version": 3
   },
   "file_extension": ".py",
   "mimetype": "text/x-python",
   "name": "python",
   "nbconvert_exporter": "python",
   "pygments_lexer": "ipython3",
   "version": "3.13.5"
  }
 },
 "nbformat": 4,
 "nbformat_minor": 5
}
