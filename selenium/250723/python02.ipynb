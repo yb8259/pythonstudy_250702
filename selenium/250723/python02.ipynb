{
 "cells": [
  {
   "cell_type": "code",
   "execution_count": 7,
   "id": "24573d5a-cb0f-4da8-998b-b264f5d71cdb",
   "metadata": {},
   "outputs": [
    {
     "name": "stdout",
     "output_type": "stream",
     "text": [
      "Teddy의 선물 블로그\n"
     ]
    }
   ],
   "source": [
    "from selenium import webdriver\n",
    "from selenium.webdriver.chrome.service import Service # 옵셥값 정의\n",
    "from selenium.webdriver.common.by import By #~에 의한 명령\n",
    "from selenium.webdriver.common.keys import Keys\n",
    "from selenium.webdriver.chrome.options import Options\n",
    "from webdriver_manager.chrome import ChromeDriverManager\n",
    "import time\n",
    "import pyautogui\n",
    "\n",
    "service = Service(ChromeDriverManager().install())\n",
    "options = Options()\n",
    "options.add_argument(\"headless\")\n",
    "options.add_argument(\"window-size-1920x1080\")\n",
    "options.add_argument(\"--disable-gpu\")\n",
    "options.add_argument(\"user-agent=Mozilla/5.0 (Windows NT 10.0; Win64; x64) AppleWebKit/537.36 (KHTML, like Gecko) Chrome/138.0.0.0 Safari/537.36\")\n",
    "options.add_argument(\"lang=ko_KR\")\n",
    "# headless을 사용하려면 user-agent= 추가하기\n",
    "driver = webdriver.Chrome(service = service, options = options) # service 문법 , 그래서 무조건 쓴다~, driver 특정사이트에 가서 크롤링해올수 있는 인스턴스객체\n",
    "\n",
    "driver.get(\"https://davelee-fun.github.io/\")\n",
    "\n",
    "element = driver.find_element(By.TAG_NAME, \"h1\")\n",
    "print(element.text)\n",
    "\n",
    "time.sleep(3)\n",
    "\n",
    "\n",
    "driver.quit()"
   ]
  },
  {
   "cell_type": "markdown",
   "id": "8cec815f-015a-4219-9ba4-afa2513f0e24",
   "metadata": {},
   "source": [
    "#### 다음 웹 사이트에 접속해서 selenium을 활용해 크롤링 해오세요.\n",
    "- https://crawlingtest.netlify.app/\n",
    "- 부모요소의 id속성값이 dev-course-list 인 자식요소class가 cousrse인 데이터만 출력해주세요."
   ]
  },
  {
   "cell_type": "code",
   "execution_count": 25,
   "id": "44575e48-08a2-4424-863f-859d02074d79",
   "metadata": {},
   "outputs": [
    {
     "name": "stdout",
     "output_type": "stream",
     "text": [
      "(초급) - 강사가 실제 사용하는 자동 프로그램 소개 [2]\n",
      "(초급) - 필요한 프로그램 설치 시연 [5]\n",
      "(초급) - 데이터를 엑셀 파일로 만들기 [9]\n",
      "(초급) -     엑셀 파일 이쁘게! 이쁘게! [8]\n",
      "(초급) -     나대신 주기적으로 파이썬 프로그램 실행하기 [7]\n",
      "(초급) - 파이썬으로 슬랙(slack) 메신저에 글쓰기 [40]\n",
      "(초급) - 웹사이트 변경사항 주기적으로 체크해서, 메신저로 알람주기 [12]\n",
      "(초급) - 네이버 API 사용해서, 블로그에 글쓰기 [42]\n",
      "(중급) - 자동으로 쿠팡파트너스 API 로 가져온 상품 정보, 네이버 블로그/트위터에 홍보하기 [412]\n"
     ]
    }
   ],
   "source": [
    "from selenium import webdriver\n",
    "from selenium.webdriver.chrome.service import Service\n",
    "from selenium.webdriver.common.by import By\n",
    "\n",
    "service = Service(ChromeDriverManager().install())\n",
    "driver =webdriver.Chrome(service=service)\n",
    "\n",
    "driver.get(\"https://crawlingtest.netlify.app/\")\n",
    "elements= driver.find_elements(By.CSS_SELECTOR, \"ul#dev_course_list > li.course\")\n",
    "\n",
    "for element in elements :\n",
    "    print(element.text)\n",
    "\n",
    "time.sleep(1)\n",
    "\n",
    "driver.quit()"
   ]
  },
  {
   "cell_type": "markdown",
   "id": "2371d065-2ecb-4cd7-8fc3-93c33dc72614",
   "metadata": {},
   "source": [
    "#### 다음 웹 사이트에 접속해서 selenium을 활용해 크롤링 해오세요.\n",
    "- https://crawlingtest.netlify.app/\n",
    "- 해당 사이트 내 커리큘럼 일정표 데이터 출력해주세요."
   ]
  },
  {
   "cell_type": "code",
   "execution_count": 39,
   "id": "c1bddd8a-2e8e-4023-b212-49e98ed22c21",
   "metadata": {},
   "outputs": [
    {
     "name": "stdout",
     "output_type": "stream",
     "text": [
      "일정\n",
      "커리큘럼 타이틀\n",
      "난이도\n",
      "5.1 ~ 6.15\n",
      "나만의 엣지있는 블로그 사이트 만들기 (취미로 익히는 IT)\n",
      "초급\n",
      "6.16 ~ 7.31\n",
      "파이썬과 데이터과학 첫걸음 (IT 기본기 익히기)\n",
      "중급\n"
     ]
    }
   ],
   "source": [
    "from selenium import webdriver\n",
    "from selenium.webdriver.chrome.service import Service\n",
    "from selenium.webdriver.common.by import By\n",
    "import time\n",
    "\n",
    "service = Service(ChromeDriverManager().install())\n",
    "driver = webdriver.Chrome(service=service)\n",
    "\n",
    "driver.get(\"https://crawlingtest.netlify.app/\")\n",
    "#elements = driver.find_elements(By.TAG_NAME,\"td\")\n",
    "elements = driver.find_elements(By.CSS_SELECTOR,\"table tr td\")\n",
    "for element in elements :\n",
    "    print(element.text)\n",
    "\n",
    "time.sleep(1)\n",
    "\n",
    "driver.quit()"
   ]
  },
  {
   "cell_type": "markdown",
   "id": "07791e48-62b7-44bf-89f5-75517dc9eaa9",
   "metadata": {},
   "source": [
    "#### 다음 웹 사이트에 접속해서 selenium을 활용해 크롤링 해오세요.\n",
    "- https://crawlingtest.netlify.app/\n",
    "- 아래 데이터만 추출해오세요!!\n",
    "- (중급) - 자동으로 쿠팡파트너스 API 로 가져온 상품 정보, 네이버 블로그/트위터에 홍보하기 [412]"
   ]
  },
  {
   "cell_type": "code",
   "execution_count": 53,
   "id": "ef2741ae-cc9b-4222-ba8e-beb2a969ce3e",
   "metadata": {},
   "outputs": [
    {
     "name": "stdout",
     "output_type": "stream",
     "text": [
      "(중급) - 자동으로 쿠팡파트너스 API 로 가져온 상품 정보, 네이버 블로그/트위터에 홍보하기 [412]\n"
     ]
    },
    {
     "data": {
      "text/plain": [
       "<bound method ChromiumDriver.quit of <selenium.webdriver.chrome.webdriver.WebDriver (session=\"1f45e0be0262697c2771e4271fa04078\")>>"
      ]
     },
     "execution_count": 53,
     "metadata": {},
     "output_type": "execute_result"
    }
   ],
   "source": [
    "from selenium import webdriver\n",
    "from selenium.webdriver.chrome.service import Service\n",
    "from selenium.webdriver.common.by import By\n",
    "import time\n",
    "\n",
    "service = Service(ChromeDriverManager().install())\n",
    "driver= webdriver.Chrome(service=service)\n",
    "\n",
    "driver.get(\"https://crawlingtest.netlify.app/\")\n",
    "elements = driver.find_elements(By.CSS_SELECTOR,\"ul#dev_course_list > li.course\")\n",
    "\n",
    "print(elements[8].text)\n",
    "\n",
    "time.sleep(1)\n",
    "driver.quit"
   ]
  },
  {
   "cell_type": "markdown",
   "id": "3e492164-0a0b-4de0-bbd7-4771c7aeff50",
   "metadata": {},
   "source": [
    "#### 다음 웹 사이트에 접속해서 selenium을 활용해 크롤링 해오세요.\n",
    "- https://divjason.github.io/sellenium-test/\n",
    "- 클라스 값이 news 인 값만 찾아오시오!"
   ]
  },
  {
   "cell_type": "code",
   "execution_count": 58,
   "id": "eff1bab5-0ed9-4d24-8d42-05a5ebc04291",
   "metadata": {},
   "outputs": [
    {
     "name": "stdout",
     "output_type": "stream",
     "text": [
      "뉴스: 머신러닝 강좌가 나왔어요~~~\n"
     ]
    },
    {
     "data": {
      "text/plain": [
       "<bound method ChromiumDriver.quit of <selenium.webdriver.chrome.webdriver.WebDriver (session=\"7047054a2d4b2f477745aa8dec9f9086\")>>"
      ]
     },
     "execution_count": 58,
     "metadata": {},
     "output_type": "execute_result"
    }
   ],
   "source": [
    "from selenium import webdriver\n",
    "from selenium.webdriver.chrome.service import Service\n",
    "from selenium.webdriver.common.by import By\n",
    "from webdriver_manager.chrome import ChromeDriverManager\n",
    "import time\n",
    "\n",
    "service = Service(ChromeDriverManager().install())\n",
    "driver=webdriver.Chrome(service=service)\n",
    "\n",
    "driver.get(\"https://divjason.github.io/sellenium-test/\")\n",
    "element = driver.find_element(By.CSS_SELECTOR,\"div.message > span.news\")\n",
    "print(element.text)\n",
    "time.sleep(1)\n",
    "driver.quit"
   ]
  },
  {
   "cell_type": "markdown",
   "id": "71bea371-0e07-4641-a30b-ce96e4c5bb43",
   "metadata": {},
   "source": [
    "#### 다음 웹 사이트에 접속해서 selenium을 활용해 크롤링 해오세요.\n",
    "- https://divjason.github.io/sellenium-test/\n",
    "- 클라스 값이 news 인 값만 찾아오시오!\n",
    "- input 태그 요소에 아이디 error@error.com / 비밀번호 1234 입력 후 로그인 버튼 자동으로 클릭하기!"
   ]
  },
  {
   "cell_type": "code",
   "execution_count": 68,
   "id": "623547e5-b2e2-41f2-816b-587bd0c1f17e",
   "metadata": {},
   "outputs": [
    {
     "data": {
      "text/plain": [
       "<bound method ChromiumDriver.quit of <selenium.webdriver.chrome.webdriver.WebDriver (session=\"2bf142495ac25adfdffc7e85b871d957\")>>"
      ]
     },
     "execution_count": 68,
     "metadata": {},
     "output_type": "execute_result"
    }
   ],
   "source": [
    "from selenium import webdriver\n",
    "from selenium.webdriver.chrome.service import Service\n",
    "from selenium.webdriver.common.by import By\n",
    "from selenium.webdriver.common.keys import Keys\n",
    "from webdriver_manager.chrome import ChromeDriverManager\n",
    "import time\n",
    "\n",
    "service = Service(ChromeDriverManager().install())\n",
    "driver = webdriver.Chrome(service=service)\n",
    "\n",
    "driver.get(\"https://divjason.github.io/sellenium-test/\")\n",
    "driver.execute_script(\"window.scrollTo(0,document.body.scrollHeight)\")\n",
    "\n",
    "element01 = driver.find_element(By.NAME,\"username\")\n",
    "# element01 = driver.find_element(By.ID,\"username\")\n",
    "element01.clear()\n",
    "element01.send_keys(\"error@error.com\")\n",
    "\n",
    "element02 = driver.find_element(By.NAME,\"password\")\n",
    "# element02 = driver.find_element(By.ID,\"password\")\n",
    "element02.clear()\n",
    "element02.send_keys(\"1234\")\n",
    "#여기선 변수명 같이 사용해도 됨. 파이썬은 유연하니까~\n",
    "\n",
    "time.sleep(3)\n",
    "\n",
    "# element02.send_keys(Keys.RETURN) # 엔터키 입력\n",
    "element = driver.find_element(By.CSS_SELECTOR, \"input[type='submit']\") # CSS는 이렇게 쓰임, input 태그 많아요ㅠ\n",
    "element.click()\n",
    "\n",
    "\n",
    "driver.quit"
   ]
  },
  {
   "cell_type": "markdown",
   "id": "f64ab46e-a6ba-457a-b248-75ed078cd02c",
   "metadata": {},
   "source": [
    "#### 다음 웹 사이트에 접속해서 selenium을 활용해 크롤링 해오세요.\n",
    "- https://divjason.github.io/sellenium-test/\n",
    "- 클라스 값이 news 인 값만 찾아오시오!\n",
    "- input 태그 요소에 아이디 error@error.com / 비밀번호 1234 입력 후 로그인 버튼 자동으로 클릭하기!\n",
    "- 클릭 이후 이동한 페이지에서message라는 클래스 속성값을 가지고 있는 요소의 텍스트 정보를 출력!!"
   ]
  },
  {
   "cell_type": "code",
   "execution_count": 72,
   "id": "4b2ae899-980a-4e6d-9530-929d53896f9f",
   "metadata": {},
   "outputs": [
    {
     "name": "stdout",
     "output_type": "stream",
     "text": [
      "실제 사이트는 https://megaitlab.com/ 입니다\n",
      "본 페이지는 로그인된 페이지입니다!\n",
      "뉴스: 머신러닝 강좌가 나왔어요~~~\n"
     ]
    },
    {
     "data": {
      "text/plain": [
       "<bound method ChromiumDriver.quit of <selenium.webdriver.chrome.webdriver.WebDriver (session=\"bd8017a4f9df37bd2c3b266608c39fed\")>>"
      ]
     },
     "execution_count": 72,
     "metadata": {},
     "output_type": "execute_result"
    }
   ],
   "source": [
    "from selenium import webdriver\n",
    "from selenium.webdriver.chrome.service import Service\n",
    "from selenium.webdriver.common.by import By\n",
    "from selenium.webdriver.common.keys import Keys\n",
    "from webdriver_manager.chrome import ChromeDriverManager\n",
    "import time\n",
    "\n",
    "service = Service(ChromeDriverManager().install())\n",
    "driver = webdriver.Chrome(service=service)\n",
    "\n",
    "driver.get(\"https://divjason.github.io/sellenium-test/\")\n",
    "driver.execute_script(\"window.scrollTo(0,document.body.scrollHeight)\")\n",
    "\n",
    "element01 = driver.find_element(By.NAME,\"username\")\n",
    "# element01 = driver.find_element(By.ID,\"username\")\n",
    "element01.clear()\n",
    "element01.send_keys(\"error@error.com\")\n",
    "\n",
    "element02 = driver.find_element(By.NAME,\"password\")\n",
    "# element02 = driver.find_element(By.ID,\"password\")\n",
    "element02.clear()\n",
    "element02.send_keys(\"1234\")\n",
    "#여기선 변수명 같이 사용해도 됨. 파이썬은 유연하니까~\n",
    "\n",
    "time.sleep(3)\n",
    "\n",
    "# element02.send_keys(Keys.RETURN) # 엔터키 입력\n",
    "element = driver.find_element(By.CSS_SELECTOR, \"input[type='submit']\") # CSS는 이렇게 쓰임, input 태그 많아요ㅠ\n",
    "element.click()\n",
    "\n",
    "elements = driver.find_elements(By.CSS_SELECTOR,\"div.message\")\n",
    "for element in elements:\n",
    "    print(element.text)\n",
    "\n",
    "\n",
    "driver.quit"
   ]
  },
  {
   "cell_type": "markdown",
   "id": "2dd3ffdc-21d3-410d-a5cb-8f178309442e",
   "metadata": {},
   "source": [
    "#### 다음 웹 사이트에 접속해서 selenium을 활용해 크롤링 해오세요.\n",
    "- https://divjason.github.io/sellenium-test/\n",
    "- 클라스 값이 news 인 값만 찾아오시오!\n",
    "- input 태그 요소에 아이디 error@error.com / 비밀번호 1234 입력 후 로그인 버튼 자동으로 클릭하기!\n",
    "- 클릭 이후 이동한 페이지에서message라는 클래스 속성값을 가지고 있는 요소의 텍스트 정보를 출력!!\n",
    "- 해당 페이지에서 로그아웃 버튼을 클릭 후 이동한 페이지에서 다시 message 라는 속성값을 가지고 있는 요소와 텍스트 정보를 출력!"
   ]
  },
  {
   "cell_type": "code",
   "execution_count": 79,
   "id": "4e5a1921-5817-4cf7-8d7c-8f50651c56cf",
   "metadata": {},
   "outputs": [
    {
     "name": "stdout",
     "output_type": "stream",
     "text": [
      "실제 사이트는 https://megaitlab.com/ 입니다\n",
      "본 페이지는 로그인된 페이지입니다!\n",
      "뉴스: 머신러닝 강좌가 나왔어요~~~\n",
      "실제 사이트는 https://megaitlab.com/ 입니다\n",
      "본 페이지는 로그인된 페이지입니다!\n",
      "뉴스: 머신러닝 강좌가 나왔어요~~~\n"
     ]
    },
    {
     "data": {
      "text/plain": [
       "<bound method ChromiumDriver.quit of <selenium.webdriver.chrome.webdriver.WebDriver (session=\"b5bf243bcc1953c50d05c13b0772f3c0\")>>"
      ]
     },
     "execution_count": 79,
     "metadata": {},
     "output_type": "execute_result"
    }
   ],
   "source": [
    "from selenium import webdriver\n",
    "from selenium.webdriver.chrome.service import Service\n",
    "from selenium.webdriver.common.by import By\n",
    "from selenium.webdriver.common.keys import Keys\n",
    "from webdriver_manager.chrome import ChromeDriverManager\n",
    "import time\n",
    "\n",
    "service = Service(ChromeDriverManager().install())\n",
    "driver = webdriver.Chrome(service=service)\n",
    "\n",
    "driver.get(\"https://divjason.github.io/sellenium-test/\")\n",
    "driver.execute_script(\"window.scrollTo(0,document.body.scrollHeight)\")\n",
    "\n",
    "element01 = driver.find_element(By.NAME,\"username\")\n",
    "# element01 = driver.find_element(By.ID,\"username\")\n",
    "element01.clear()\n",
    "element01.send_keys(\"error@error.com\")\n",
    "\n",
    "element02 = driver.find_element(By.NAME,\"password\")\n",
    "# element02 = driver.find_element(By.ID,\"password\")\n",
    "element02.clear()\n",
    "element02.send_keys(\"1234\")\n",
    "#여기선 변수명 같이 사용해도 됨. 파이썬은 유연하니까~\n",
    "\n",
    "time.sleep(3)\n",
    "\n",
    "# element02.send_keys(Keys.RETURN) # 엔터키 입력\n",
    "element = driver.find_element(By.CSS_SELECTOR, \"input[type='submit']\") # CSS는 이렇게 쓰임, input 태그 많아요ㅠ\n",
    "element.click()\n",
    "\n",
    "elements = driver.find_elements(By.CSS_SELECTOR,\"div.message\")\n",
    "for element in elements:\n",
    "    print(element.text)\n",
    "\n",
    "time.sleep(3)\n",
    "\n",
    "element03 = driver.find_element(By.CSS_SELECTOR,\"input[type='submit']\")\n",
    "element03.click()\n",
    "\n",
    "elements = driver.find_elements(By.CSS_SELECTOR,\"div.message\")\n",
    "for element in elements:\n",
    "    print(element.text)\n",
    "\n",
    "driver.quit"
   ]
  }
 ],
 "metadata": {
  "kernelspec": {
   "display_name": "Python [conda env:base] *",
   "language": "python",
   "name": "conda-base-py"
  },
  "language_info": {
   "codemirror_mode": {
    "name": "ipython",
    "version": 3
   },
   "file_extension": ".py",
   "mimetype": "text/x-python",
   "name": "python",
   "nbconvert_exporter": "python",
   "pygments_lexer": "ipython3",
   "version": "3.13.5"
  }
 },
 "nbformat": 4,
 "nbformat_minor": 5
}
