{
 "cells": [
  {
   "cell_type": "code",
   "execution_count": 3,
   "id": "d6bb17fb-0375-44fa-9501-c9e85872e533",
   "metadata": {},
   "outputs": [
    {
     "ename": "NameError",
     "evalue": "name 'options' is not defined",
     "output_type": "error",
     "traceback": [
      "\u001b[1;31m---------------------------------------------------------------------------\u001b[0m",
      "\u001b[1;31mNameError\u001b[0m                                 Traceback (most recent call last)",
      "Cell \u001b[1;32mIn[3], line 18\u001b[0m\n\u001b[0;32m     11\u001b[0m service \u001b[38;5;241m=\u001b[39m Service(ChromeDriverManager()\u001b[38;5;241m.\u001b[39minstall())\n\u001b[0;32m     13\u001b[0m prefs \u001b[38;5;241m=\u001b[39m{\n\u001b[0;32m     14\u001b[0m     \u001b[38;5;124m\"\u001b[39m\u001b[38;5;124mcredentioals_enable_service\u001b[39m\u001b[38;5;124m\"\u001b[39m : \u001b[38;5;28;01mFalse\u001b[39;00m, \u001b[38;5;66;03m#크롬 웹 브라우저 자체 로그인 팝업 비활성화\u001b[39;00m\n\u001b[0;32m     15\u001b[0m     \u001b[38;5;124m\"\u001b[39m\u001b[38;5;124mprofile.password_manager_enabled\u001b[39m\u001b[38;5;124m\"\u001b[39m : \u001b[38;5;28;01mFalse\u001b[39;00m, \u001b[38;5;66;03m# 비밀번호 저장 팝업끄기\u001b[39;00m\n\u001b[0;32m     16\u001b[0m }\n\u001b[1;32m---> 18\u001b[0m options\u001b[38;5;241m.\u001b[39madd_experimental_option(\u001b[38;5;124m\"\u001b[39m\u001b[38;5;124mprefs\u001b[39m\u001b[38;5;124m\"\u001b[39m,prefs)\n\u001b[0;32m     19\u001b[0m driver \u001b[38;5;241m=\u001b[39m webdriver\u001b[38;5;241m.\u001b[39mChrome(service\u001b[38;5;241m=\u001b[39mservice)\n\u001b[0;32m     22\u001b[0m driver\u001b[38;5;241m.\u001b[39mget(\u001b[38;5;124m\"\u001b[39m\u001b[38;5;124mhttps://divjason.github.io/sellenium-test/\u001b[39m\u001b[38;5;124m\"\u001b[39m)\n",
      "\u001b[1;31mNameError\u001b[0m: name 'options' is not defined"
     ]
    }
   ],
   "source": [
    "from selenium import webdriver\n",
    "from selenium.webdriver.chrome.service import Service\n",
    "from selenium.webdriver.chrome.options import Options\n",
    "from selenium.webdriver.common.by import By\n",
    "from selenium.webdriver.common.keys import Keys\n",
    "from webdriver_manager.chrome import ChromeDriverManager\n",
    "import time\n",
    "\n",
    "\n",
    "\n",
    "service = Service(ChromeDriverManager().install())\n",
    "\n",
    "prefs ={\n",
    "    \"credentioals_enable_service\" : False, #크롬 웹 브라우저 자체 로그인 팝업 비활성화\n",
    "    \"profile.password_manager_enabled\" : False, # 비밀번호 저장 팝업끄기\n",
    "}\n",
    "\n",
    "options.add_experimental_option(\"prefs\",prefs)\n",
    "driver = webdriver.Chrome(service=service)\n",
    "\n",
    "\n",
    "driver.get(\"https://divjason.github.io/sellenium-test/\")\n",
    "driver.execute_script(\"window.scrollTo(0,document.body.scrollHeight)\")\n",
    "\n",
    "element01 = driver.find_element(By.NAME,\"username\")\n",
    "# element01 = driver.find_element(By.ID,\"username\")\n",
    "element01.clear()\n",
    "element01.send_keys(\"error@error.com\")\n",
    "\n",
    "element02 = driver.find_element(By.NAME,\"password\")\n",
    "# element02 = driver.find_element(By.ID,\"password\")\n",
    "element02.clear()\n",
    "element02.send_keys(\"1234\")\n",
    "#여기선 변수명 같이 사용해도 됨. 파이썬은 유연하니까~\n",
    "\n",
    "time.sleep(3)\n",
    "\n",
    "# element02.send_keys(Keys.RETURN) # 엔터키 입력\n",
    "element = driver.find_element(By.CSS_SELECTOR, \"input[type='submit']\") # CSS는 이렇게 쓰임, input 태그 많아요ㅠ\n",
    "element.click()\n",
    "\n",
    "elements = driver.find_elements(By.CSS_SELECTOR,\"div.message\")\n",
    "for element in elements:\n",
    "    print(element.text)\n",
    "\n",
    "time.sleep(3)\n",
    "\n",
    "element03 = driver.find_element(By.CSS_SELECTOR,\"input[type='submit']\")\n",
    "element03.click()\n",
    "\n",
    "driver.get(\"https://divjason.github.io/sellenium-test/\")\n",
    "elements = driver.find_elements(By.CSS_SELECTOR,\"div.message\")\n",
    "for element in elements:\n",
    "    print(element.text)\n",
    "\n",
    "driver.quit"
   ]
  },
  {
   "cell_type": "markdown",
   "id": "6a761f47-e0b9-422e-97da-1f85f583dede",
   "metadata": {},
   "source": [
    "내가 하고싶은 크롤링이 여러페이지에 있을 때!"
   ]
  },
  {
   "cell_type": "code",
   "execution_count": 14,
   "id": "8c411c91-a0fd-4144-b86d-f71ffe0feef9",
   "metadata": {},
   "outputs": [
    {
     "name": "stdout",
     "output_type": "stream",
     "text": [
      "상품명: 보몽드 순면스퀘어 솔리드 누빔매트커버, 다크블루\n",
      "상품명: 슈에뜨룸 선인장 리플 침구 세트, 베이지\n",
      "상품명: 선우랜드 레인보우 2단 문걸이용 옷걸이 _중형, 화이트, 상세페이지참조\n",
      "상품명: 보드래 헬로우 누빔 매트리스커버, 핑크\n",
      "상품명: 보드래 퍼펙트 누빔 매트리스커버, 차콜\n",
      "상품명: 피아블 클래식 방수 매트리스커버, 화이트\n",
      "상품명: 더자리 에코항균 마이크로 매트리스커버, 밀키차콜그레이\n",
      "상품명: 더자리 프레쉬 퓨어 매트리스 커버, 퓨어 차콜그레이\n",
      "상품명: 몽쉐어 알러스킨 항균 매트리스 커버, 카키그레이\n",
      "상품명: 쿠팡 브랜드 - 코멧 홈 40수 트윌 순면 100% 홑겹 매트리스커버, 그레이\n",
      "상품명: 패브릭아트 항균 마이크로 원단 매트리스 커버, 아이보리\n",
      "상품명: 바숨 순면 누빔 침대 매트리스커버, 차콜\n",
      "상품명: WEMAX 다용도 문옷걸이, 화이트, 1개\n",
      "상품명: 타카타카 프리미엄 나노 화이바 누빔 매트리스 커버, 젠틀핑핑\n",
      "상품명: 보몽드 순면스퀘어 누빔매트커버, 다크그레이\n",
      "상품명: 보드래 국내산 순면 60수 누빔 매트리스커버, 그레이\n",
      "상품명: 보드래 퍼펙트 누빔 매트리스커버, 베이지핑크\n",
      "상품명: 쿠팡 브랜드 - 코멧 홈 40수 순면 누빔 매트리스커버, 챠콜\n",
      "상품명: 바숨 순면 누빔 침대 매트리스커버, 화이트\n",
      "상품명: 프랑떼 항균 방수 매트리스커버, 화이트\n",
      "상품명: 보몽드 순면스퀘어 솔리드 누빔매트커버, 다크블루\n",
      "상품명: 네이쳐리빙 피아블 클래식 방수 매트리스커버, 그레이\n",
      "상품명: 쿠팡 브랜드 - 코멧 홈 순면 매트리스커버, 베이지\n",
      "상품명: 타카타카 프리미엄 나노 화이바 누빔 매트리스 커버, 프렌치불독\n",
      "상품명: 더자리 에코항균 마이크로 매트리스커버, 밀키그레이\n",
      "상품명: 보몽드 순면스퀘어 누빔매트커버, 화이트\n",
      "상품명: 피아블 클래식 방수 매트리스커버, 화이트\n",
      "상품명: 쿠팡 브랜드 - 코멧 홈 순면 매트리스커버, 차콜그레이\n",
      "상품명: 보드래 헬로우 누빔 매트리스커버, 핑크\n",
      "상품명: 보몽드 순면스퀘어 솔리드 누빔매트커버, 아이보리\n",
      "상품명: 더자리 에코항균 마이크로 매트리스커버, 밀키핑크\n",
      "상품명: 타카타카 프리미엄 나노 화이바 누빔 매트리스 커버, 미스밍고\n",
      "상품명: 네이쳐리빙 피아블 클래식 방수 매트리스커버, 그레이\n",
      "상품명: 프로텍트어베드 베이직 매트리스 방수커버, 그레이\n",
      "완료\n"
     ]
    },
    {
     "data": {
      "text/plain": [
       "<bound method ChromiumDriver.quit of <selenium.webdriver.chrome.webdriver.WebDriver (session=\"b60ca8b3d3950ea27c38cba71b4cd872\")>>"
      ]
     },
     "execution_count": 14,
     "metadata": {},
     "output_type": "execute_result"
    }
   ],
   "source": [
    "from selenium import webdriver\n",
    "from selenium.webdriver.chrome.service import Service # 옵셥값 정의\n",
    "from selenium.webdriver.common.by import By #~에 의한 명령\n",
    "from selenium.webdriver.common.keys import Keys\n",
    "from selenium.webdriver.chrome.options import Options\n",
    "from webdriver_manager.chrome import ChromeDriverManager\n",
    "import time\n",
    "import pyautogui\n",
    "\n",
    "service = Service(ChromeDriverManager().install())\n",
    "options = Options()\n",
    "# options.add_argument(\"headless\")\n",
    "options.add_argument(\"window-size-1920x1080\")\n",
    "options.add_argument(\"--disable-gpu\")\n",
    "options.add_argument(\"user-agent=Mozilla/5.0 (Windows NT 10.0; Win64; x64) AppleWebKit/537.36 (KHTML, like Gecko) Chrome/138.0.0.0 Safari/537.36\")\n",
    "options.add_argument(\"lang=ko_KR\")\n",
    "\n",
    "driver = webdriver.Chrome(service=service, options=options)\n",
    "driver.get(\"https://davelee-fun.github.io/\")\n",
    "\n",
    "elements = driver.find_elements(By.CSS_SELECTOR, \"h4.card-text\")\n",
    "for element in elements(0,8): \n",
    "    print(element.text)\n",
    "\n",
    "elements01 = driver.find_elements(By.CSS_SELECTOR,\"a.ml-1.mr-1\")\n",
    "elements01[7].click()\n",
    "\n",
    "elements = driver.find_elements(By.CSS_SELECTOR, \"h4.card-text\")\n",
    "for element in elements: \n",
    "    print(element.text)\n",
    "\n",
    "elements01 = driver.find_elements(By.CSS_SELECTOR,\"a.ml-1.mr-1\")\n",
    "elements01[7].click()\n",
    "\n",
    "elements = driver.find_elements(By.CSS_SELECTOR, \"h4.card-text\")\n",
    "for element in elements: \n",
    "    print(element.text)\n",
    "\n",
    "\n",
    "\n",
    "print(\"완료\")\n",
    "\n",
    "driver.quit"
   ]
  }
 ],
 "metadata": {
  "kernelspec": {
   "display_name": "Python [conda env:base] *",
   "language": "python",
   "name": "conda-base-py"
  },
  "language_info": {
   "codemirror_mode": {
    "name": "ipython",
    "version": 3
   },
   "file_extension": ".py",
   "mimetype": "text/x-python",
   "name": "python",
   "nbconvert_exporter": "python",
   "pygments_lexer": "ipython3",
   "version": "3.13.5"
  }
 },
 "nbformat": 4,
 "nbformat_minor": 5
}
