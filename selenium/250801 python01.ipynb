{
 "cells": [
  {
   "cell_type": "markdown",
   "id": "cca5ad6f-b8e2-4576-beee-ccdfebf27761",
   "metadata": {},
   "source": [
    "- 노컷뉴스 연예면 주요 기사 제목을 5개 수집하세요.\n",
    "- 아프리카TV 인기 방송 제목을 수집하세요.\n",
    "- 마이리얼트립에서 인기 도시별 여행 상품 제목을 수집하세요.\n",
    "- 대한민국 국회 홈페이지에서 최근 입법안 제목 10개를 수집하세요.\n",
    "- KBS 뉴스 홈페이지에서 주요 뉴스 타이틀을 수집하세요."
   ]
  },
  {
   "cell_type": "code",
   "execution_count": 10,
   "id": "ec619721-dc6d-48a1-994d-094d6cb1af15",
   "metadata": {},
   "outputs": [
    {
     "name": "stdout",
     "output_type": "stream",
     "text": [
      "1. 거미♥조정석 두 아이 부모된다…5년 만에 둘째 임신\n",
      "2. '데뷔 18주년' 앞둔 소녀시대, 티파니 생일→완전체 회동\n",
      "3. '컨저링 유니버스'의 최종장이 온다…'마지막 의식' 9월 개봉\n",
      "4. BTS 뷔, 팬 무질서 소신발언 \"공항은 우리 것 아냐\"\n",
      "5. 이보영이 던진 '안락사' 화두 \"걱정되지만…말할 기회되길\"[현장EN:]\n"
     ]
    }
   ],
   "source": [
    "import requests \n",
    "from bs4 import BeautifulSoup\n",
    "\n",
    "url = \"https://www.nocutnews.co.kr/news/entertainment\"\n",
    "response = requests.get(url)\n",
    "soup= BeautifulSoup(response.text, \"html.parser\")\n",
    "\n",
    "titles = soup.select(\"ul.newslist_b strong.clamp2\")\n",
    "for i, title in enumerate(titles[:5], 1) : \n",
    "    print(f\"{i}. {title.text.strip()}\")"
   ]
  },
  {
   "cell_type": "code",
   "execution_count": 17,
   "id": "48331450-eabd-42c8-a1ab-055b92a1c194",
   "metadata": {},
   "outputs": [],
   "source": [
    "from selenium import webdriver \n",
    "from selenium.webdriver.chrome.service import Service  \n",
    "from selenium.webdriver.common.by import By \n",
    "from selenium.webdriver.common.keys import Keys  \n",
    "from selenium.webdriver.chrome.options import Options  \n",
    "from webdriver_manager.chrome import ChromeDriverManager  \n",
    "import time  \n",
    "\n",
    "service = Service(ChromeDriverManager().install())\n",
    "options = Options()\n",
    "# options.add_argument(\"headless\")\n",
    "options.add_argument(\"window-size-1920x1080\")\n",
    "options.add_argument(\"--disable-gpu\")\n",
    "options.add_argument(\"user-agent=Mozilla/5.0 (Windows NT 10.0; Win64; x64) AppleWebKit/537.36 (KHTML, like Gecko) Chrome/138.0.0.0 Safari/537.36\")\n",
    "options.add_argument(\"lang=ko_KR\")\n",
    "\n",
    "driver = webdriver.Chrome(service=service, options=options)\n",
    "driver.get(\"https://www.sooplive.co.kr/live/all\")\n",
    "\n",
    "elements = driver.find_elements(By.CSS_SELECTOR, \"h3.title\")\n",
    "for i, element in enumerate(elements,1) :\n",
    "    element1=driver.find_element(By.XPATH,\"//button[@type='button']\")\n",
    "    element.click()\n",
    "    print(f\"{i}. {element.text.strip()}\")"
   ]
  }
 ],
 "metadata": {
  "kernelspec": {
   "display_name": "Python [conda env:base] *",
   "language": "python",
   "name": "conda-base-py"
  },
  "language_info": {
   "codemirror_mode": {
    "name": "ipython",
    "version": 3
   },
   "file_extension": ".py",
   "mimetype": "text/x-python",
   "name": "python",
   "nbconvert_exporter": "python",
   "pygments_lexer": "ipython3",
   "version": "3.13.5"
  }
 },
 "nbformat": 4,
 "nbformat_minor": 5
}
