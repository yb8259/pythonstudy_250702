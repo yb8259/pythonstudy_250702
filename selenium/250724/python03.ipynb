{
 "cells": [
  {
   "cell_type": "code",
   "execution_count": 8,
   "id": "3a6d35d5-80af-45ee-9fe6-f60d61c0cd6c",
   "metadata": {},
   "outputs": [
    {
     "name": "stdout",
     "output_type": "stream",
     "text": [
      "실제 사이트는 https://megaitlab.com/ 입니다\n",
      "본 페이지는 로그인된 페이지입니다!\n",
      "뉴스: 머신러닝 강좌가 나왔어요~~~\n"
     ]
    }
   ],
   "source": [
    "# 로그인하고 로그인 페이지에서 클라스가 message 인 값 가져오\n",
    "from selenium import webdriver  # Selenium: 웹 브라우저 자동화 제어용 라이브러리\n",
    "from selenium.webdriver.chrome.service import Service  # Chrome 드라이버 서비스 설정용 (옵션 정의에 필요)\n",
    "from selenium.webdriver.common.by import By  # 요소 선택을 위한 방법 정의 (예: By.ID, By.CSS_SELECTOR 등)\n",
    "from selenium.webdriver.common.keys import Keys  # 키보드 입력 시 사용 (엔터, 화살표 등)\n",
    "from selenium.webdriver.chrome.options import Options  # Chrome 실행 시 부가적인 옵션 설정용\n",
    "from webdriver_manager.chrome import ChromeDriverManager  # 크롬 드라이버를 자동으로 설치/관리해주는 매니저\n",
    "from urllib.request import urlretrieve  # URL에서 파일을 다운로드하고 로컬에 저장할 수 있는 함수\n",
    "import time  # 시간 지연을 위한 기본 모듈 (ex. time.sleep)\n",
    "import pyautogui  # 마우스, 키보드 자동 제어 라이브러리 (화면 클릭, 입력 등 자동화에 사용)\n",
    "\n",
    "service = Service(ChromeDriverManager().install())\n",
    "driver = webdriver.Chrome(service=service)\n",
    "driver.get(\"https://divjason.github.io/sellenium-test/\")\n",
    "\n",
    "element = driver.find_element(By.XPATH, \"//input[@id='username']\")\n",
    "element.clear()\n",
    "element.send_keys(\"error@error.com\")\n",
    "\n",
    "element= driver.find_element(By.XPATH, \"//input[@id='password']\")\n",
    "element.clear()\n",
    "element.send_keys(\"1234\")\n",
    "\n",
    "element=driver.find_element(By.XPATH,\"//input[@type='submit']\")\n",
    "element.click()\n",
    "\n",
    "element=driver.find_element(By.XPATH,\"//div[@class='message']\")\n",
    "print(element.text)\n",
    "\n",
    "driver.quit()"
   ]
  },
  {
   "cell_type": "code",
   "execution_count": 6,
   "id": "f0a946d6-9f7a-43fa-adbc-14a4260bd1c8",
   "metadata": {},
   "outputs": [
    {
     "name": "stdout",
     "output_type": "stream",
     "text": [
      "실제 사이트는 https://megaitlab.com/ 입니다\n",
      "뉴스: 머신러닝 강좌가 나왔어요~~~\n"
     ]
    }
   ],
   "source": [
    "#로그아웃 페이지에서 지가해서 로그아웃 버튼 누르고 메세지 가져오기\n",
    "from selenium import webdriver  # Selenium: 웹 브라우저 자동화 제어용 라이브러리\n",
    "from selenium.webdriver.chrome.service import Service  # Chrome 드라이버 서비스 설정용 (옵션 정의에 필요)\n",
    "from selenium.webdriver.common.by import By  # 요소 선택을 위한 방법 정의 (예: By.ID, By.CSS_SELECTOR 등)\n",
    "from selenium.webdriver.common.keys import Keys  # 키보드 입력 시 사용 (엔터, 화살표 등)\n",
    "from selenium.webdriver.chrome.options import Options  # Chrome 실행 시 부가적인 옵션 설정용\n",
    "from webdriver_manager.chrome import ChromeDriverManager  # 크롬 드라이버를 자동으로 설치/관리해주는 매니저\n",
    "from urllib.request import urlretrieve  # URL에서 파일을 다운로드하고 로컬에 저장할 수 있는 함수\n",
    "import time  # 시간 지연을 위한 기본 모듈 (ex. time.sleep)\n",
    "import pyautogui  # 마우스, 키보드 자동 제어 라이브러리 (화면 클릭, 입력 등 자동화에 사용)\n",
    "\n",
    "service = Service(ChromeDriverManager().install())\n",
    "driver = webdriver.Chrome(service=service)\n",
    "driver.get(\"https://divjason.github.io/sellenium-test/index_login.html?username=error%40error.com&password=1234\")\n",
    "\n",
    "element=driver.find_element(By.XPATH,\"//input[@type='submit']\")\n",
    "element.click()\n",
    "\n",
    "time.sleep(1)\n",
    "\n",
    "element=driver.find_element(By.XPATH,\"//div[@class='message']\")\n",
    "print(element.text)\n",
    "\n",
    "time.sleep(1)\n",
    "\n",
    "driver.quit()"
   ]
  }
 ],
 "metadata": {
  "kernelspec": {
   "display_name": "Python [conda env:base] *",
   "language": "python",
   "name": "conda-base-py"
  },
  "language_info": {
   "codemirror_mode": {
    "name": "ipython",
    "version": 3
   },
   "file_extension": ".py",
   "mimetype": "text/x-python",
   "name": "python",
   "nbconvert_exporter": "python",
   "pygments_lexer": "ipython3",
   "version": "3.13.5"
  }
 },
 "nbformat": 4,
 "nbformat_minor": 5
}
