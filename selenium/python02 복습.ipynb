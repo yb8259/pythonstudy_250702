{
 "cells": [
  {
   "cell_type": "markdown",
   "id": "093af83e-ecfe-4f83-a658-0d01088bde0d",
   "metadata": {},
   "source": [
    "#### ─────────────────────────────────────────────────────────────\n",
    "#### 📦 모듈 불러오기 (웹 자동화, 다운로드, 마우스/키보드 제어 등)\n",
    "#### ─────────────────────────────────────────────────────────────\n",
    "\n",
    "- from selenium import webdriver  # Selenium: 웹 브라우저 자동화 제어용 라이브러리\n",
    "- from selenium.webdriver.chrome.service import Service  # Chrome 드라이버 서비스 설정용 (옵션 정의에 필요)\n",
    "- from selenium.webdriver.common.by import By  # 요소 선택을 위한 방법 정의 (예: By.ID, By.CSS_SELECTOR 등)\n",
    "- from selenium.webdriver.common.keys import Keys  # 키보드 입력 시 사용 (엔터, 화살표 등)\n",
    "- from selenium.webdriver.chrome.options import Options  # Chrome 실행 시 부가적인 옵션 설정용\n",
    "- from webdriver_manager.chrome import ChromeDriverManager  # 크롬 드라이버를 자동으로 설치/관리해주는 매니저\n",
    "- from urllib.request import urlretrieve  # URL에서 파일을 다운로드하고 로컬에 저장할 수 있는 함수\n",
    "- import time  # 시간 지연을 위한 기본 모듈 (ex. time.sleep)\n",
    "- import pyautogui  # 마우스, 키보드 자동 제어 라이브러리 (화면 클릭, 입력 등 자동화에 사용)"
   ]
  },
  {
   "cell_type": "markdown",
   "id": "be6a7ba3-5864-4083-ba31-758de9e76a90",
   "metadata": {},
   "source": [
    "\n",
    "service = Service(ChromeDriverManager().install())  \n",
    "- ChromeDriverManager를 통해 최신 크롬 드라이버를 자동으로 설치하고, Service 객체로 래핑하여 Selenium이 사용할 수 있도록 설정\n",
    "\n",
    "options = Options()  \n",
    "- Chrome 실행 시 사용할 옵션들을 설정하기 위한 Options 객체 생성\n",
    "\n",
    "options.add_argument(\"--headless\")  \n",
    "- 브라우저를 실제로 띄우지 않고 백그라운드(화면 없이)에서 실행 (GUI 없는 환경에서 유용함)\n",
    "\n",
    "options.add_argument(\"window-size=1920x1080\")  \n",
    "- 브라우저 창의 크기를 지정 (headless 모드에서는 크기를 명시하지 않으면 화면 요소가 깨질 수 있음)\n",
    "\n",
    "options.add_argument(\"--disable-gpu\")  \n",
    "- GPU 하드웨어 가속 기능을 끔 (headless 모드에서 일부 그래픽 관련 이슈 방지용)\n",
    "\n",
    "options.add_argument(\"--user-agent=Mozilla/5.0 (Windows NT 10.0; Win64; x64) AppleWebKit/537.36 (KHTML, like Gecko) Chrome/138.0.0.0 Safari/537.36\")  \n",
    "- 브라우저의 사용자 에이전트(User-Agent)를 설정해, 자동화 탐지를 피하거나 특정 환경을 흉내낼 때 사용\n",
    "\n",
    "options.add_argument(\"lang=ko_KR\")  \n",
    "- 브라우저 언어를 한국어로 설정\n",
    "\n",
    "driver = webdriver.Chrome(service=service, options=options)  \n",
    "- 위에서 설정한 service와 options를 적용하여 Chrome 드라이버 인스턴스 생성\n"
   ]
  },
  {
   "cell_type": "markdown",
   "id": "5de561c8-75c1-454c-9534-249ffdae5051",
   "metadata": {},
   "source": [
    "1. 타이틀 이름 불러오기!"
   ]
  },
  {
   "cell_type": "code",
   "execution_count": 8,
   "id": "b5055720-f3cd-475d-ae33-d15370f7d841",
   "metadata": {},
   "outputs": [
    {
     "name": "stdout",
     "output_type": "stream",
     "text": [
      "Teddy의 선물 블로그\n"
     ]
    }
   ],
   "source": [
    "from selenium import webdriver\n",
    "from selenium.webdriver.chrome.service import Service\n",
    "from selenium.webdriver.chrome.options import Options\n",
    "from selenium.webdriver.common.by import By\n",
    "from webdriver_manager.chrome import ChromeDriverManager\n",
    "import time\n",
    "\n",
    "service =Service(ChromeDriverManager().install())\n",
    "options = Options()\n",
    "options.add_argument(\"--headless\")\n",
    "options.add_argument(\"window-size=1920x1080\")\n",
    "options.add_argument(\"--disable-gpu\")\n",
    "options.add_argument(\"--user-agent=Mozilla/5.0 (Windows NT 10.0; Win64; x64) AppleWebKit/537.36 (KHTML, like Gecko) Chrome/138.0.0.0 Safari/537.36\")\n",
    "options.add_argument(\"lang=ko_KR\")\n",
    "\n",
    "\n",
    "driver = webdriver.Chrome(service=service, options=options)\n",
    "driver.get(\"https://davelee-fun.github.io/\")\n",
    "\n",
    "\n",
    "# element = driver.find_element(By.CSS_SELECTOR,\"div.mainheading h1.sitetitle\")\n",
    "element = driver.find_element(By.XPATH,\"//div[@class='mainheading']//h1[@class='sitetitle']\")\n",
    "\n",
    "print(element.text.strip())\n",
    "\n",
    "\n",
    "time.sleep(2)\n",
    "driver.quit()"
   ]
  },
  {
   "cell_type": "markdown",
   "id": "5225116e-4874-4bc4-93b1-a1243fccedae",
   "metadata": {},
   "source": [
    "2. 다음 웹 사이트에 접속해서 selenium을 활용해 크롤링 해오세요.\n",
    "- https://crawlingtest.netlify.app/\n",
    "- 부모요소의 id속성값이 dev-course-list 인 자식요소 class가 cousrse인 데이터만 출력해주세요."
   ]
  },
  {
   "cell_type": "code",
   "execution_count": 26,
   "id": "8fa54d1c-e0b4-41d1-bd50-5e9786c69cba",
   "metadata": {},
   "outputs": [
    {
     "name": "stdout",
     "output_type": "stream",
     "text": [
      "(초급) - 강사가 실제 사용하는 자동 프로그램 소개 [2]\n",
      "(초급) - 필요한 프로그램 설치 시연 [5]\n",
      "(초급) - 데이터를 엑셀 파일로 만들기 [9]\n",
      "(초급) -     엑셀 파일 이쁘게! 이쁘게! [8]\n",
      "(초급) -     나대신 주기적으로 파이썬 프로그램 실행하기 [7]\n",
      "(초급) - 파이썬으로 슬랙(slack) 메신저에 글쓰기 [40]\n",
      "(초급) - 웹사이트 변경사항 주기적으로 체크해서, 메신저로 알람주기 [12]\n",
      "(초급) - 네이버 API 사용해서, 블로그에 글쓰기 [42]\n",
      "(중급) - 자동으로 쿠팡파트너스 API 로 가져온 상품 정보, 네이버 블로그/트위터에 홍보하기 [412]\n"
     ]
    }
   ],
   "source": [
    "from selenium import webdriver\n",
    "from selenium.webdriver.chrome.service import Service\n",
    "from selenium.webdriver.common.by import By\n",
    "\n",
    "service = Service(ChromeDriverManager().install())\n",
    "driver = webdriver.Chrome(service=service)\n",
    "\n",
    "driver.get(\"https://crawlingtest.netlify.app/\")\n",
    "\n",
    "# elements = driver.find_elements(By.CSS_SELECTOR, \"ul#dev_course_list li.course\")\n",
    "# elements = driver.find_elements(By.XPATH,\"//ul[@id='dev_course_list']//li[@class='course'] | //li[@class='course maintitle']\")\n",
    "elements = driver.find_elements(By.XPATH, \"//ul[@id='dev_course_list']//li[contains(@class, 'course')]\")\n",
    "\n",
    "for element in elements : \n",
    "    print(element.text.strip())\n",
    "\n",
    "time.sleep(1)\n",
    "driver.quit()"
   ]
  },
  {
   "cell_type": "markdown",
   "id": "8e4b162d-3770-407e-9200-15b94d6fc063",
   "metadata": {},
   "source": [
    "3. 다음 웹 사이트에 접속해서 selenium을 활용해 크롤링 해오세요.\n",
    "- https://crawlingtest.netlify.app/\n",
    "- 해당 사이트 내 커리큘럼 일정표 데이터 출력해주세요."
   ]
  },
  {
   "cell_type": "code",
   "execution_count": 29,
   "id": "891f40d8-0c38-4532-b9a6-bb33ea0b7d56",
   "metadata": {},
   "outputs": [
    {
     "name": "stdout",
     "output_type": "stream",
     "text": [
      "일정\n",
      "커리큘럼 타이틀\n",
      "난이도\n",
      "5.1 ~ 6.15\n",
      "나만의 엣지있는 블로그 사이트 만들기 (취미로 익히는 IT)\n",
      "초급\n",
      "6.16 ~ 7.31\n",
      "파이썬과 데이터과학 첫걸음 (IT 기본기 익히기)\n",
      "중급\n"
     ]
    }
   ],
   "source": [
    "from selenium import webdriver\n",
    "from selenium.webdriver.chrome.service import Service\n",
    "from selenium.webdriver.common.by import By\n",
    "import time\n",
    "\n",
    "service = Service(ChromeDriverManager().install())\n",
    "driver = webdriver.Chrome(service=service)\n",
    "\n",
    "driver.get(\"https://crawlingtest.netlify.app/\")\n",
    "\n",
    "# elements = driver.find_elements(By.TAG_NAME, \"td\")\n",
    "# elements = driver.find_elements(By.CSS_SELECTOR, \"table tr td\")\n",
    "elements = driver.find_elements(By.XPATH, \"//table//tr//td\")\n",
    "for element in elements :\n",
    "    print(element.text.strip())\n",
    "\n",
    "time.sleep(1)\n",
    "driver.quit()"
   ]
  },
  {
   "cell_type": "markdown",
   "id": "a1401588-087c-4360-8edb-0b07602261d4",
   "metadata": {},
   "source": [
    "4. 다음 웹 사이트에 접속해서 selenium을 활용해 크롤링 해오세요.\n",
    "- https://crawlingtest.netlify.app/\n",
    "- (중급) - 자동으로 쿠팡파트너스 API 로 가져온 상품 정보, 네이버 블로그/트위터에 홍보하기 [412] 이것만 출력하기"
   ]
  },
  {
   "cell_type": "code",
   "execution_count": 43,
   "id": "1e45438a-b198-499d-8737-e17686e147f7",
   "metadata": {},
   "outputs": [
    {
     "name": "stdout",
     "output_type": "stream",
     "text": [
      "(중급) - 자동으로 쿠팡파트너스 API 로 가져온 상품 정보, 네이버 블로그/트위터에 홍보하기 [412]\n"
     ]
    }
   ],
   "source": [
    "from selenium import webdriver\n",
    "from selenium.webdriver.chrome.service import Service\n",
    "from webdriver_manager.chrome import ChromeDriverManager\n",
    "from selenium.webdriver.common.by import By\n",
    "import time\n",
    "\n",
    "service = Service(ChromeDriverManager().install())\n",
    "driver = webdriver.Chrome(service=service)\n",
    "\n",
    "driver.get(\"https://crawlingtest.netlify.app/\")\n",
    "\n",
    "# elements = driver.find_elements(By.CSS_SELECTOR,\"ul#dev_course_list li.course\")\n",
    "elements = driver.find_elements(By.XPATH,\"//ul[@id='dev_course_list']//li[@class='course']\")\n",
    "print(elements[-1].text.strip())\n",
    "\n",
    "time.sleep(1)\n",
    "driver.quit()"
   ]
  },
  {
   "cell_type": "markdown",
   "id": "7ed1adee-bff9-4ec6-b611-bba20c9cff76",
   "metadata": {},
   "source": [
    "5. 다음 웹 사이트에 접속해서 selenium을 활용해 크롤링 해오세요.\n",
    "- https://divjason.github.io/sellenium-test/\n",
    "- 클라스 값이 news인 값만 찾아오시오!"
   ]
  },
  {
   "cell_type": "code",
   "execution_count": 40,
   "id": "c6c0db60-6a15-4747-aa55-8a5ee21ef55e",
   "metadata": {},
   "outputs": [
    {
     "name": "stdout",
     "output_type": "stream",
     "text": [
      "뉴스: 머신러닝 강좌가 나왔어요~~~\n"
     ]
    }
   ],
   "source": [
    "from selenium import webdriver\n",
    "from selenium.webdriver.chrome.service import Service\n",
    "from selenium.webdriver.common.by import By\n",
    "from webdriver_manager.chrome import ChromeDriverManager\n",
    "import time\n",
    "\n",
    "service= Service(ChromeDriverManager().install())\n",
    "driver = webdriver.Chrome(service=service)\n",
    "\n",
    "driver.get(\"https://divjason.github.io/sellenium-test/\")\n",
    "# element = driver.find_element(By.CSS_SELECTOR,\"div.message span.news\")\n",
    "element = driver.find_element(By.XPATH,\"//div[@class='message']//span[@class='news']\")\n",
    "print(element.text.strip())\n",
    "\n",
    "time.sleep(1)\n",
    "driver.quit()"
   ]
  },
  {
   "cell_type": "markdown",
   "id": "988f3eae-aca7-4501-b31a-5a820a2438e2",
   "metadata": {},
   "source": [
    "6. 다음 웹 사이트에 접속해서 selenium을 활용해 크롤링 해오세요.\n",
    "- https://divjason.github.io/sellenium-test/\n",
    "- 클라스 값이 news인 값만 찾아오시오!\n",
    "- input 태그 요소에 아이디 error@error.com / 비밀번호 1234 입력 후 로그인 버튼 자동으로 클릭하기!"
   ]
  },
  {
   "cell_type": "code",
   "execution_count": 47,
   "id": "56d63888-fc3b-4015-954c-02ec0fc6f657",
   "metadata": {},
   "outputs": [],
   "source": [
    "from selenium import webdriver\n",
    "from selenium.webdriver.chrome.service import Service\n",
    "from selenium.webdriver.common.by import By\n",
    "from selenium.webdriver.common.keys import Keys\n",
    "from webdriver_manager.chrome import ChromeDriverManager\n",
    "import time\n",
    "\n",
    "service= Service(ChromeDriverManager().install())\n",
    "driver = webdriver.Chrome(service=service)\n",
    "\n",
    "driver.get(\"https://divjason.github.io/sellenium-test/\")\n",
    "driver.execute_script(\"window.scrollTo(0,document.body.scrollHeight)\")\n",
    "\n",
    "element01 = driver.find_element(By.NAME, \"username\")\n",
    "element01.clear()\n",
    "element01.send_keys(\"error@error.com\")\n",
    "\n",
    "element02 = driver.find_element(By.NAME, \"password\")\n",
    "element02.clear()\n",
    "element02.send_keys(\"1234\")\n",
    "\n",
    "\n",
    "time.sleep(2)\n",
    "\n",
    "element03 = driver.find_element(By.CSS_SELECTOR,\"input[type='submit']\")\n",
    "element03.click()\n",
    "\n",
    "driver.quit()"
   ]
  },
  {
   "cell_type": "markdown",
   "id": "9e11b00f-e03d-434c-800c-66f74afe8873",
   "metadata": {},
   "source": [
    "7. 다음 웹 사이트에 접속해서 selenium을 활용해 크롤링 해오세요.\n",
    "- https://divjason.github.io/sellenium-test/\n",
    "- 클라스 값이 news인 값만 찾아오시오!\n",
    "- input 태그 요소에 아이디 error@error.com / 비밀번호 1234 입력 후 로그인 버튼 자동으로 클릭하기!\n",
    "- 클릭 이후 이동한 페이지에서 message라는 클래스 속성값을 가지고 있는 요소의 텍스트 정보를 출력!"
   ]
  },
  {
   "cell_type": "code",
   "execution_count": 51,
   "id": "873c374a-eb3e-4ec3-b7a9-311cfec91ef7",
   "metadata": {},
   "outputs": [
    {
     "name": "stdout",
     "output_type": "stream",
     "text": [
      "실제 사이트는 https://megaitlab.com/ 입니다\n",
      "본 페이지는 로그인된 페이지입니다!\n",
      "뉴스: 머신러닝 강좌가 나왔어요~~~\n"
     ]
    }
   ],
   "source": [
    "# clear() 없이 해도 가능하다면 이 방법이 제일 간결해요!\n",
    "from selenium import webdriver\n",
    "from selenium.webdriver.chrome.service import Service\n",
    "from selenium.webdriver.common.by import By\n",
    "from selenium.webdriver.common.keys import Keys\n",
    "from webdriver_manager.chrome import ChromeDriverManager\n",
    "import time\n",
    "\n",
    "service= Service(ChromeDriverManager().install())\n",
    "driver = webdriver.Chrome(service=service)\n",
    "\n",
    "driver.get(\"https://divjason.github.io/sellenium-test/\")\n",
    "driver.execute_script(\"window.scrollTo(0,document.body.scrollHeight)\")\n",
    "\n",
    "driver.find_element(By.NAME, \"username\").send_keys(\"error@error.com\")\n",
    "driver.find_element(By.NAME, \"password\").send_keys(\"1234\")\n",
    "\n",
    "time.sleep(2)\n",
    "\n",
    "driver.find_element(By.CSS_SELECTOR,\"input[type='submit']\").click()\n",
    "\n",
    "elements = driver.find_elements(By.CSS_SELECTOR, \"div.message\")\n",
    "for _ in elements :\n",
    "    print(_.text.strip())\n",
    "\n",
    "driver.quit()"
   ]
  },
  {
   "cell_type": "markdown",
   "id": "cff02fcf-1b8b-4d1c-b2da-e94dd0c7035e",
   "metadata": {},
   "source": [
    "8. 다음 웹 사이트에 접속해서 selenium을 활용해 크롤링 해오세요.\n",
    "- https://divjason.github.io/sellenium-test/\n",
    "- 클라스 값이 news인 값만 찾아오시오!\n",
    "- input 태그 요소에 아이디 error@error.com / 비밀번호 1234 입력 후 로그인 버튼 자동으로 클릭하기!\n",
    "- 해당 페이지에서 로그아웃 버튼응ㄹ 클릭 후 이동한 페이지에서 다시 message 라는 속성값을  가지고 있는 요소와 텍스트 정보를 출력!"
   ]
  },
  {
   "cell_type": "code",
   "execution_count": 57,
   "id": "0370e97d-4ae6-4467-9b56-569335a97fed",
   "metadata": {},
   "outputs": [
    {
     "name": "stdout",
     "output_type": "stream",
     "text": [
      "실제 사이트는 https://megaitlab.com/ 입니다\n",
      "본 페이지는 로그인된 페이지입니다!\n",
      "뉴스: 머신러닝 강좌가 나왔어요~~~\n",
      "실제 사이트는 https://megaitlab.com/ 입니다\n",
      "뉴스: 머신러닝 강좌가 나왔어요~~~\n"
     ]
    }
   ],
   "source": [
    "from selenium import webdriver\n",
    "from selenium.webdriver.chrome.service import Service\n",
    "from selenium.webdriver.common.by import By\n",
    "from selenium.webdriver.common.keys import Keys\n",
    "from webdriver_manager.chrome import ChromeDriverManager\n",
    "import time\n",
    "\n",
    "service= Service(ChromeDriverManager().install())\n",
    "driver = webdriver.Chrome(service=service)\n",
    "\n",
    "driver.get(\"https://divjason.github.io/sellenium-test/\")\n",
    "driver.execute_script(\"window.scrollTo(0,document.body.scrollHeight)\")\n",
    "\n",
    "driver.find_element(By.NAME, \"username\").send_keys(\"error@error.com\")\n",
    "driver.find_element(By.NAME, \"password\").send_keys(\"1234\")\n",
    "\n",
    "time.sleep(2)\n",
    "\n",
    "driver.find_element(By.CSS_SELECTOR,\"input[type='submit']\").click()\n",
    "\n",
    "elements = driver.find_elements(By.CSS_SELECTOR, \"div.message\")\n",
    "for _ in elements :\n",
    "    print(_.text.strip())\n",
    "\n",
    "\n",
    "driver.find_element(By.CSS_SELECTOR,\"input[type='submit']\").click()   \n",
    "\n",
    "elements = driver.find_elements(By.CSS_SELECTOR, \"div.message\")\n",
    "for _ in elements :\n",
    "    print(_.text.strip())\n",
    "\n",
    "driver.quit()"
   ]
  }
 ],
 "metadata": {
  "kernelspec": {
   "display_name": "Python [conda env:base] *",
   "language": "python",
   "name": "conda-base-py"
  },
  "language_info": {
   "codemirror_mode": {
    "name": "ipython",
    "version": 3
   },
   "file_extension": ".py",
   "mimetype": "text/x-python",
   "name": "python",
   "nbconvert_exporter": "python",
   "pygments_lexer": "ipython3",
   "version": "3.13.5"
  }
 },
 "nbformat": 4,
 "nbformat_minor": 5
}
