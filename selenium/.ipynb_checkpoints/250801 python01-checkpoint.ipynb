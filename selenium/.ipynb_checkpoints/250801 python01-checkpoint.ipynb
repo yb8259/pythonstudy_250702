{
 "cells": [
  {
   "cell_type": "markdown",
   "id": "cca5ad6f-b8e2-4576-beee-ccdfebf27761",
   "metadata": {},
   "source": [
    "- 노컷뉴스 연예면 주요 기사 제목을 5개 수집하세요.\n",
    "- 아프리카TV 인기 방송 제목을 수집하세요.\n",
    "- 마이리얼트립에서 인기 도시별 여행 상품 제목을 수집하세요.\n",
    "- 대한민국 국회 홈페이지에서 최근 입법안 제목 10개를 수집하세요.\n",
    "- KBS 뉴스 홈페이지에서 주요 뉴스 타이틀을 수집하세요."
   ]
  },
  {
   "cell_type": "code",
   "execution_count": 1,
   "id": "ec619721-dc6d-48a1-994d-094d6cb1af15",
   "metadata": {},
   "outputs": [
    {
     "name": "stdout",
     "output_type": "stream",
     "text": [
      "1. 영탁 \"신곡 '주시고', 엄영수 선배님 보고 영감 받아\"\n",
      "2. 열아홉 청춘의 악성 곱슬머리 펴기…신은수·공명 '고백의 역사'\n",
      "3. '난임 고백' 심진화 \"아이 없이 살기로…응원 감사했어요\"\n",
      "4. K팝과 팝의 만남…'케이팝드' 첫 경연 '그룹 빌리·메건 더 스탤리언'\n",
      "5. \"남자들이 먼저 결정\"…'나솔사계' 첫 데이트 선택 결과는?\n"
     ]
    }
   ],
   "source": [
    "# 노컷뉴스 연예면 주요 기사 제목을 5개 수집하세요.\n",
    "import requests \n",
    "from bs4 import BeautifulSoup\n",
    "\n",
    "url = \"https://www.nocutnews.co.kr/news/entertainment\"\n",
    "response = requests.get(url)\n",
    "soup= BeautifulSoup(response.text, \"html.parser\")\n",
    "\n",
    "titles = soup.select(\"ul.newslist_b strong.clamp2\")\n",
    "for i, title in enumerate(titles[:5], 1) : \n",
    "    print(f\"{i}. {title.text.strip()}\")"
   ]
  },
  {
   "cell_type": "code",
   "execution_count": 83,
   "id": "48331450-eabd-42c8-a1ab-055b92a1c194",
   "metadata": {},
   "outputs": [
    {
     "name": "stdout",
     "output_type": "stream",
     "text": [
      "FCO공식 - KT vs DNF | GROUP STAGE DAY 4 | 2025 FTB SUMMER | FC 온라인\n",
      "감스트 - 감스트 생방ㅅ ㅣ작\n",
      "[NS남순] - 남순 버스킹 전국투어 feat 5성급 엔포드호텔 in 청주 수니그룹\n",
      "고세구! - 8시) 코난 극장판 세기말의 마술사 안본눈과 같이보기!\n",
      "릴파♬ - 후열\n",
      "봉준 - 봉준 드릴말씀 있습니다.\n",
      "타요* - 타요 비가 오는 날 약해지는 사람\n",
      "오메킴승현2 - 오메킴 더케이 그동안 너무 감사했습니다\n",
      "키마 - [하데스 4호 연습생] 데뷔 2주년 감사합니다\n",
      "오아 - 오아 두아온 8시 마지막 콘서트\n",
      "s시조새s - JSA) 이시각 최상의 테프전 규리야 1 vs 1 시조새 지면죽습니다 6시간빵 해설 간신듀오\n",
      "두치와뿌꾸 - [드롭스 막뿌림] FTB DNF 9끼 VS KT 정민이.. 오늘 지면 탈락 제발!!!!! 피파4\n",
      "By.황병영 - [츠캄몬스타즈] 스타 황병영\n",
      "A-염보성!! - [YXL]시즌8 1회차 전반카운트시작합니다\n",
      "솜주먹 - [하데스] 두아온 콘서트 나갑니다! (w 마냥)\n",
      "강만식 - 강만식 콘서트네요 게이돔 갑시다 두아온 ㅎ\n",
      "아이밈♡ - 메복동 후기 + 해명합니다 + 질문받는다\n",
      "안녕수야 - 안녕세요\n",
      "수피 - 실패를 하는 사람이 성공에 더 가까울 수 있다\n",
      "Fresh토마토 - 생일이네요..........................곧 [ 츠캄 몬스타즈★ ]\n",
      "천양 - 두아온 마지막날 콘서트와 쌀먹\n",
      "박가린님[♥] - [GD컴퍼니] 8화 비친소 뉴캣슬 도파민 기뉴다x향이x뿌잉x홍연x정설x율리x베베x시월x히메x지민x규리x가을x델진x가왕\n",
      "[BJ]김인호 - 오늘 비키니 벌칙 있습니다. 벌칙데이! 다니x꽃부기x누리x잉지안x유지x청아x서리하다x애라x승여니x서해린 [이노레이블:김인호]\n",
      "임아니 - 임아니 [ 봉아리 [ 두아온 리얼마지막 콘서트. . .\n",
      "깐숙 - 하이룽 ^~^\n",
      "FlaSh.이영호 - [씨나인] 스타 이영호 테란강의 합니다\n",
      "깨모다 - 깨모다 나는 채무다 60만개 노방종 여캠(서단) 더케이_루키 모든미션 받습니다 ^^\n",
      "프으레이 - 춘봉박 키우기\n",
      "제갈금자 - 코난 세기말의 마술사 첨 보는 사람 (스포시 남성호르몬 없어짐)\n",
      "채현준 - [최가네] 실내낚시터 2만개미션 x김순지x이지각\n",
      "스맵임 - 스맵임니당 이노닉스맵 등장 ^^\n",
      "민결희 - 두아온 봉아리 마무리 (와루도 업데이트땜에 오류나서 하은이 나옴)\n",
      "우정잉 - 고양이가 방송을 껐어요 ㅠㅠ\n",
      "김학수 - [케이대] 허허 .... [더케이_루키]\n",
      "effort김정우 - 스타 김정우 5:5 K프로리그 ASL 진출자 탈락자 반반치킨리그\n",
      "˚다누리 - 밥 오면 명탐정 코난 보기\n",
      "숲애견 - 3일정지복귀)전 미래가 있을까요?\n",
      "박재혁;;; - [씨나인]스타 박재혁 히댕이랑 첫경험\n",
      "블랙워크 - 블랙워크 세리아 혜미 고니vs성장 해원 걸뽀 구름 케이배킬내기 배틀그라운드\n",
      "망구랑 - [도파민] 망이봤 ! 카페털기 ~\n",
      "중력∀ - 안녕하세요!\n",
      "윤시원 - 인사이동이 크게 있어서 발표 드립니다.\n",
      "댄동단장태우 - 타임어택!! 제한시간 내 목표점수 달성시 상금%!! 댄동 얼라이브!!\n",
      "양도끼 - 2주동안 비운 내 집(?) 꾸미기☀️\n",
      "햇살♥ - 햇살 . 오늘 스타안함.\n",
      "코렛트 - [코렛트] 두아온 마지막날. 8시 섭종콘\n",
      "아뚱. - [LPL FPX vs WE]1:1 태윤 ,카리스 vs 밀키웨이 , 쉬어 #LPLCostream #LCKCLWatchparty #감컴\n",
      "분석왕봉달이 - 15시즌 모든덱 최적화완료 멸망전 여봉 투표부탁드립니다\n",
      "서피카 - 정통 아이돌 하데스 1호 연습생\n",
      "강덕구 - [뉴캣슬]강덕구 환영회 2부 서든 총29만개 ! ㅇㅅㅇ\n",
      "애교용 - 9시 명탐정 애난 보자 [종수]\n",
      "히댕 - [씨나인] 재혁썜한테 피드백받기!\n",
      "마냥_ - [결속!] 두아온 콘서트 (w.솜주먹)\n",
      "단츄♪ - 두아온 최강단츄 마지막 -\n",
      "임유진. - [드롭스 무한의 성] FTB 이제 얼마 남지 않았습니다 피파4\n",
      "백하♥ - 두아온 최강단츄 마지막날 콘서트 같이보실??\n",
      "막내현진_ - [츠캄몬스타즈🌟] 잘지내봐요 ^ㅡ^\n",
      "도현ツ - 킬내기 7티어들 벌벌대는소리 여기까지 다들립니다\n",
      "♥심장 - 음악방송 멜론노래 24시간 듣기좋은 발라드명곡차트 가수히트곡인기가요 음방최신가요팝송힙합댄스곡뮤직라디오퀵뷰섹시소통신입잠방\n",
      "박틸다 - 뒷태가 ㅗㅜㅑ\n"
     ]
    }
   ],
   "source": [
    "# 아프리카TV 인기 방송 제목을 수집하세요.\n",
    "from selenium import webdriver \n",
    "from selenium.webdriver.chrome.service import Service  \n",
    "from selenium.webdriver.common.by import By \n",
    "from selenium.webdriver.common.keys import Keys  \n",
    "from selenium.webdriver.chrome.options import Options  \n",
    "from webdriver_manager.chrome import ChromeDriverManager  \n",
    "import time  \n",
    "\n",
    "service = Service(ChromeDriverManager().install())\n",
    "options = Options()\n",
    "# options.add_argument(\"headless\")\n",
    "options.add_argument(\"window-size=1920x1080\")\n",
    "options.add_argument(\"--disable-gpu\")\n",
    "options.add_argument(\"user-agent=Mozilla/5.0 (Windows NT 10.0; Win64; x64) AppleWebKit/537.36 (KHTML, like Gecko) Chrome/138.0.0.0 Safari/537.36\")\n",
    "options.add_argument(\"lang=ko_KR\")\n",
    "options.add_argument(\"--default-encoding=utf-8\")\n",
    "\n",
    "driver = webdriver.Chrome(service=service, options=options)\n",
    "driver.get(\"https://www.sooplive.co.kr/live/all\")\n",
    "\n",
    "time.sleep(2)\n",
    "\n",
    "elements = driver.find_elements(By.CSS_SELECTOR, \"div.details\")\n",
    "for element in elements : \n",
    "    names = element.find_elements(By.CSS_SELECTOR,\"div.nick_wrap\")\n",
    "    titles = element.find_elements(By.CSS_SELECTOR,\"h3.title\")\n",
    "    for name, title in zip(names,titles) :\n",
    "        print(f\"{name.text.strip()} - {title.text.strip()}\")\n",
    "\n",
    "driver.quit()"
   ]
  },
  {
   "cell_type": "code",
   "execution_count": 88,
   "id": "73e6882a-61ab-472a-ad14-a3ffab144f24",
   "metadata": {},
   "outputs": [
    {
     "name": "stdout",
     "output_type": "stream",
     "text": [
      "875. 의사일정 변경동의의 건\n",
      "876. 공항시설법 일부개정법률안(대안)\n",
      "877. 보건의료기본법 일부개정법률안(대안)\n",
      "878. 건설산업기본법 일부개정법률안(대안)\n",
      "879. 빈집 및 소규모주택 정비에 관한 특례법 일부개정법률안(대안)\n",
      "880. 도시공원 및 녹지 등에 관한 법률 일부개정법률안(대안)\n"
     ]
    }
   ],
   "source": [
    "#대한민국 국회 홈페이지에서 최근 입법안 제목 10개를 수집하세요.\n",
    "from selenium import webdriver\n",
    "from selenium.webdriver.chrome.service import Service\n",
    "from selenium.webdriver.chrome.options import Options\n",
    "from selenium.webdriver.common.by import By\n",
    "from selenium.webdriver.common.keys import Keys\n",
    "from webdriver_manager.chrome import ChromeDriverManager\n",
    "import time\n",
    "\n",
    "service = Service(ChromeDriverManager().install())\n",
    "options = Options()\n",
    "options.add_argument(\"headless\")\n",
    "options.add_argument(\"window-size=1920x1080\")\n",
    "options.add_argument(\"--disable-gpu\")\n",
    "options.add_argument(\"user-agent=Mozilla/5.0 (Windows NT 10.0; Win64; x64) AppleWebKit/537.36 (KHTML, like Gecko) Chrome/138.0.0.0 Safari/537.36\")\n",
    "options.add_argument(\"lang=ko_KR\")\n",
    "options.add_argument(\"--default-encoding=utf-8\")\n",
    "\n",
    "driver = webdriver.Chrome(service=service, options=options)\n",
    "driver.get(\"https://www.assembly.go.kr/portal/main/main.do#anchor3\")\n",
    "\n",
    "elements = driver.find_elements(By.CSS_SELECTOR,\"div.nAssembly_div01 dt\")\n",
    "for element in elements :\n",
    "    text = element.text.strip()\n",
    "    if text: \n",
    "        count +=1\n",
    "        print(f\"{count}. {text}\")\n",
    "driver.quit()\n",
    "#     print(element.text.strip())\n",
    "# driver.execute_script(\"window.scrollTo(0,document.body.scrollHeight)\")\n",
    "# next = driver.find_element(By.CSS_SELECTOR,\"a#search_anc_next\")\n",
    "# next.click()\n",
    "# driver.quit()"
   ]
  },
  {
   "cell_type": "code",
   "execution_count": null,
   "id": "3b42dbea-6393-46e7-bebb-04d979b90884",
   "metadata": {},
   "outputs": [],
   "source": [
    "#KBS 뉴스 홈페이지에서 주요 뉴스 타이틀을 수집하세요.\n",
    "import requests\n",
    "from bs4 import BeautifulSoup\n",
    "\n",
    "url = (\"https://news.kbs.co.kr/news/pc/main/main.html?ref=pLogo\")\n",
    "response = requests.get(url)\n",
    "soup = BeautifulSoup(response.text, \"html.parser\")\n",
    "\n",
    "titles = soup.select(\"a.box-content p.title\")\n",
    "\n",
    "count =1\n",
    "for title in titles :\n",
    "    text = title.text.strip()\n",
    "    if text :\n",
    "        print(f\"{count}. {text}\")\n",
    "        count += 1\n",
    "    # try : \n",
    "    #     text = title.text.stril()\n",
    "    #     if text :\n",
    "    #         print(f\"{count}. text\")\n",
    "    #         count += 1\n",
    "    # except AttributeError :\n",
    "    #     continue"
   ]
  },
  {
   "cell_type": "markdown",
   "id": "e9e69bd6-dbf0-44db-a2a5-f8887c1defff",
   "metadata": {},
   "source": [
    "- 위키백과에서 '마케팅' 문서의 첫 문단 요약을 추출하세요.\n",
    "- 서울 열린데이터광장 공공데이터 목록에서 데이터셋 제목을 10개 수집하세요.\n",
    "- 인터파크 티켓에서 인기 콘서트 제목과 일정을 수집하세요.\n",
    "- 대법원 판례 검색 페이지에서 최근 등록된 판례 제목을 10개 수집하세요.\n",
    "- 삼성전자 뉴스룸에서 최근 기사 제목과 날짜를 수집하세요.\n",
    "- 롯데시네마에서 현재 상영작 제목을 수집하세요."
   ]
  },
  {
   "cell_type": "code",
   "execution_count": 25,
   "id": "773e5c1b-0a92-4e59-afda-094da048edb1",
   "metadata": {},
   "outputs": [
    {
     "name": "stdout",
     "output_type": "stream",
     "text": [
      "마케팅(영어: marketing)은 시장 경제(영어: exchange relationship) 또는 수요를 관리하는 경영학의 한 분야이다. 소비자를 대상으로 고객을 창조하고 유지 · 관리함으로써 고정고객으로 만드는 모든 활동 즉, 고객과 관련된 모든 활동을 의미한다. 마케팅은 광고, 영업 등을 포함하며 창의성을 내포하는 산업이자 소비자가 가질 수 있는 미래의 요구와 욕구를 예측하는 일로 한정되었으나 21세기 이후에는 어떤 '잠재적인 욕구'를 자극하여 표면상으로 이끌어 내는 행위나 동기로 용어의 적용 범위가 확대되고, 시장에서 벗어나 일상의 행위에서도 마케팅이라는 용어가 등장하게 되었다.\n"
     ]
    }
   ],
   "source": [
    "#위키백과에서 '마케팅' 문서의 첫 문단 요약을 추출하세요.\n",
    "import requests\n",
    "from bs4 import BeautifulSoup\n",
    "\n",
    "query = \"마케팅\"\n",
    "url= (f\"https://ko.wikipedia.org/wiki/{query}\")\n",
    "response = requests.get(url)\n",
    "soup = BeautifulSoup(response.text, \"html.parser\")\n",
    "\n",
    "title = soup.select_one(\"div#mw-content-text p\")\n",
    "print(title.text.strip())"
   ]
  },
  {
   "cell_type": "code",
   "execution_count": 26,
   "id": "e0742b78-028c-4270-930d-b035c826572b",
   "metadata": {},
   "outputs": [
    {
     "name": "stdout",
     "output_type": "stream",
     "text": [
      "1. 서울글로벌센터 접수유형 및 상담유형별(월) 상담실적\n",
      "2. 상상대로 서울 자유제안 정보\n",
      "3. 서울시 중구 위생처리업 공중위생업소 현황\n",
      "4. 서울시 세척제 제조업 현황\n",
      "5. 서울시 기타 위생용품 제조업 현황\n",
      "6. 서울시 위생처리업 현황\n",
      "7. 서울글로벌센터 상담유형별(월) 상담실적\n",
      "8. 서울글로벌센터 상담유형별(분기) 상담실적\n",
      "9. 서울글로벌센터 접수유형별 언어별 상담실적\n",
      "10. 서울시 위생업소 전체 행정처분내역 현황\n"
     ]
    }
   ],
   "source": [
    "#서울 열린데이터광장 공공데이터 목록에서 데이터셋 제목을 10개 수집하세요.\n",
    "import requests\n",
    "from bs4 import BeautifulSoup\n",
    "\n",
    "\n",
    "url= (\"https://data.seoul.go.kr/dataList/datasetList.do?datasetKind=1&searchFlag=M\")\n",
    "response = requests.get(url)\n",
    "soup = BeautifulSoup(response.text, \"html.parser\")\n",
    "\n",
    "titles = soup.select(\"a.goView\")\n",
    "for i,title in enumerate(titles,1) :\n",
    "    print(f\"{i}. {title.text.strip()}\")"
   ]
  },
  {
   "cell_type": "code",
   "execution_count": 98,
   "id": "0e7901ad-c758-4d4a-aa1f-3a2effba2ae2",
   "metadata": {},
   "outputs": [
    {
     "name": "stdout",
     "output_type": "stream",
     "text": [
      "1. ［데뷔 60주년 기념공연］2025 남진 전국투어 콘서트\n",
      "2. 2025 김창옥 토크콘서트 시즌5\n",
      "3. 변진섭 전국투어 콘서트 : 변천사 시즌2\n",
      "4. RETRO MUSIC CONCERT 〈최재훈×플라워〉\n",
      "5. 옥탑재즈\n",
      "6. 2025 심수봉 전국투어 콘서트：꽃길 - 안동\n"
     ]
    }
   ],
   "source": [
    "#인터파크 티켓에서 인기 콘서트 제목과 일정을 수집하세요.\n",
    "from selenium import webdriver\n",
    "from selenium.webdriver.chrome.service import Service\n",
    "from selenium.webdriver.chrome.options import Options\n",
    "from selenium.webdriver.common.by import By\n",
    "from selenium.webdriver.common.keys import Keys\n",
    "from webdriver_manager.chrome import ChromeDriverManager\n",
    "from selenium.webdriver.support.ui import WebDriverWait\n",
    "from selenium.webdriver.support import expected_conditions as EC\n",
    "import time\n",
    "\n",
    "service = Service(ChromeDriverManager().install())\n",
    "options = Options()\n",
    "# options.add_argument(\"headless\")\n",
    "options.add_argument(\"window-size=1920x1080\")\n",
    "options.add_argument(\"--disable-gpu\")\n",
    "options.add_argument(\"user-agent=Mozilla/5.0 (Windows NT 10.0; Win64; x64) AppleWebKit/537.36 (KHTML, like Gecko) Chrome/138.0.0.0 Safari/537.36\")\n",
    "options.add_argument(\"lang=ko_KR\")\n",
    "options.add_argument(\"--default-encoding=utf-8\")\n",
    "\n",
    "driver = webdriver.Chrome(service=service, options=options)\n",
    "driver.get(\"https://tickets.interpark.com/contents/genre/concert\")\n",
    "driver.execute_script(\"window.scrollTo(26780,document.body.scrollHeight)\")\n",
    "wait = WebDriverWait(driver, 10)\n",
    "wait.until(EC.presence_of_all_elements_located((By.CSS_SELECTOR, \"li.TicketItem_goodsName__Ju76j\")))\n",
    "\n",
    "titles = driver.find_elements(By.CSS_SELECTOR,\"li.TicketItem_goodsName__Ju76j\")\n",
    "for i,title in enumerate(titles,1) :\n",
    "    print(f\"{i}. {title.text.strip()}\")\n",
    "driver.quit()"
   ]
  },
  {
   "cell_type": "code",
   "execution_count": 44,
   "id": "7c847d1c-9ff8-46ce-9015-17dd17d13f06",
   "metadata": {},
   "outputs": [
    {
     "name": "stdout",
     "output_type": "stream",
     "text": [
      "10492\n",
      "항소인이 항소장의 인지를 유효하게 보정할 수 있는 기한이 문제된 사건[대법원 2025. 7. 24. 자 전원합의체 결정]\n",
      "10491\n",
      "채무자가 소멸시효가 완성된 상태에서 채무를 일부 변제한 경우 시효이익을 포기한 것인지 문제된 사건[대법원 2025. 7. 24. 선고 전원합의체 판결]\n",
      "10490\n",
      "대법원 2025. 7. 24. 선고 전원합의체 판결 및 2025. 7. 24. 자 전원합의체 결정 요지\n",
      "10489\n",
      "승무정지의 징계처분이 단체협약 위반인지 및 징계절차가 공정대표의무에 위배되어 중대한 하자가 있는지 문제된 사건[대법원 2025. 7. 18. 선고 중요판결]\n",
      "10488\n",
      "중소기업 간의 통합에 대한 양도소득세의 이월과세를 적용한 사건[대법원 2025. 7. 18. 선고 중요판결]\n",
      "10487\n",
      "학교법인의 임시이사 선임사유 해소로 인한 정식이사 선임 시 의견을 청취하여야 하는 ‘전,현직이사협의체’의 구성이 문제된 사건[대법원 2025. 7. 18. 선고 중요판결]\n",
      "10486\n",
      "성적 학대행위에 해당하는 메시지가 피해아동에게 도달하였으나 피해아동이 이를 현실적으로 인식하지 못한 경우 아동학대가 성립하는지 문제된 사건[대법원 2025. 7. 18. 선고 중요판결]\n",
      "10485\n",
      "조합장의 농업협동조합법 위반 행위를 고발하기 위하여 개인정보가 포함된 자료들을 수사기관에 제출한 사건[대법원 2025. 7. 18. 선고 중요판결]\n",
      "10484\n",
      "연예기획사 대표가 소속 가수의 마약류취급과 관련하여 허위 진술을 요구한 사건[대법원 2025. 7. 18. 선고 중요판결]\n",
      "10483\n",
      "가처분 사건의 채무자가 법원에 입주민들의 개인정보가 기재된 입주자카드를 제출한 사건[대법원 2025. 7. 18. 선고 중요판결]\n"
     ]
    }
   ],
   "source": [
    "#대법원 판례 검색 페이지에서 최근 등록된 판례 제목을 10개 수집하세요.\n",
    "import requests\n",
    "from bs4 import BeautifulSoup\n",
    "\n",
    "\n",
    "url= (\"https://www.scourt.go.kr/supreme/news/NewsListAction2.work?gubun=4&type=5\")\n",
    "response = requests.get(url)\n",
    "soup = BeautifulSoup(response.text, \"html.parser\")\n",
    "\n",
    "nums= soup.select(\"tr td\")\n",
    "for num in nums :\n",
    "    print(num.text.strip().replace(\"\\n\",\"\").replace(\"\\t\",\"\"))\n",
    "# titles = soup.select(\"tr a\")\n",
    "# for num,title in zip(nums,titles) :\n",
    "#     print(f\"{num.text}. {title.text.strip().replace(\"\\n\",\"\").replace(\"\\t\",\"\")}\")"
   ]
  },
  {
   "cell_type": "code",
   "execution_count": null,
   "id": "703e8a5d-27dc-4640-9690-da59aea8a2f9",
   "metadata": {},
   "outputs": [],
   "source": [
    "#삼성전자 뉴스룸에서 최근 기사 제목과 날짜를 수집하세요.\n",
    "import requests\n",
    "from bs4 import BeautifulSoup\n",
    "\n",
    "\n",
    "url= (\"https://news.samsung.com/kr/latest/page/2\")\n",
    "response = requests.get(url)\n",
    "soup = BeautifulSoup(response.text, \"html.parser\")\n",
    "print(soup)\n",
    "# titles= soup.select(\"span.title.ellipsis\")\n",
    "# for i, title in enumerate(titles, 1) :\n",
    "#     print(f\"{i}. {title.text.strip()}\")"
   ]
  },
  {
   "cell_type": "code",
   "execution_count": null,
   "id": "8784021d-7b2d-45a7-b778-606412971450",
   "metadata": {},
   "outputs": [],
   "source": [
    "import requests\n",
    "from bs4 import BeautifulSoup\n",
    "\n",
    "query = \"디지털 마케팅\"\n",
    "url = f\"https://search.naver.com/search.naver?where=news&query={query}\"\n",
    "\n",
    "headers = {\n",
    "    \"User-Agent\": \"Mozilla/5.0 (Windows NT 10.0; Win64; x64) AppleWebKit/537.36 (KHTML, like Gecko) Chrome/138.0.0.0 Safari/537.36\"\n",
    "}\n",
    "\n",
    "response = requests.get(url, headers=headers)\n",
    "soup = BeautifulSoup(response.text, \"html.parser\")\n",
    "\n",
    "titles = soup.select(\"a.ox1N67gcMkHhMh7hbfHi.VZxw34rcBHTWHgERxv0b\")\n",
    "\n",
    "for i, title in enumerate(titles[:10], 1) :\n",
    "    print(f\"{i}. {title.text.strip()}\")"
   ]
  },
  {
   "cell_type": "code",
   "execution_count": null,
   "id": "01005bf0-cc5c-43b7-8da2-9609b4e9ffaa",
   "metadata": {},
   "outputs": [],
   "source": []
  }
 ],
 "metadata": {
  "kernelspec": {
   "display_name": "Python [conda env:base] *",
   "language": "python",
   "name": "conda-base-py"
  },
  "language_info": {
   "codemirror_mode": {
    "name": "ipython",
    "version": 3
   },
   "file_extension": ".py",
   "mimetype": "text/x-python",
   "name": "python",
   "nbconvert_exporter": "python",
   "pygments_lexer": "ipython3",
   "version": "3.13.5"
  }
 },
 "nbformat": 4,
 "nbformat_minor": 5
}
