{
 "cells": [
  {
   "cell_type": "code",
   "execution_count": 1,
   "id": "3833ef98-1e0a-420b-87dd-37084d73478e",
   "metadata": {},
   "outputs": [
    {
     "name": "stdout",
     "output_type": "stream",
     "text": [
      "1. 삼성전자, ‘Sounds of Samsung’ 티저 영상 공개\n",
      "2. 갤럭시 워치8 시리즈, 라이즈(RIIZE)와 함께한 ‘워치가 아닌 코치를 갖자’ 캠페인에 팬들 주목\n",
      "3. 삼성전자 비스포크 AI 가전, ‘인간공학디자인상’ 수상\n",
      "4. “차세대 SW·AI 융합 인재의 첫걸음” SSAFY 14기 입학식 현장\n",
      "5. SSAFY 동문회 ‘싸피니티(SSAFYnity)’의 기부 선순환\n",
      "6. 삼성전자 송주연 연구원, 아태지역 6G 주파수 논의 이끈다\n"
     ]
    }
   ],
   "source": [
    "#삼성전자 뉴스룸에서 최근 기사 제목과 날짜를 수집하세요.\n",
    "import requests\n",
    "from bs4 import BeautifulSoup\n",
    "\n",
    "url= (\"https://news.samsung.com/kr/latest/page/2\")\n",
    "response = requests.get(url)\n",
    "soup = BeautifulSoup(response.text, \"html.parser\")\n",
    "\n",
    "titles= soup.select(\"span.title.ellipsis\")\n",
    "for i, title in enumerate(titles, 1) :\n",
    "    print(f\"{i}. {title.text.strip()}\")"
   ]
  },
  {
   "cell_type": "code",
   "execution_count": 28,
   "id": "7463b4f7-e4db-474a-80b8-0a7a11ad0b1f",
   "metadata": {},
   "outputs": [
    {
     "name": "stdout",
     "output_type": "stream",
     "text": [
      "1. 좀비딸\n",
      "2. F1 더 무비\n",
      "3. 전지적 독자 시점\n",
      "4. 킹 오브 킹스\n",
      "5. 배드 가이즈 2\n",
      "6. 고고다이노 극장판: 게코도마뱀의 꿈\n",
      "7. 명탐정 코난: 척안의 잔상\n",
      "8. 베베핀 극장판: 사라진 베베핀과 핑크퐁 대모험\n",
      "9. 판타스틱 4: 새로운 출발\n",
      "10. 극장판 도라에몽: 진구의 그림이야기\n"
     ]
    }
   ],
   "source": [
    "#롯데시네마에서 현재 상영작 제목을 수집하세요.\n",
    "from selenium import webdriver\n",
    "from selenium.webdriver.chrome.service import Service\n",
    "from selenium.webdriver.chrome.options import Options\n",
    "from selenium.webdriver.common.by import By\n",
    "from webdriver_manager.chrome import ChromeDriverManager\n",
    "import time\n",
    "\n",
    "options = Options()\n",
    "# options.add_argument(\"headless\")\n",
    "options.add_argument(\"window-size=1920x1080\")\n",
    "options.add_argument(\"--disable-gpu\")\n",
    "options.add_argument(\"user-agent=Mozilla/5.0 (Windows NT 10.0; Win64; x64) AppleWebKit/537.36 (KHTML, like Gecko) Chrome/138.0.0.0 Safari/537.36\")\n",
    "options.add_argument(\"lang=ko_KR\")\n",
    "options.add_argument(\"--default-encoding=utf-8\")\n",
    "driver = webdriver.Chrome(service=service, options=options) \n",
    "\n",
    "service= Service(ChromeDriverManager().install())\n",
    "driver = webdriver.Chrome(service=service, options=options) \n",
    "url = \"https://www.lottecinema.co.kr/NLCHS/Movie/List?flag=1\"\n",
    "driver.get(url)\n",
    "\n",
    "titles = driver.find_elements(By.CSS_SELECTOR,\"div.btm_info strong.tit_info\")\n",
    "for i, title in enumerate(titles[:10], 1) :\n",
    "    print(f\"{i}. {title.text.strip()}\")\n",
    "driver.quit()"
   ]
  },
  {
   "cell_type": "markdown",
   "id": "140aa75a-ac80-44c5-85c9-548bdf727ac4",
   "metadata": {},
   "source": [
    "- 네이버 지식백과에서 '콘텐츠 마케팅' 항목의 본문 요약을 추출하세요.\n",
    "- 한국관광공사 '추천 여행지' 페이지에서 지역별 여행지명을 수집하세요.\n",
    "- 브런치 홈페이지에서 인기 글 제목을 수집하세요.\n",
    "- 교보문고 경제 분야 주간 베스트셀러 도서 제목 수집하세요.\n",
    "- 멜론 차트 1~10위 노래 제목과 가수를 수집하세요."
   ]
  },
  {
   "cell_type": "code",
   "execution_count": 44,
   "id": "fb4eff48-e8ac-4c44-8fcd-fef89c1cff58",
   "metadata": {},
   "outputs": [
    {
     "name": "stdout",
     "output_type": "stream",
     "text": [
      "콘텐츠산업은 21세기 창조경제를 견인할 핵심 성장 동력으로 각광받고 있고, 디지털 미디어의 다원화로 산업이 성장하고 있지만, 동시에 콘텐츠 사업자간 경쟁은 더욱 치열해지고 있다. 콘텐츠 기업은 사업 분야와 역량에 따라 제작, 유통, 단말 등 강점을 갖는 사업 영역이 있다. 성장과 경쟁의 압박 속에서 이익의 창출이 어려워질수록 각 산업의 핵심가치에 기반한 전략이 빛을 발하게 되는데, 콘텐츠산업의 중심에는 소비자, 즉 고객이 존재한다. 고객과 직접 대면하며, 고객과의 관계 속에서 미래성장의 가능성을 발견하는 콘텐츠사업자들의 핵심적인 10대 전략을 분석하고, 콘텐츠산업의 미래성장 가능성을 진단한다.콘텐츠산업은 21세기 창조경제를 견인할 핵심 성장 동력으로 각광받고 있고, 디지털 미디어의 다원화로 산업이 성장하고 있지만, 동시에 콘텐츠 사업자간 경쟁은 더욱 치열해지고 있다. 콘텐츠 기업은 사업 분야와 역량에 따라 제작, 유통, 단말 등 강점을 갖는 사업 영역이 있다. 성장과 경쟁의 압박 속에서 이익의 창출이 어려워질수록 각 산업의 핵심가치에 기반한 전략이 빛을 발하게 되는데, 콘텐츠산업의 중심에는 소비자, 즉 고객이 존재한다. 고객과 직접 대면하며, 고객과의 관계 속에서 미래성장의 가능성을 발견하는 콘텐츠사업자들의 핵심적인 10대 전략을 분석하고, 콘텐츠산업의 미래성장 가능성을 진단한다.\n"
     ]
    }
   ],
   "source": [
    "#네이버 지식백과에서 '콘텐츠 마케팅' 항목의 본문 요약을 추출하세요.\n",
    "import requests\n",
    "from bs4 import BeautifulSoup\n",
    "\n",
    "headers = {\n",
    "    \"User-Agent\": \"Mozilla/5.0 (Windows NT 10.0; Win64; x64) AppleWebKit/537.36 (KHTML, like Gecko) Chrome/115.0.0.0 Safari/537.36\"\n",
    "}\n",
    "url = \"https://terms.naver.com/entry.naver?docId=2275742&cid=42266&categoryId=51204\"\n",
    "response = requests.get(url,headers=headers)\n",
    "soup = BeautifulSoup(response.text, \"html.parser\")\n",
    "\n",
    "titles = soup.select(\"div.size_ct_v2 p\")\n",
    "for title in titles :\n",
    "    print (title.text.strip())"
   ]
  },
  {
   "cell_type": "code",
   "execution_count": 52,
   "id": "98a44d82-b6a2-422c-b8fa-4b4c9cf1bbdf",
   "metadata": {},
   "outputs": [
    {
     "name": "stdout",
     "output_type": "stream",
     "text": [
      "1. 오늘, 엄마 빚을 다 갚았다.\n",
      "2. 시어머니께 전화 안하는 며느리\n",
      "3. 뻔뻔하게, 해운대 암소갈비\n",
      "4. \n",
      "5. \n",
      "6. \n",
      "7. \n",
      "8. \n",
      "9. \n",
      "10. \n",
      "11. \n",
      "12. \n",
      "13. \n",
      "14. \n",
      "15. \n",
      "16. \n",
      "17. \n",
      "18. \n",
      "19. \n",
      "20. \n",
      "21. \n",
      "22. \n",
      "23. \n",
      "24. \n",
      "25. \n",
      "26. \n",
      "27. \n",
      "28. \n",
      "29. \n",
      "30. \n"
     ]
    }
   ],
   "source": [
    "#브런치 홈페이지에서 인기 글 제목을 수집하세요.\n",
    "# import requests\n",
    "# from bs4 import BeautifulSoup\n",
    "\n",
    "# headers = {\n",
    "#     \"User-Agent\": \"Mozilla/5.0 (Windows NT 10.0; Win64; x64) AppleWebKit/537.36 (KHTML, like Gecko) Chrome/115.0.0.0 Safari/537.36\"\n",
    "# }\n",
    "# url = \"https://brunch.co.kr/\"\n",
    "# response = requests.get(url,headers=headers)\n",
    "# soup = BeautifulSoup(response.text, \"html.parser\")\n",
    "\n",
    "# titles = soup.select(\"stlong.tit_subject\")\n",
    "# for i, title in enumerate(titles,1) :\n",
    "#     print(f\"{i}. {title.text.strip()}\")\n",
    "\n",
    "from selenium import webdriver\n",
    "from selenium.webdriver.chrome.service import Service\n",
    "from selenium.webdriver.chrome.options import Options\n",
    "from selenium.webdriver.common.by import By\n",
    "from selenium.webdriver.support.ui import WebDriverWait\n",
    "from selenium.webdriver.support import expected_conditions as EC\n",
    "from webdriver_manager.chrome import ChromeDriverManager\n",
    "import time\n",
    "\n",
    "options = Options()\n",
    "options.add_argument(\"headless\")\n",
    "options.add_argument(\"window-size=1920x1080\")\n",
    "options.add_argument(\"disable-gpu\")\n",
    "options.add_argument(\"lang=ko_KR\")\n",
    "options.add_argument(\"user-agent=Mozilla/5.0\")\n",
    "\n",
    "service = Service(ChromeDriverManager().install())\n",
    "driver = webdriver.Chrome(service=service, options=options)\n",
    "driver.get(\"https://brunch.co.kr/\")\n",
    "\n",
    "for _ in range(5):\n",
    "    driver.execute_script(\"window.scrollTo(0, document.body.scrollHeight);\")\n",
    "    time.sleep(1.5)# 페이지 로딩 대기\n",
    "\n",
    "try:\n",
    "    WebDriverWait(driver, 10).until(\n",
    "        EC.presence_of_all_elements_located((By.CSS_SELECTOR, \"strong.tit_subject\"))\n",
    "    )\n",
    "    titles = driver.find_elements(By.CSS_SELECTOR, \"strong.tit_subject\")\n",
    "    for i, title in enumerate(titles, 1):\n",
    "        print(f\"{i}. {title.text.strip()}\")\n",
    "except Exception as e:\n",
    "    print(\"제목을 불러오지 못했습니다:\", e)\n",
    "\n",
    "driver.quit()"
   ]
  },
  {
   "cell_type": "code",
   "execution_count": 67,
   "id": "2d8c5a8a-839c-4701-a875-d9d7d53a2294",
   "metadata": {},
   "outputs": [
    {
     "ename": "InvalidSelectorException",
     "evalue": "Message: invalid selector: An invalid or illegal selector was specified\n  (Session info: chrome=138.0.7204.184); For documentation on this error, please visit: https://www.selenium.dev/documentation/webdriver/troubleshooting/errors#invalidselectorexception\nStacktrace:\n\tGetHandleVerifier [0x0xddba83+63395]\n\tGetHandleVerifier [0x0xddbac4+63460]\n\t(No symbol) [0x0xc22113]\n\t(No symbol) [0x0xc288e9]\n\t(No symbol) [0x0xc2ac7a]\n\t(No symbol) [0x0xc2acf7]\n\t(No symbol) [0x0xc6a0f4]\n\t(No symbol) [0x0xc6abfb]\n\t(No symbol) [0x0xcb2fcc]\n\t(No symbol) [0x0xc8f3f4]\n\t(No symbol) [0x0xcb07ba]\n\t(No symbol) [0x0xc8f1a6]\n\t(No symbol) [0x0xc5e7b2]\n\t(No symbol) [0x0xc5f654]\n\tGetHandleVerifier [0x0x1058883+2672035]\n\tGetHandleVerifier [0x0x1053cba+2652634]\n\tGetHandleVerifier [0x0xe02bca+223466]\n\tGetHandleVerifier [0x0xdf2cb8+158168]\n\tGetHandleVerifier [0x0xdf978d+185517]\n\tGetHandleVerifier [0x0xde3b78+96408]\n\tGetHandleVerifier [0x0xde3d02+96802]\n\tGetHandleVerifier [0x0xdce90a+9770]\n\tBaseThreadInitThunk [0x0x76445d49+25]\n\tRtlInitializeExceptionChain [0x0x77b7d1ab+107]\n\tRtlGetAppContainerNamedObjectPath [0x0x77b7d131+561]\n",
     "output_type": "error",
     "traceback": [
      "\u001b[1;31m---------------------------------------------------------------------------\u001b[0m",
      "\u001b[1;31mInvalidSelectorException\u001b[0m                  Traceback (most recent call last)",
      "Cell \u001b[1;32mIn[67], line 22\u001b[0m\n\u001b[0;32m     19\u001b[0m driver\u001b[38;5;241m.\u001b[39mget(\u001b[38;5;124m\"\u001b[39m\u001b[38;5;124mhttps://store.kyobobook.co.kr/bestseller/online/daily/domestic/13?page=1\u001b[39m\u001b[38;5;124m\"\u001b[39m)\n\u001b[0;32m     21\u001b[0m time\u001b[38;5;241m.\u001b[39msleep(\u001b[38;5;241m5\u001b[39m)\n\u001b[1;32m---> 22\u001b[0m elements \u001b[38;5;241m=\u001b[39m driver\u001b[38;5;241m.\u001b[39mfind_elements(By\u001b[38;5;241m.\u001b[39mCSS_SELECTOR,\u001b[38;5;124m\"\u001b[39m\u001b[38;5;124mdiv.ml-4.w-full.min-w-[516px]\u001b[39m\u001b[38;5;124m\"\u001b[39m)\n\u001b[0;32m     23\u001b[0m \u001b[38;5;28;01mfor\u001b[39;00m i, element \u001b[38;5;129;01min\u001b[39;00m \u001b[38;5;28menumerate\u001b[39m(elements,\u001b[38;5;241m1\u001b[39m) :\n\u001b[0;32m     24\u001b[0m     \u001b[38;5;28;01mtry\u001b[39;00m:\n",
      "File \u001b[1;32m~\\anaconda3\\Lib\\site-packages\\selenium\\webdriver\\remote\\webdriver.py:963\u001b[0m, in \u001b[0;36mWebDriver.find_elements\u001b[1;34m(self, by, value)\u001b[0m\n\u001b[0;32m    959\u001b[0m     \u001b[38;5;28;01mreturn\u001b[39;00m \u001b[38;5;28mself\u001b[39m\u001b[38;5;241m.\u001b[39mexecute_script(find_element_js, by\u001b[38;5;241m.\u001b[39mto_dict())\n\u001b[0;32m    961\u001b[0m \u001b[38;5;66;03m# Return empty list if driver returns null\u001b[39;00m\n\u001b[0;32m    962\u001b[0m \u001b[38;5;66;03m# See https://github.com/SeleniumHQ/selenium/issues/4555\u001b[39;00m\n\u001b[1;32m--> 963\u001b[0m \u001b[38;5;28;01mreturn\u001b[39;00m \u001b[38;5;28mself\u001b[39m\u001b[38;5;241m.\u001b[39mexecute(Command\u001b[38;5;241m.\u001b[39mFIND_ELEMENTS, {\u001b[38;5;124m\"\u001b[39m\u001b[38;5;124musing\u001b[39m\u001b[38;5;124m\"\u001b[39m: by, \u001b[38;5;124m\"\u001b[39m\u001b[38;5;124mvalue\u001b[39m\u001b[38;5;124m\"\u001b[39m: value})[\u001b[38;5;124m\"\u001b[39m\u001b[38;5;124mvalue\u001b[39m\u001b[38;5;124m\"\u001b[39m] \u001b[38;5;129;01mor\u001b[39;00m []\n",
      "File \u001b[1;32m~\\anaconda3\\Lib\\site-packages\\selenium\\webdriver\\remote\\webdriver.py:454\u001b[0m, in \u001b[0;36mWebDriver.execute\u001b[1;34m(self, driver_command, params)\u001b[0m\n\u001b[0;32m    451\u001b[0m response \u001b[38;5;241m=\u001b[39m cast(RemoteConnection, \u001b[38;5;28mself\u001b[39m\u001b[38;5;241m.\u001b[39mcommand_executor)\u001b[38;5;241m.\u001b[39mexecute(driver_command, params)\n\u001b[0;32m    453\u001b[0m \u001b[38;5;28;01mif\u001b[39;00m response:\n\u001b[1;32m--> 454\u001b[0m     \u001b[38;5;28mself\u001b[39m\u001b[38;5;241m.\u001b[39merror_handler\u001b[38;5;241m.\u001b[39mcheck_response(response)\n\u001b[0;32m    455\u001b[0m     response[\u001b[38;5;124m\"\u001b[39m\u001b[38;5;124mvalue\u001b[39m\u001b[38;5;124m\"\u001b[39m] \u001b[38;5;241m=\u001b[39m \u001b[38;5;28mself\u001b[39m\u001b[38;5;241m.\u001b[39m_unwrap_value(response\u001b[38;5;241m.\u001b[39mget(\u001b[38;5;124m\"\u001b[39m\u001b[38;5;124mvalue\u001b[39m\u001b[38;5;124m\"\u001b[39m, \u001b[38;5;28;01mNone\u001b[39;00m))\n\u001b[0;32m    456\u001b[0m     \u001b[38;5;28;01mreturn\u001b[39;00m response\n",
      "File \u001b[1;32m~\\anaconda3\\Lib\\site-packages\\selenium\\webdriver\\remote\\errorhandler.py:232\u001b[0m, in \u001b[0;36mErrorHandler.check_response\u001b[1;34m(self, response)\u001b[0m\n\u001b[0;32m    230\u001b[0m         alert_text \u001b[38;5;241m=\u001b[39m value[\u001b[38;5;124m\"\u001b[39m\u001b[38;5;124malert\u001b[39m\u001b[38;5;124m\"\u001b[39m]\u001b[38;5;241m.\u001b[39mget(\u001b[38;5;124m\"\u001b[39m\u001b[38;5;124mtext\u001b[39m\u001b[38;5;124m\"\u001b[39m)\n\u001b[0;32m    231\u001b[0m     \u001b[38;5;28;01mraise\u001b[39;00m exception_class(message, screen, stacktrace, alert_text)  \u001b[38;5;66;03m# type: ignore[call-arg]  # mypy is not smart enough here\u001b[39;00m\n\u001b[1;32m--> 232\u001b[0m \u001b[38;5;28;01mraise\u001b[39;00m exception_class(message, screen, stacktrace)\n",
      "\u001b[1;31mInvalidSelectorException\u001b[0m: Message: invalid selector: An invalid or illegal selector was specified\n  (Session info: chrome=138.0.7204.184); For documentation on this error, please visit: https://www.selenium.dev/documentation/webdriver/troubleshooting/errors#invalidselectorexception\nStacktrace:\n\tGetHandleVerifier [0x0xddba83+63395]\n\tGetHandleVerifier [0x0xddbac4+63460]\n\t(No symbol) [0x0xc22113]\n\t(No symbol) [0x0xc288e9]\n\t(No symbol) [0x0xc2ac7a]\n\t(No symbol) [0x0xc2acf7]\n\t(No symbol) [0x0xc6a0f4]\n\t(No symbol) [0x0xc6abfb]\n\t(No symbol) [0x0xcb2fcc]\n\t(No symbol) [0x0xc8f3f4]\n\t(No symbol) [0x0xcb07ba]\n\t(No symbol) [0x0xc8f1a6]\n\t(No symbol) [0x0xc5e7b2]\n\t(No symbol) [0x0xc5f654]\n\tGetHandleVerifier [0x0x1058883+2672035]\n\tGetHandleVerifier [0x0x1053cba+2652634]\n\tGetHandleVerifier [0x0xe02bca+223466]\n\tGetHandleVerifier [0x0xdf2cb8+158168]\n\tGetHandleVerifier [0x0xdf978d+185517]\n\tGetHandleVerifier [0x0xde3b78+96408]\n\tGetHandleVerifier [0x0xde3d02+96802]\n\tGetHandleVerifier [0x0xdce90a+9770]\n\tBaseThreadInitThunk [0x0x76445d49+25]\n\tRtlInitializeExceptionChain [0x0x77b7d1ab+107]\n\tRtlGetAppContainerNamedObjectPath [0x0x77b7d131+561]\n"
     ]
    }
   ],
   "source": [
    "from selenium import webdriver\n",
    "from selenium.webdriver.chrome.service import Service\n",
    "from selenium.webdriver.chrome.options import Options\n",
    "from selenium.webdriver.common.by import By\n",
    "from webdriver_manager.chrome import ChromeDriverManager\n",
    "from selenium.webdriver.support.ui import WebDriverWait\n",
    "from selenium.webdriver.support import expected_conditions as EC\n",
    "import time\n",
    "\n",
    "options = Options()\n",
    "# options.add_argument(\"headless\")\n",
    "options.add_argument(\"window-size=1920x1080\")\n",
    "options.add_argument(\"disable-gpu\")\n",
    "options.add_argument(\"lang=ko_KR\")\n",
    "options.add_argument(\"user-agent=Mozilla/5.0\")\n",
    "\n",
    "service = Service(ChromeDriverManager().install())\n",
    "driver = webdriver.Chrome(service=service, options=options)\n",
    "driver.get(\"https://store.kyobobook.co.kr/bestseller/online/daily/domestic/13?page=1\")\n",
    "\n",
    "time.sleep(5)\n",
    "elements = driver.find_elements(By.CSS_SELECTOR,\"div.ml-4.w-full.min-w-[516px]\")\n",
    "for i, element in enumerate(elements,1) :\n",
    "    try:\n",
    "        title = element.find_element(By.CSS_SELECTOR,\"a.prod_link.line-clamp-2.font-medium.text-black\")\n",
    "        author = element.find_element(By.CSS_SELECTOR,\"div.line-clamp-2.flex.overflow-hidden.whitespace-normal\")\n",
    "        print(f\"{i}. 제목: {title.text.strip()} | 저자: {author.text.strip()}\")\n",
    "    except Exception as e:\n",
    "        print(f\"{i}. 정보 추출 실패: {e}\")\n",
    "\n",
    "driver.quit()\n"
   ]
  },
  {
   "cell_type": "code",
   "execution_count": 68,
   "id": "251e7a4d-9f9c-44de-90d0-31d974e17e68",
   "metadata": {},
   "outputs": [],
   "source": [
    "from selenium import webdriver\n",
    "from selenium.webdriver.chrome.service import Service\n",
    "from selenium.webdriver.chrome.options import Options\n",
    "from selenium.webdriver.common.by import By\n",
    "from selenium.webdriver.support.ui import WebDriverWait\n",
    "from selenium.webdriver.support import expected_conditions as EC\n",
    "from webdriver_manager.chrome import ChromeDriverManager\n",
    "import time\n",
    "\n",
    "options = Options()\n",
    "options.add_argument(\"window-size=1920x1080\")\n",
    "options.add_argument(\"disable-gpu\")\n",
    "options.add_argument(\"lang=ko_KR\")\n",
    "options.add_argument(\"user-agent=Mozilla/5.0\")\n",
    "\n",
    "service = Service(ChromeDriverManager().install())\n",
    "driver = webdriver.Chrome(service=service, options=options)\n",
    "\n",
    "url = \"https://store.kyobobook.co.kr/bestseller/online/daily/domestic/13?page=1\"\n",
    "driver.get(url)\n",
    "\n",
    "# 로딩 대기: 책 제목 요소가 나타날 때까지\n",
    "WebDriverWait(driver, 10).until(\n",
    "    EC.presence_of_all_elements_located((By.CSS_SELECTOR, \"a.prod_link\"))\n",
    ")\n",
    "\n",
    "# 책 전체 목록 요소 선택\n",
    "books = driver.find_elements(By.CSS_SELECTOR, \"div.prod_info\")\n",
    "\n",
    "for i, book in enumerate(books, 1):\n",
    "    try:\n",
    "        title = book.find_element(By.CSS_SELECTOR, \"a.prod_link\").text.strip()\n",
    "        author = book.find_element(By.CSS_SELECTOR, \"div.author\").text.strip()\n",
    "        print(f\"{i}. 제목: {title} | 저자: {author}\")\n",
    "    except Exception as e:\n",
    "        print(f\"{i}. 정보 추출 실패: {e}\")\n",
    "\n",
    "driver.quit()"
   ]
  }
 ],
 "metadata": {
  "kernelspec": {
   "display_name": "Python [conda env:base] *",
   "language": "python",
   "name": "conda-base-py"
  },
  "language_info": {
   "codemirror_mode": {
    "name": "ipython",
    "version": 3
   },
   "file_extension": ".py",
   "mimetype": "text/x-python",
   "name": "python",
   "nbconvert_exporter": "python",
   "pygments_lexer": "ipython3",
   "version": "3.13.5"
  }
 },
 "nbformat": 4,
 "nbformat_minor": 5
}
