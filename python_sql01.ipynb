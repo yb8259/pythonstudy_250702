{
 "cells": [
  {
   "cell_type": "code",
   "execution_count": null,
   "id": "11252a7c-ae87-4f4a-9e37-03abf11183b2",
   "metadata": {},
   "outputs": [],
   "source": [
    "# 인터파크 크롤링 역할\n",
    "from selenium import webdriver\n",
    "from selenium.webdriver.chrome.service import Service\n",
    "from selenium.webdriver.chrome.options import Options\n",
    "from webdriver_manager.chrome import ChromeDriverManager\n",
    "from selenium.webdriver.common.by import By\n",
    "from selenium.webdriver.common.keys import Keys\n",
    "import time\n",
    "import pandas as pd\n",
    "\n",
    "service = Service(ChromeDriverManager().install())\n",
    "options = Options()\n",
    "options.add_argument(\"--headless\") # 브라우저창을 켜놓지 않은 상태로 값을 찾아옴\n",
    "options.add_argument(\"--window-size=1920x1080\")\n",
    "options.add_argument(\"--lang=ko_KR\")\n",
    "options.add_argument(\"--start-maximized\")\n",
    "options.add_argument(\"--user-agent=Mozilla/5.0 (Windows NT 10.0; Win64; x64) AppleWebKit/537.36 (KHTML, like Gecko) Chrome/138.0.0.0 Safari/537.36\")\n",
    "\n",
    "driver = webdriver.Chrome(service=service,options=options)\n",
    "\n",
    "url = \"https://tickets.interpark.com/contents/genre/concert\"\n",
    "driver.get(url)\n",
    "time.sleep(2)\n",
    "\n",
    "try :\n",
    "    hot_button = driver.find_element(By.XPATH, \"//button[contains(text(),'요즘 HOT')]\")\n",
    "    print(hot_button)\n",
    "    # hot_button.click()\n",
    "    # time.sleep\n",
    "\n",
    "except exception as e :\n",
    "    print(\"요즘 HOT 버튼 클릭 실패 : \", e)\n",
    "\n",
    "scroll_pause = 1\n",
    "last_height = driver.execute_script(\"return document.body.scrollHeight\") #return 자체가 종결 그래서 ; 없음\n",
    "\n",
    "for _ in range(5):\n",
    "    driver.execute_script(\"window.scrollTo(0,document.body.scrollHeight);\")\n",
    "    time.sleep(scroll_pause)\n",
    "    new_height = driver.execute_script(\"return document.body.scrollHeight\")\n",
    "    if new_height == last_height :\n",
    "        break\n",
    "    last_height = new_height\n",
    "\n",
    "titles = driver.find_elements(By.CSS_SELECTOR,\"li.TicketItem_goodsName__Ju76j\")\n",
    "dates = driver.find_elements(By.CSS_SELECTOR,\"li.TicketItem_playDate__5ePr2\")\n",
    "places = driver.find_elements(By.CSS_SELECTOR,\"li.TicketItem_placeName__ls_9C\")\n",
    "# print(titles, dates, places)\n",
    "# 리스트가 3개인데 어떻게 할까?\n",
    "\n",
    "data = []\n",
    "for t, d, p in zip(titles, dates, places) : # 각각의 리스트를 동시출발\n",
    "    data.append({\n",
    "        \"title\": t.text.strip(),\n",
    "        \"date\": d.text.strip(),\n",
    "        \"place\": p.text.strip()\n",
    "    }) # dictionary 로 해야 sql 들어갈때 행과 열로 잘 받을 수 있음\n",
    "# print(data)\n",
    "driver.quit()\n",
    "\n",
    "df = pd.DataFrame(data)\n",
    "df.head()"
   ]
  },
  {
   "cell_type": "code",
   "execution_count": 18,
   "id": "1bfbd4f5-967f-4251-a9d3-5868f110e70d",
   "metadata": {},
   "outputs": [
    {
     "name": "stdout",
     "output_type": "stream",
     "text": [
      "Collecting pymysql\n",
      "  Downloading PyMySQL-1.1.1-py3-none-any.whl.metadata (4.4 kB)\n",
      "Downloading PyMySQL-1.1.1-py3-none-any.whl (44 kB)\n",
      "Installing collected packages: pymysql\n",
      "Successfully installed pymysql-1.1.1\n",
      "Note: you may need to restart the kernel to use updated packages.\n"
     ]
    }
   ],
   "source": [
    "pip install pymysql"
   ]
  },
  {
   "cell_type": "code",
   "execution_count": 4,
   "id": "e751b5f0-fa24-419d-b1f0-52f114340997",
   "metadata": {},
   "outputs": [],
   "source": [
    "import pymysql\n",
    "\n",
    "conn = pymysql.connect(\n",
    "    host = 'localhost',\n",
    "    user = 'root',\n",
    "    password = 'dPqls0415!',\n",
    "    db = 'interpark',\n",
    "    charset = 'utf8mb4'\n",
    ")\n",
    "\n",
    "cursor = conn.cursor()\n",
    "\n",
    "for _, row in df.iterrows() :\n",
    "    sql = \"\"\"\n",
    "    INSERT INTO performances (title, date_range, place) \n",
    "    VALUES (%s, %s, %s) \n",
    "    \"\"\"\n",
    "    cursor.execute(sql, (row[\"title\"], row[\"date\"], row[\"place\"]))\n",
    "\n",
    "conn.commit()\n",
    "conn.close()"
   ]
  }
 ],
 "metadata": {
  "kernelspec": {
   "display_name": "Python [conda env:base] *",
   "language": "python",
   "name": "conda-base-py"
  },
  "language_info": {
   "codemirror_mode": {
    "name": "ipython",
    "version": 3
   },
   "file_extension": ".py",
   "mimetype": "text/x-python",
   "name": "python",
   "nbconvert_exporter": "python",
   "pygments_lexer": "ipython3",
   "version": "3.13.5"
  }
 },
 "nbformat": 4,
 "nbformat_minor": 5
}
