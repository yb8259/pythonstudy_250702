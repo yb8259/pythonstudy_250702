{
 "cells": [
  {
   "cell_type": "markdown",
   "id": "a9c5edd4-322f-4548-a193-24b6f5a82d7f",
   "metadata": {},
   "source": [
    "#### 1. 절차지향 언어가 문제를 해결해가는 과정\n",
    "\n",
    "- 예 : 냉장고에 코끼리를 넣는다.\n",
    "- 1. 냉장고 문을 연다 // open 냉장고\n",
    "  2. 코끼리를 냉장고에 넣는다 // insert 코끼리 into 냉장고\n",
    "  3. 냉장고 문을 닫는다 / clsoe 냉장고"
   ]
  },
  {
   "cell_type": "markdown",
   "id": "a31b7a40-b3bb-4d1c-b02f-c8a92284b826",
   "metadata": {},
   "source": [
    "#### 2. 객체지향 언어가 문제를 해결해가는 과정 \n",
    "객체가 많아지면 객쳬가 훨씬 이득\n",
    "\n",
    "- 예 : 냉장고에 코끼리를 넣는다.\n",
    "- 1. 코끼리라는 동물의 정보를 수집해서 해당 동물에 대한 설계도(*코끼리를 냉장고의 문을 열수있고, 안으로 들어갈 수 있는 기능이 사전에 정의)를 만든다.\n",
    "  2. 이전 단계에서 만든 코끼리 설계도를 기반으로 코끼리1 라는 객체를 하나 만든다.\n",
    "  3. 냉장고라는 사물의 정보를 수집해서 해당 사물에 대한 설계도(*만약 코끼리가 냉장고안에 들어오면 문이 자동으로 닫혀지도록 하는 기능 가전에 정의)를 만든다.\n",
    "  4. 이전 단계에서 만든 냉장고 설계도를 기반으로 냉장고1 이라는 객체를 하나 만든다.\n",
    "  5. 코끼리1 이라는 객체안에 \"내장\"되어 있는 기능을 호출해서 냉장고1 이라는 객체의 문을 열게 한다.\n",
    "  6. 코끼리1 이라는 객체안에 \"내장\"되어 잇는 기능을 호출해서 냉장고1 이라는 객체 안으로 들어가게 한다.\n",
    "  7. 냉장고1 이라는 객체안에 \"내장\"되어 있는 기능을 호출해서 냉장고1 이라는 객체의 문을 닫게 한다.\n"
   ]
  },
  {
   "cell_type": "markdown",
   "id": "a2d10346-680e-418c-84ea-93a8ca3436c1",
   "metadata": {},
   "source": [
    "#### 3. 객체지향 프로그래밍 언어 핵심 요소\n",
    "1. 어떤 사물 혹은 동물을 나타낼 수 있는 설계도를 객체지향언어에서 class\n",
    "   - attribute (속성) : 코끼리의 다리는 4개 / 코끼리의 코는 1개 = 코는 손의 역할을 함 => 정보\n",
    "   - method (기능 = 객체만의 기능을 구현할 수 있는 함수) : 코끼리가 냉장고를 보면 자신의 코로 문을 연다 / 코끼리가 자신의 코로 냉장고의 문을 연다면 그 안으로 들어간다=> 기능, action\n",
    "   - 만약 해당 객체가 사전에 설계도면에 정의가 되어 있는 속성값과 기능을 구현하고 싶다면 이렇게 작성해라 => 객체.속성명 // 객체.매서드함수()\n",
    "3. 어떤 사물 혹은 동물의 정보를 가지고 있는 설계도를 가지고 만들어진 \"객체\" object = 객체\n",
    "    - 객체명.속성 : 객체가 가지고 있는 어떤 정보들을 찾아올 수 있음\n",
    "    - 객체명.메서드함수() : 해당 객체가 가지고 있는 고유한 매서드함수를 실행하겠다는 의미"
   ]
  },
  {
   "cell_type": "markdown",
   "id": "c6e6b181-9f66-40bd-b275-8de6c3ddd50e",
   "metadata": {},
   "source": [
    "#### 4. class를 활용한 객체생성 문법\n",
    "\n",
    "1. class를 정의 : class라는 예약어를 쓴다. 그 뒤에 이름을 마음대로 입력한다 -> \"이름\"라는 클래스를 정의하겠다는 의미!\n",
    "2. class 안에 \"속성\"과 \"매서드 함수\"를 정의하려면, \"생성자 함수 = 초기화 함수\"를 만들어야 함!\n",
    "   - __init__ : class를 통해서 객체가 생성될 때 자동으로 호출되는 특별한 함수\n",
    "   - self 매개변수 : __init__ 특별한 함수를 선언할때, 반드시 첫번째 매개변수로 작성해야 함! => 자기자신 => 클래스를 통해서 생성되어질 객체 그 당사자\n",
    "   - __init__(self, name, grade) => class를 활용해서 최초에 객체를 생성 할 때, name 이라는 속성값과 grade라는 속성값을 받아서 객체 본인의 속성으로 정의하겠다는 의미를 내포하고 있다.\n",
    "   - class 안에서 생성자 함수를 사용하는 예.\n",
    "   - def __init__(self, name, grade) :\n",
    "          self.name = name\n",
    "          self.grade = grade => 이것들이 생성자 함수를 만드는 구문!\n",
    "   - self.name => 클래스 안에 있는 하나의 변수로서 인식\n",
    "   - 생성자 함수를 선언한 이후에 매서드함수를 선언!!! => 개발자가 원하는 직관적인 이름으로 매서드 함수명을 선언\n",
    "         def study(self) :\n",
    "             print(f\"{self.name}가 공부를 열심히 합니다.\")\n",
    "    - 클래스를 통해서 새롭게 탄생한 객체. study(공유) => 공유가 공부를 열심히 합니다. 라는 구문이 출력!!  "
   ]
  },
  {
   "cell_type": "code",
   "execution_count": 1,
   "id": "30a44fa6-dacb-495d-8f82-d58752fd690b",
   "metadata": {},
   "outputs": [
    {
     "name": "stdout",
     "output_type": "stream",
     "text": [
      "Fun Coding\n"
     ]
    }
   ],
   "source": [
    "# 함수 선언부\n",
    "def print_string(data) : # data 는 참조변수라고도 부른다.\n",
    "    print(data) # print 내장함수\n",
    "\n",
    "#함수 호출(그냥 일반함수)\n",
    "print_string(\"Fun Coding\")"
   ]
  },
  {
   "cell_type": "code",
   "execution_count": 13,
   "id": "fac2b8d2-178d-46bd-9099-1aa0dc3da1cc",
   "metadata": {},
   "outputs": [
    {
     "name": "stdout",
     "output_type": "stream",
     "text": [
      "['Fun', 'Coding']\n",
      "<class 'str'>\n"
     ]
    }
   ],
   "source": [
    "string = \"Fun Coding\" #문자열 객체라고 부를 수 있다.\n",
    "print(string.split()) #string은 문자열 객체니까 split 이라는 매서드 함수 사용 가능!\n",
    "print(type(string))"
   ]
  },
  {
   "cell_type": "code",
   "execution_count": 5,
   "id": "4c1f9185-32f4-42cd-bf74-096021a1c15e",
   "metadata": {},
   "outputs": [],
   "source": [
    "class Student :\n",
    "    def __init__(self, name, grade) :\n",
    "        self.name = name # name이라는 매개변수 할당함\n",
    "        self.grade = grade \n",
    "\n",
    "    def study(self) :\n",
    "        print(f\"{self.name}가 공부를 열심히 합니다.\")\n",
    "\n",
    "    def take_exam(self) :\n",
    "        print(f\"{self.name}가 시험을 봅니다.\")"
   ]
  },
  {
   "cell_type": "code",
   "execution_count": 14,
   "id": "405215dd-75aa-4756-9999-52f2141dcaca",
   "metadata": {},
   "outputs": [
    {
     "name": "stdout",
     "output_type": "stream",
     "text": [
      "David\n",
      "3\n",
      "David 3\n",
      "David가 공부를 열심히 합니다.\n",
      "David가 시험을 봅니다.\n"
     ]
    }
   ],
   "source": [
    "student = Student(\"David\", 3)\n",
    "print(student.name)\n",
    "print(student.grade)\n",
    "print(student.name, student.grade)\n",
    "student.study()\n",
    "student.take_exam()"
   ]
  },
  {
   "cell_type": "code",
   "execution_count": 22,
   "id": "bb63ab14-d991-434b-98ed-18c76c192e95",
   "metadata": {},
   "outputs": [],
   "source": [
    "class School : \n",
    "    def __init__(self, teacher, student):\n",
    "        self.teacher = teacher\n",
    "        self.student = student\n",
    "    def study(self) :\n",
    "        print(f\"{self.teacher}은 선생님 입니다.\")\n",
    "    def take_exam(self) :\n",
    "        print(f\"{self.student}는 시험을 봅니다.\")"
   ]
  },
  {
   "cell_type": "code",
   "execution_count": 31,
   "id": "7cf1f0da-38b8-4547-b9e2-b989664f50d8",
   "metadata": {},
   "outputs": [
    {
     "name": "stdout",
     "output_type": "stream",
     "text": [
      "david\n",
      "yebeen\n",
      "david yebeen\n",
      "david은 선생님 입니다.\n",
      "yebeen는 시험을 봅니다.\n"
     ]
    }
   ],
   "source": [
    "school = School(\"david\", \"yebeen\")\n",
    "print(school.teacher)\n",
    "print(school.student)\n",
    "print(school.teacher, school.student)\n",
    "school.study()\n",
    "school.take_exam()"
   ]
  }
 ],
 "metadata": {
  "kernelspec": {
   "display_name": "Python [conda env:base] *",
   "language": "python",
   "name": "conda-base-py"
  },
  "language_info": {
   "codemirror_mode": {
    "name": "ipython",
    "version": 3
   },
   "file_extension": ".py",
   "mimetype": "text/x-python",
   "name": "python",
   "nbconvert_exporter": "python",
   "pygments_lexer": "ipython3",
   "version": "3.13.5"
  }
 },
 "nbformat": 4,
 "nbformat_minor": 5
}
