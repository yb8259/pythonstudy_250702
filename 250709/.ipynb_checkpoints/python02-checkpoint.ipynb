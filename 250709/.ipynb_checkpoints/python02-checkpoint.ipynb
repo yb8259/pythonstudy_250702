{
 "cells": [
  {
   "cell_type": "markdown",
   "id": "19a145ed-f016-4fe3-b65a-29d872ac66ba",
   "metadata": {},
   "source": [
    "#### 파이썬 크롤링, 내.외부에서 라이브러리 찾아오기\n",
    "\n",
    "1. 크롤링을 하는 수많은 프로그래밍 언어와 툴이 존재하는데 왜? 파이썬?\n",
    "   - 파이썬은 라이브러리의 천국이다\n",
    "   - 라이브러리 => 도서관 => 특정 분야에 대한 전문지식을 습득하기 위해서 ㅎ당 책을 빌려보거나 서재에서 가져다가 참고!\n",
    "   - 크롤링을 하려고 하는데, a to z까지 직접 크롤링을 위한 코드를 작성한다면 시간, 효율이 매우 안 좋을 것임\n",
    "   - 파이썬은 미리 크롤링 할 수 있도록 도와줄 수 있는 일종의 참고서적 만들어 놓음(*)\n",
    "   - 특정 라이브러리를 가져와서 사용하려면 import 예약어(*명령어)를 사용!\n",
    "   - 만약에 해당 라이브러리가 파이썬에 내장되어있는 라이브러리가 아니라고 한다면 반드시 사전에 설치가 필요!!\n",
    "   - !pip = python install package의 약자\n",
    "   - !pip install 설치하고 싶은 라이브러리명 = ex. pandas\n"
   ]
  },
  {
   "cell_type": "code",
   "execution_count": 4,
   "id": "03240edb-487d-49e6-811e-2bc7cf50379a",
   "metadata": {},
   "outputs": [],
   "source": [
    "import pandas"
   ]
  },
  {
   "cell_type": "code",
   "execution_count": 5,
   "id": "819f6065-265d-40ae-bbc1-03784e851398",
   "metadata": {},
   "outputs": [
    {
     "name": "stdout",
     "output_type": "stream",
     "text": [
      "Requirement already satisfied: pandas in c:\\users\\user\\anaconda3\\lib\\site-packages (2.2.3)\n",
      "Requirement already satisfied: numpy>=1.26.0 in c:\\users\\user\\anaconda3\\lib\\site-packages (from pandas) (2.1.3)\n",
      "Requirement already satisfied: python-dateutil>=2.8.2 in c:\\users\\user\\anaconda3\\lib\\site-packages (from pandas) (2.9.0.post0)\n",
      "Requirement already satisfied: pytz>=2020.1 in c:\\users\\user\\anaconda3\\lib\\site-packages (from pandas) (2024.1)\n",
      "Requirement already satisfied: tzdata>=2022.7 in c:\\users\\user\\anaconda3\\lib\\site-packages (from pandas) (2025.2)\n",
      "Requirement already satisfied: six>=1.5 in c:\\users\\user\\anaconda3\\lib\\site-packages (from python-dateutil>=2.8.2->pandas) (1.17.0)\n"
     ]
    }
   ],
   "source": [
    "!pip install pandas"
   ]
  },
  {
   "cell_type": "code",
   "execution_count": 6,
   "id": "afabef51-3eff-41d8-a62c-3c184b504134",
   "metadata": {},
   "outputs": [],
   "source": [
    "import pandas"
   ]
  },
  {
   "cell_type": "code",
   "execution_count": 11,
   "id": "a4ba1c0c-8771-48f9-8605-5375910fa0f0",
   "metadata": {},
   "outputs": [
    {
     "name": "stdout",
     "output_type": "stream",
     "text": [
      "2.5\n",
      "1.2909944487358056\n"
     ]
    }
   ],
   "source": [
    "import statistics\n",
    "\n",
    "data = [1, 2, 3, 4]\n",
    "\n",
    "# print(statistics.mean(data)) # 평균값\n",
    "# print(statistics.stdev(data)) # 표준편차\n",
    "\n"
   ]
  },
  {
   "cell_type": "code",
   "execution_count": 15,
   "id": "5fcf3380-09ce-4a36-9bd9-50acad541d99",
   "metadata": {},
   "outputs": [
    {
     "data": {
      "text/plain": [
       "1.2909944487358056"
      ]
     },
     "execution_count": 15,
     "metadata": {},
     "output_type": "execute_result"
    }
   ],
   "source": [
    "# import statistics\n",
    "from statistics import mean, stdev\n",
    "# 라이브러리에 가져와야 할 매서드함수가 소수면 이렇게도 가능!\n",
    "\n",
    "data = [1, 2, 3, 4]\n",
    "\n",
    "mean(data)\n",
    "stdev(data)\n",
    "# print(statistics.mean(data)) # 평균값\n",
    "# print(statistics.stdev(data)) # 표준편차\n",
    "\n"
   ]
  },
  {
   "cell_type": "code",
   "execution_count": 16,
   "id": "08c49b0a-8c2d-42a9-b647-c026de897617",
   "metadata": {},
   "outputs": [
    {
     "data": {
      "text/plain": [
       "1.2909944487358056"
      ]
     },
     "execution_count": 16,
     "metadata": {},
     "output_type": "execute_result"
    }
   ],
   "source": [
    "from statistics import * \n",
    "data = [1, 2, 3, 4]\n",
    "\n",
    "mean(data)\n",
    "stdev(data)"
   ]
  },
  {
   "cell_type": "code",
   "execution_count": 20,
   "id": "dcb57ad4-1478-474d-b137-b3be03ad91f2",
   "metadata": {},
   "outputs": [
    {
     "data": {
      "text/plain": [
       "1.2909944487358056"
      ]
     },
     "execution_count": 20,
     "metadata": {},
     "output_type": "execute_result"
    }
   ],
   "source": [
    "# 별칭사용\n",
    "import statistics as s\n",
    "data = [1, 2, 3, 4]\n",
    "\n",
    "s.mean(data)\n",
    "s.stdev(data)"
   ]
  },
  {
   "cell_type": "code",
   "execution_count": 22,
   "id": "9ead8d32-3cba-4001-ae40-9dda04fc2f52",
   "metadata": {},
   "outputs": [
    {
     "data": {
      "text/plain": [
       "2.5"
      ]
     },
     "execution_count": 22,
     "metadata": {},
     "output_type": "execute_result"
    }
   ],
   "source": [
    "# 별칭사용 - mean 사용... 이럴경우 다른 개발자와 소통 필요.. 그래서 위험함! 상호약속이 있어야 함\n",
    "from statistics import mean as m\n",
    "data = [1, 2, 3, 4]\n",
    "\n",
    "m(data)"
   ]
  }
 ],
 "metadata": {
  "kernelspec": {
   "display_name": "Python [conda env:base] *",
   "language": "python",
   "name": "conda-base-py"
  },
  "language_info": {
   "codemirror_mode": {
    "name": "ipython",
    "version": 3
   },
   "file_extension": ".py",
   "mimetype": "text/x-python",
   "name": "python",
   "nbconvert_exporter": "python",
   "pygments_lexer": "ipython3",
   "version": "3.13.5"
  }
 },
 "nbformat": 4,
 "nbformat_minor": 5
}
