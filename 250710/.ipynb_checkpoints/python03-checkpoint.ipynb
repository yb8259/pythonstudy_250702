{
 "cells": [
  {
   "cell_type": "markdown",
   "id": "a101fac8-6165-4e4e-81d5-e7a945e6f39e",
   "metadata": {},
   "source": [
    "#### 다음 사이트를 크롤링 할 수 있도록 BS4 ,requests를 활용해서 기본 세팅해주세요!\n",
    "- https://davelee-fun.github.io/"
   ]
  },
  {
   "cell_type": "code",
   "execution_count": 2,
   "id": "5404ca38-100e-49ba-933b-4659034032a8",
   "metadata": {},
   "outputs": [],
   "source": [
    "import requests\n",
    "from bs4 import BeautifulSoup\n",
    "\n",
    "res = requests.get(\"https://davelee-fun.github.io/\")\n",
    "soup = BeautifulSoup(res.content, \"html.parser\")"
   ]
  },
  {
   "cell_type": "markdown",
   "id": "d32b4083-368c-4d07-b9e7-c8f4848d93bb",
   "metadata": {},
   "source": [
    "현재 쇼핑몰 내 우측 상단 Blog, About 메뉴명을 크롤링 해서 출력해주세요!"
   ]
  },
  {
   "cell_type": "code",
   "execution_count": 11,
   "id": "b6b1c7c4-9077-44d2-b750-5758250dfa84",
   "metadata": {},
   "outputs": [
    {
     "name": "stdout",
     "output_type": "stream",
     "text": [
      "\n",
      "Blog\n",
      "\n",
      "\n",
      "About\n",
      "\n"
     ]
    }
   ],
   "source": [
    "import requests\n",
    "from bs4 import BeautifulSoup\n",
    "\n",
    "url = \"https://davelee-fun.github.io/\"\n",
    "\n",
    "res = requests.get(url)\n",
    "soup = BeautifulSoup(res.content, \"html.parser\")\n",
    "#res = requests.get(f\"{url}~~~\")\n",
    "items = soup.select(\"li.nav-item\")\n",
    "for item in items :\n",
    "    print(item.get_text())"
   ]
  },
  {
   "cell_type": "code",
   "execution_count": 13,
   "id": "00d92859-6023-4665-8dae-2b2322fe4094",
   "metadata": {},
   "outputs": [],
   "source": [
    "#현재 찾아온 메뉴명 중에서 가상클래스  Blog, About 메뉴명을 크롤링 해서 출력해주세요!"
   ]
  },
  {
   "cell_type": "code",
   "execution_count": 42,
   "id": "d7acc4a5-a58c-4be4-9091-c597473724cd",
   "metadata": {},
   "outputs": [
    {
     "name": "stdout",
     "output_type": "stream",
     "text": [
      "Blog\n"
     ]
    }
   ],
   "source": [
    "import requests\n",
    "from bs4 import BeautifulSoup\n",
    "\n",
    "url = \"https://davelee-fun.github.io/\"\n",
    "\n",
    "res = requests.get(url)\n",
    "soup = BeautifulSoup(res.content, \"html.parser\")\n",
    "\n",
    "#items = soup.select(\"li.active\")\n",
    "# for item in items :\n",
    "#     print(item.get_text())\n",
    "item = soup.select_one(\"li.nav-item.active\")\n",
    "print(item.get_text().strip()) # string이 안되는 이유는 바로 밑 후손이 아니기 떄문!"
   ]
  },
  {
   "cell_type": "code",
   "execution_count": 19,
   "id": "6c713763-9afa-4e7e-ab22-4c0ca3f5fd38",
   "metadata": {},
   "outputs": [],
   "source": [
    "# 4. 현재 사이트에서 sitetile 이라는 크래스 값을 가지고 있는 h1 태그 안 텍스트를 출력해주세요!"
   ]
  },
  {
   "cell_type": "code",
   "execution_count": 27,
   "id": "423c7b2d-b772-4198-8490-250a14d8f971",
   "metadata": {},
   "outputs": [
    {
     "name": "stdout",
     "output_type": "stream",
     "text": [
      "Teddy의 선물 블로그\n"
     ]
    }
   ],
   "source": [
    "import requests\n",
    "from bs4 import BeautifulSoup\n",
    "\n",
    "url = \"https://davelee-fun.github.io/\"\n",
    "\n",
    "res = requests.get(url)\n",
    "soup = BeautifulSoup(res.content, \"html.parser\")\n",
    "\n",
    "items = soup.select_one(\"h1.sitetitle\")\n",
    "print(item.string) # 태그 밑에 값이 하나 밖이 없을 땐 string만 가능, 건너건너 있을 땐 get_text"
   ]
  },
  {
   "cell_type": "code",
   "execution_count": 28,
   "id": "9fa25f93-7141-475e-8a44-49e6d1a8afa7",
   "metadata": {},
   "outputs": [],
   "source": [
    "###5. 현재 사이트에서 \"선물하기 좋은 선물을 고르고 골라서 소개하는 블로그입니다.\"라는 서브타이틀을 찾아서 크롤링해서 출력해주세요!"
   ]
  },
  {
   "cell_type": "code",
   "execution_count": 43,
   "id": "74e2308f-2c61-4351-8fd3-95bce4f62aa0",
   "metadata": {},
   "outputs": [
    {
     "name": "stdout",
     "output_type": "stream",
     "text": [
      "\n",
      "        선물하기 좋은 선물을 고르고 골라서 소개하는 블로그입니다.\n",
      "    \n"
     ]
    }
   ],
   "source": [
    "import requests\n",
    "from bs4 import BeautifulSoup\n",
    "\n",
    "url = \"https://davelee-fun.github.io/\"\n",
    "\n",
    "res = requests.get(url)\n",
    "soup = BeautifulSoup(res.content, \"html.parser\")\n",
    "\n",
    "items = soup.select_one(\"p.lead\")\n",
    "print(items.get_text())"
   ]
  },
  {
   "cell_type": "markdown",
   "id": "4032a055-6e9b-41ed-b702-b2cb143831e9",
   "metadata": {},
   "source": [
    "####6. 현재 사이트에서 Featured 카테고리에 속해있는 상품들의 상품명만 가져와서 출력해주세요! "
   ]
  },
  {
   "cell_type": "code",
   "execution_count": 41,
   "id": "71b07fce-28a4-4ab3-a2bc-3baf3d1cad95",
   "metadata": {},
   "outputs": [
    {
     "name": "stdout",
     "output_type": "stream",
     "text": [
      "상품명: 보몽드 순면스퀘어 솔리드 누빔매트커버, 다크블루\n",
      "\n",
      "\n",
      "상품명: 슈에뜨룸 선인장 리플 침구 세트, 베이지\n",
      "\n",
      "\n",
      "상품명: 선우랜드 레인보우 2단 문걸이용 옷걸이 _중형, 화이트, 상세페이지참조\n",
      "\n",
      "\n",
      "상품명: 보드래 헬로우 누빔 매트리스커버, 핑크\n",
      "\n",
      "\n",
      "상품명: 보드래 퍼펙트 누빔 매트리스커버, 차콜\n",
      "\n",
      "\n",
      "상품명: 피아블 클래식 방수 매트리스커버, 화이트\n",
      "\n",
      "\n",
      "상품명: 더자리 에코항균 마이크로 매트리스커버, 밀키차콜그레이\n",
      "\n",
      "\n",
      "상품명: 더자리 프레쉬 퓨어 매트리스 커버, 퓨어 차콜그레이\n",
      "\n",
      "\n",
      "상품명: 몽쉐어 알러스킨 항균 매트리스 커버, 카키그레이\n",
      "\n",
      "\n",
      "상품명: 쿠팡 브랜드 - 코멧 홈 40수 트윌 순면 100% 홑겹 매트리스커버, 그레이\n",
      "\n",
      "\n",
      "상품명: 패브릭아트 항균 마이크로 원단 매트리스 커버, 아이보리\n",
      "\n",
      "\n",
      "상품명: 바숨 순면 누빔 침대 매트리스커버, 차콜\n",
      "\n",
      "\n",
      "상품명: WEMAX 다용도 문옷걸이, 화이트, 1개\n",
      "\n",
      "\n",
      "상품명: 타카타카 프리미엄 나노 화이바 누빔 매트리스 커버, 젠틀핑핑\n",
      "\n",
      "\n",
      "상품명: 보몽드 순면스퀘어 누빔매트커버, 다크그레이\n",
      "\n",
      "\n",
      "상품명: 보드래 국내산 순면 60수 누빔 매트리스커버, 그레이\n",
      "\n",
      "\n"
     ]
    }
   ],
   "source": [
    "import requests\n",
    "from bs4 import BeautifulSoup\n",
    "\n",
    "url = \"https://davelee-fun.github.io/\"\n",
    "\n",
    "res = requests.get(url)\n",
    "soup = BeautifulSoup(res.content, \"html.parser\")\n",
    "\n",
    "items = soup.select(\".card-text\")\n",
    "for item in items :\n",
    "    print(item.string) #get_text() 도 가능!"
   ]
  }
 ],
 "metadata": {
  "kernelspec": {
   "display_name": "Python [conda env:base] *",
   "language": "python",
   "name": "conda-base-py"
  },
  "language_info": {
   "codemirror_mode": {
    "name": "ipython",
    "version": 3
   },
   "file_extension": ".py",
   "mimetype": "text/x-python",
   "name": "python",
   "nbconvert_exporter": "python",
   "pygments_lexer": "ipython3",
   "version": "3.13.5"
  }
 },
 "nbformat": 4,
 "nbformat_minor": 5
}
