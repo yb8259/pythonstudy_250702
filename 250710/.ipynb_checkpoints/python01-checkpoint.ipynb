{
 "cells": [
  {
   "cell_type": "code",
   "execution_count": 13,
   "id": "c1fd4d54-8e98-4c4c-85ff-1431291c50da",
   "metadata": {
    "scrolled": true
   },
   "outputs": [
    {
     "name": "stdout",
     "output_type": "stream",
     "text": [
      "\n",
      "(왕초보) - 클래스 소개\n",
      "\n",
      "\n",
      "(왕초보) - 블로그 개발 필요한 준비물 준비하기\n",
      "\n",
      "\n",
      "(왕초보) - Github pages 설정해서 블로그 첫 페이지 만들어보기\n",
      "\n",
      "\n",
      "(왕초보) - 초간단 페이지 만들어보기\n",
      "\n",
      "\n",
      "(왕초보) - 이쁘게 테마 적용해보기\n",
      "\n",
      "\n",
      "(왕초보) - 마크다운 기초 이해하고, 실제 나만의 블로그 페이지\n",
      "          만들기\n",
      "\n",
      "\n",
      "(왕초보) - 다양한 마크다운 기법 익혀보며, 나만의 블로그 페이지\n",
      "          꾸며보기\n",
      "\n",
      "\n",
      "(초급) - 강사가 실제 사용하는 자동 프로그램 소개 [2]\n",
      "\n",
      "\n",
      "(초급) - 필요한 프로그램 설치 시연 [5]\n",
      "\n",
      "\n",
      "(초급) - 데이터를 엑셀 파일로 만들기 [9]\n",
      "\n",
      "\n",
      "(초급) -     엑셀 파일 이쁘게! 이쁘게! [8]\n",
      "\n",
      "\n",
      "(초급) -     나대신 주기적으로 파이썬 프로그램\n",
      "          실행하기 [7]\n",
      "\n",
      "\n",
      "(초급) - 파이썬으로 슬랙(slack) 메신저에 글쓰기 [40]\n",
      "\n",
      "\n",
      "(초급) - 웹사이트 변경사항 주기적으로 체크해서, 메신저로 알람주기\n",
      "          [12]\n",
      "\n",
      "\n",
      "(초급) - 네이버 API 사용해서, 블로그에 글쓰기 [42]\n",
      "\n",
      "\n",
      "(중급) - 자동으로 쿠팡파트너스 API 로 가져온 상품 정보, 네이버\n",
      "          블로그/트위터에 홍보하기 [412]\n",
      "\n"
     ]
    }
   ],
   "source": [
    "import requests\n",
    "from bs4 import BeautifulSoup\n",
    "\n",
    "res = requests.get(\"https://crawlingtest.netlify.app/\")\n",
    "soup = BeautifulSoup(res.content, \"html.parser\")\n",
    "\n",
    "titles = soup.find_all(\"li\",class_=\"course\")\n",
    "for item in titles :\n",
    "    print(item.get_text()) #string 뒤에는 () 없다 객체안에 있는 속성!"
   ]
  },
  {
   "cell_type": "code",
   "execution_count": 30,
   "id": "dbeb4359-21cb-413e-9766-4c6bf05ff9db",
   "metadata": {},
   "outputs": [
    {
     "name": "stdout",
     "output_type": "stream",
     "text": [
      "\n",
      "(왕초보) - 클래스 소개\n",
      "\n",
      "\n",
      "(왕초보) - 블로그 개발 필요한 준비물 준비하기\n",
      "\n",
      "\n",
      "(왕초보) - Github pages 설정해서 블로그 첫 페이지 만들어보기\n",
      "\n",
      "\n",
      "(왕초보) - 초간단 페이지 만들어보기\n",
      "\n",
      "\n",
      "(왕초보) - 이쁘게 테마 적용해보기\n",
      "\n",
      "\n",
      "(왕초보) - 마크다운 기초 이해하고, 실제 나만의 블로그 페이지\n",
      "          만들기\n",
      "\n",
      "\n",
      "(왕초보) - 다양한 마크다운 기법 익혀보며, 나만의 블로그 페이지\n",
      "          꾸며보기\n",
      "\n"
     ]
    }
   ],
   "source": [
    "import requests\n",
    "from bs4 import BeautifulSoup\n",
    "\n",
    "res = requests.get(\"https://crawlingtest.netlify.app/\")\n",
    "soup = BeautifulSoup(res.content, \"html.parser\")\n",
    "\n",
    "find1 = soup.find(\"ul\", id=\"hobby_course_list\").find_all(\"li\", class_=\"course\")  # 매서드 체이닝\n",
    "#find2 = find1.find_all(\"li\", class_=\"course\")\n",
    "for title in find1 :\n",
    "    print(title.get_text())"
   ]
  },
  {
   "cell_type": "markdown",
   "id": "45a0b5b3-3e57-4131-84c8-5258a2fc5ab4",
   "metadata": {},
   "source": [
    "#### 파이썬 크롤링 미션\n",
    "- https://crawlingtest.netlify.app/ 해당 사이트에서 course 라는 클래스 값을 갖고 있는 li태그 내부 텍스트를 출력하세요. 단, 난이도와 단계가 아닌 텍스트만 가져오기(부가적인 설명 제외, 실제 해당 과정의 설명문안만 크롤링 해오세요!)"
   ]
  },
  {
   "cell_type": "code",
   "execution_count": 118,
   "id": "58ba99e4-1bf5-4dc4-a994-c7e8637130c4",
   "metadata": {},
   "outputs": [
    {
     "name": "stdout",
     "output_type": "stream",
     "text": [
      "1 클래스 소개\n",
      "2 블로그 개발 필요한 준비물 준비하기\n",
      "3 Github pages 설정해서 블로그 첫 페이지 만들어보기\n",
      "4 초간단 페이지 만들어보기\n",
      "5 이쁘게 테마 적용해보기\n",
      "6 마크다운 기초 이해하고, 실제 나만의 블로그 페이지           만들기\n",
      "7 다양한 마크다운 기법 익혀보며, 나만의 블로그 페이지           꾸며보기\n",
      "8 강사가 실제 사용하는 자동 프로그램 소개\n",
      "9 필요한 프로그램 설치 시연\n",
      "10 데이터를 엑셀 파일로 만들기\n",
      "11 엑셀 파일 이쁘게! 이쁘게!\n",
      "12 나대신 주기적으로 파이썬 프로그램           실행하기\n",
      "13 파이썬으로 슬랙(slack) 메신저에 글쓰기\n",
      "14 웹사이트 변경사항 주기적으로 체크해서, 메신저로 알람주기\n",
      "15 네이버 API 사용해서, 블로그에 글쓰기\n",
      "16 자동으로 쿠팡파트너스 API 로 가져온 상품 정보, 네이버           블로그/트위터에 홍보하기\n"
     ]
    }
   ],
   "source": [
    "import requests\n",
    "from bs4 import BeautifulSoup\n",
    "\n",
    "res = requests.get(\"https://crawlingtest.netlify.app/\")\n",
    "soup = BeautifulSoup(res.content, \"html.parser\")\n",
    "\n",
    "section = soup.find_all(\"li\", class_=\"course\")\n",
    "for index, title in enumerate(section) :\n",
    "    #print(title.get_text().split(\"-\")[1])\n",
    "    #print(repr(title.get_text().split(\"-\")[1])) #[-1]도 가능해요~, #repr 레프레젠트 함수는 왜 줄바꿈이 되었는가 확인 할 시 사용 함수\n",
    "    #print(repr(title.get_text().split(\"-\")[1])).replace(\"\\n\",\" \").replace(\" \",\"\").strip()\n",
    "    print(index +1,title.get_text().split(\"-\")[-1].replace(\"\\n\", \" \").replace(\" \", \" \").split(\"[\")[0].strip())\n"
   ]
  }
 ],
 "metadata": {
  "kernelspec": {
   "display_name": "Python [conda env:base] *",
   "language": "python",
   "name": "conda-base-py"
  },
  "language_info": {
   "codemirror_mode": {
    "name": "ipython",
    "version": 3
   },
   "file_extension": ".py",
   "mimetype": "text/x-python",
   "name": "python",
   "nbconvert_exporter": "python",
   "pygments_lexer": "ipython3",
   "version": "3.13.5"
  }
 },
 "nbformat": 4,
 "nbformat_minor": 5
}
