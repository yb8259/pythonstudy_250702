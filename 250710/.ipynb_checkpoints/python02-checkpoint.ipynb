{
 "cells": [
  {
   "cell_type": "code",
   "execution_count": 5,
   "id": "8af02df7-3ff7-4c20-874a-67d79c21c589",
   "metadata": {},
   "outputs": [
    {
     "name": "stdout",
     "output_type": "stream",
     "text": [
      "\n",
      "(왕초보) - 클래스 소개\n",
      "\n",
      "\n",
      "(왕초보) - 블로그 개발 필요한 준비물 준비하기\n",
      "\n",
      "\n",
      "(왕초보) - Github pages 설정해서 블로그 첫 페이지 만들어보기\n",
      "\n",
      "\n",
      "(왕초보) - 초간단 페이지 만들어보기\n",
      "\n",
      "\n",
      "(왕초보) - 이쁘게 테마 적용해보기\n",
      "\n",
      "\n",
      "(왕초보) - 마크다운 기초 이해하고, 실제 나만의 블로그 페이지\n",
      "          만들기\n",
      "\n",
      "\n",
      "(왕초보) - 다양한 마크다운 기법 익혀보며, 나만의 블로그 페이지\n",
      "          꾸며보기\n",
      "\n",
      "\n",
      "(초급) - 강사가 실제 사용하는 자동 프로그램 소개 [2]\n",
      "\n",
      "\n",
      "(초급) - 필요한 프로그램 설치 시연 [5]\n",
      "\n",
      "\n",
      "(초급) - 데이터를 엑셀 파일로 만들기 [9]\n",
      "\n",
      "\n",
      "(초급) -     엑셀 파일 이쁘게! 이쁘게! [8]\n",
      "\n",
      "\n",
      "(초급) -     나대신 주기적으로 파이썬 프로그램\n",
      "          실행하기 [7]\n",
      "\n",
      "\n",
      "(초급) - 파이썬으로 슬랙(slack) 메신저에 글쓰기 [40]\n",
      "\n",
      "\n",
      "(초급) - 웹사이트 변경사항 주기적으로 체크해서, 메신저로 알람주기\n",
      "          [12]\n",
      "\n",
      "\n",
      "(초급) - 네이버 API 사용해서, 블로그에 글쓰기 [42]\n",
      "\n",
      "\n",
      "(중급) - 자동으로 쿠팡파트너스 API 로 가져온 상품 정보, 네이버\n",
      "          블로그/트위터에 홍보하기 [412]\n",
      "\n"
     ]
    }
   ],
   "source": [
    "import requests\n",
    "from bs4 import BeautifulSoup\n",
    "\n",
    "res = requests.get(\"https://crawlingtest.netlify.app/\")\n",
    "soup = BeautifulSoup(res.content, \"html.parser\")\n",
    "\n",
    "items = soup.select(\"li\") # select 는 단일 태그 말고 > 를 사용 하면서 직계자식 표현, 선택자로 일컬음..?\n",
    "for item in items :\n",
    "    print(item.get_text())"
   ]
  },
  {
   "cell_type": "code",
   "execution_count": 11,
   "id": "7794b637-5033-47bc-8c9f-79953f471319",
   "metadata": {},
   "outputs": [
    {
     "name": "stdout",
     "output_type": "stream",
     "text": [
      "'나만의 엣지있는 블로그 사이트 만들기'\n",
      "'당신의 커리어에 파이썬을 입히세요! 자신만의 자동 프로그램까지 가져가는       특별한 강의'\n"
     ]
    }
   ],
   "source": [
    "import requests\n",
    "from bs4 import BeautifulSoup\n",
    "\n",
    "res = requests.get(\"https://crawlingtest.netlify.app/\")\n",
    "soup = BeautifulSoup(res.content, \"html.parser\")\n",
    "\n",
    "items = soup.select(\"h3\") # select 는 단일 태그 말고 > 를 사용 하면서 직계자식 표현, 선택자로 일컬음..?\n",
    "for item in items :\n",
    "    print(repr(item.get_text().replace(\"\\n\", \" \").replace(\" \",\" \").strip()))"
   ]
  },
  {
   "cell_type": "code",
   "execution_count": 16,
   "id": "f43bf901-62f6-42e6-9a6e-864e46a1c892",
   "metadata": {},
   "outputs": [
    {
     "data": {
      "text/plain": [
       "[<h1>메가스터디 크롤링 테스트 페이지</h1>]"
      ]
     },
     "execution_count": 16,
     "metadata": {},
     "output_type": "execute_result"
    }
   ],
   "source": [
    "import requests\n",
    "from bs4 import BeautifulSoup\n",
    "\n",
    "res = requests.get(\"https://crawlingtest.netlify.app/\")\n",
    "soup = BeautifulSoup(res.content, \"html.parser\")\n",
    "\n",
    "#items = soup.select(\"html > body > h1\") # html 문서 안에 body 하나밖에 못씀 굳이 html 쓰지 않아도 됨. 과함.\n",
    "items = soup.select(\" body > h1\")\n",
    "items"
   ]
  },
  {
   "cell_type": "code",
   "execution_count": 24,
   "id": "29890eb2-e044-43cb-9fd5-48d14f5048e4",
   "metadata": {},
   "outputs": [
    {
     "name": "stdout",
     "output_type": "stream",
     "text": [
      "[<li class=\"course\">\n",
      "<a href=\"#\">(왕초보) - 클래스 소개</a>\n",
      "</li>, <li class=\"course\">\n",
      "<a href=\"#\">(왕초보) - 블로그 개발 필요한 준비물 준비하기</a>\n",
      "</li>, <li class=\"course\">\n",
      "<a href=\"#\">(왕초보) - Github pages 설정해서 블로그 첫 페이지 만들어보기</a>\n",
      "</li>, <li class=\"course\">\n",
      "<a href=\"#\">(왕초보) - 초간단 페이지 만들어보기</a>\n",
      "</li>, <li class=\"course\">\n",
      "<a href=\"#\">(왕초보) - 이쁘게 테마 적용해보기</a>\n",
      "</li>, <li class=\"course\">\n",
      "<a href=\"#\">(왕초보) - 마크다운 기초 이해하고, 실제 나만의 블로그 페이지\n",
      "          만들기</a>\n",
      "</li>, <li class=\"course\">\n",
      "<a href=\"#\">(왕초보) - 다양한 마크다운 기법 익혀보며, 나만의 블로그 페이지\n",
      "          꾸며보기</a>\n",
      "</li>]\n"
     ]
    }
   ],
   "source": [
    "import requests\n",
    "from bs4 import BeautifulSoup\n",
    "\n",
    "res = requests.get(\"https://crawlingtest.netlify.app/\")\n",
    "soup = BeautifulSoup(res.content, \"html.parser\")\n",
    "\n",
    "items = soup.select(\"#hobby_course_list .course\") #이건 중첩태그일시 ul 안에 모든 li들을 찾아올 수 있기 때문에 > 표시로 구체적 구분 해주자!\n",
    "#select(.course) # class 는 온점 찍기, #은 해쉬# id\n",
    "print(items)"
   ]
  },
  {
   "cell_type": "code",
   "execution_count": 38,
   "id": "0c1faa77-ad3c-4a51-a0e5-58264f26ccc8",
   "metadata": {},
   "outputs": [
    {
     "data": {
      "text/plain": [
       "<li class=\"course\" id=\"specialad\">\n",
       "<a href=\"#\">(왕초보) - 클래스 소개</a>\n",
       "</li>"
      ]
     },
     "execution_count": 38,
     "metadata": {},
     "output_type": "execute_result"
    }
   ],
   "source": [
    "import requests\n",
    "from bs4 import BeautifulSoup\n",
    "\n",
    "res = requests.get(\"https://crawlingtest.netlify.app/\")\n",
    "soup = BeautifulSoup(res.content, \"html.parser\") # 아이디는 단일, 클래스는 중복\n",
    "\n",
    "#items = soup.select(\".course#specialad\")\n",
    "#items = soup.select(\".course.maintitle\")\n",
    "#items = soup.select(\"body #hobby_course_list > .course#specialad\") # -> 경로기준, 자세히\n",
    "items = soup.select_one(\"#specialad\") # copy -> copy selector\n",
    "items"
   ]
  },
  {
   "cell_type": "code",
   "execution_count": 51,
   "id": "8f5025e1-3581-49a2-8e66-b0b650e2b017",
   "metadata": {},
   "outputs": [
    {
     "name": "stdout",
     "output_type": "stream",
     "text": [
      "<td>일정</td>\n",
      "<td>커리큘럼 타이틀</td>\n",
      "<td>난이도</td>\n",
      "<td>5.1 ~ 6.15</td>\n",
      "<td>나만의 엣지있는 블로그 사이트 만들기 (취미로 익히는 IT)</td>\n",
      "<td>초급</td>\n",
      "<td>6.16 ~ 7.31</td>\n",
      "<td>파이썬과 데이터과학 첫걸음 (IT 기본기 익히기)</td>\n",
      "<td>중급</td>\n"
     ]
    }
   ],
   "source": [
    "import requests\n",
    "from bs4 import BeautifulSoup\n",
    "\n",
    "res = requests.get(\"https://crawlingtest.netlify.app/\")\n",
    "soup = BeautifulSoup(res.content, \"html.parser\") \n",
    "\n",
    "trs = soup.select(\"tr\")\n",
    "# for tr in trs :\n",
    "#     tds = tr.select(\"td\")\n",
    "#     for td in tds :\n",
    "#         print(td.get_text())\n",
    "   \n",
    "for tr in trs : \n",
    "    tds = tr.find_all(\"td\")\n",
    "    for td in tds :\n",
    "        print(td)"
   ]
  },
  {
   "cell_type": "code",
   "execution_count": 56,
   "id": "ac2ef5ac-136a-4a18-bf6a-1a2f07b7b0ca",
   "metadata": {},
   "outputs": [
    {
     "name": "stdout",
     "output_type": "stream",
     "text": [
      " 일정 / 커리큘럼 타이틀 / 난이도\n",
      " 5.1 ~ 6.15 / 나만의 엣지있는 블로그 사이트 만들기 (취미로 익히는 IT) / 초급\n",
      " 6.16 ~ 7.31 / 파이썬과 데이터과학 첫걸음 (IT 기본기 익히기) / 중급\n"
     ]
    }
   ],
   "source": [
    "import requests\n",
    "from bs4 import BeautifulSoup\n",
    "\n",
    "res = requests.get(\"https://crawlingtest.netlify.app/\")\n",
    "soup = BeautifulSoup(res.content, \"html.parser\") \n",
    "\n",
    "trs = soup.select(\"tr\")\n",
    "# for tr in trs :\n",
    "#     tds = tr.select(\"td\")\n",
    "#     for td in tds :\n",
    "#         print(td.get_text())\n",
    "   \n",
    "for tr in trs : \n",
    "    tds = tr.find_all(\"td\")\n",
    "    row_str = \"\"\n",
    "    for td in tds :\n",
    "        row_str +=f\" / {td.get_text()}\"\n",
    "    print(row_str[2:])"
   ]
  },
  {
   "cell_type": "code",
   "execution_count": 60,
   "id": "a878d5fd-2971-4c10-b997-289cfd2a9bf3",
   "metadata": {},
   "outputs": [
    {
     "name": "stdout",
     "output_type": "stream",
     "text": [
      "[<tr>\n",
      "<td>일정</td>\n",
      "<td>커리큘럼 타이틀</td>\n",
      "<td>난이도</td>\n",
      "</tr>, <tr>\n",
      "<td>5.1 ~ 6.15</td>\n",
      "<td>나만의 엣지있는 블로그 사이트 만들기 (취미로 익히는 IT)</td>\n",
      "<td>초급</td>\n",
      "</tr>, <tr>\n",
      "<td>6.16 ~ 7.31</td>\n",
      "<td>파이썬과 데이터과학 첫걸음 (IT 기본기 익히기)</td>\n",
      "<td>중급</td>\n",
      "</tr>]\n",
      "<tr>\n",
      "<td>일정</td>\n",
      "<td>커리큘럼 타이틀</td>\n",
      "<td>난이도</td>\n",
      "</tr>\n",
      "<tr>\n",
      "<td>5.1 ~ 6.15</td>\n",
      "<td>나만의 엣지있는 블로그 사이트 만들기 (취미로 익히는 IT)</td>\n",
      "<td>초급</td>\n",
      "</tr>\n",
      "<tr>\n",
      "<td>6.16 ~ 7.31</td>\n",
      "<td>파이썬과 데이터과학 첫걸음 (IT 기본기 익히기)</td>\n",
      "<td>중급</td>\n",
      "</tr>\n"
     ]
    }
   ],
   "source": [
    "#다시보기\n",
    "\n",
    "import requests\n",
    "from bs4 import BeautifulSoup\n",
    "\n",
    "res = requests.get(\"https://crawlingtest.netlify.app/\")\n",
    "soup = BeautifulSoup(res.content, \"html.parser\") \n",
    "\n",
    "trs = soup.select(\"tr\")\n",
    "print(trs)\n",
    "for tr in trs : \n",
    "    tds = tr.find_all(\"td\")\n",
    "    print(tr)"
   ]
  }
 ],
 "metadata": {
  "kernelspec": {
   "display_name": "Python [conda env:base] *",
   "language": "python",
   "name": "conda-base-py"
  },
  "language_info": {
   "codemirror_mode": {
    "name": "ipython",
    "version": 3
   },
   "file_extension": ".py",
   "mimetype": "text/x-python",
   "name": "python",
   "nbconvert_exporter": "python",
   "pygments_lexer": "ipython3",
   "version": "3.13.5"
  }
 },
 "nbformat": 4,
 "nbformat_minor": 5
}
