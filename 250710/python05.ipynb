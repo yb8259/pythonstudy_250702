{
 "cells": [
  {
   "cell_type": "code",
   "execution_count": 1,
   "id": "0ddbc84c-5386-4949-89a2-bbe0d968cc1b",
   "metadata": {},
   "outputs": [
    {
     "name": "stdout",
     "output_type": "stream",
     "text": [
      "Requirement already satisfied: openpyxl in c:\\users\\user\\anaconda3\\lib\\site-packages (3.1.5)\n",
      "Requirement already satisfied: et-xmlfile in c:\\users\\user\\anaconda3\\lib\\site-packages (from openpyxl) (1.1.0)\n"
     ]
    }
   ],
   "source": [
    "!pip install openpyxl"
   ]
  },
  {
   "cell_type": "code",
   "execution_count": null,
   "id": "e4a425b4-5091-4c67-a971-082639a970a7",
   "metadata": {},
   "outputs": [],
   "source": [
    "# openpyxl 라이브러리 찾아오기\n",
    "import openpyxl\n",
    "\n",
    "# Workbook() 프로토타입 객체를 실행시켜서 하나의 엑셀파일을 생성하겠다는 의미\n",
    "excel_file = openpyxl.Workbook() #프로토타입 객체 , workbook 은 class. 객체는 속성과 함수 존재\n",
    "\n",
    "# 엑셀파일 내부에는 기본적으로 sheet가 1개 존재 => 해당 시트를 선택 (*active)\n",
    "excel_sheet = excel_file.active\n",
    "\n",
    "# 선택한 엑셀시트 내부에 데이터 추가 및 삽입하기\n",
    "excel_sheet.append([\"data1\",\"data2\",\"data3\"])\n",
    "\n",
    "# 엑셀파일 저장하기\n",
    "excel_file.save(tmp.xlsx)\n",
    "\n",
    "# 엑셀파일 종료하기\n",
    "excel_file.close()"
   ]
  },
  {
   "cell_type": "code",
   "execution_count": 31,
   "id": "0e5090ce-6fb1-4f21-8a31-bba6715b4544",
   "metadata": {},
   "outputs": [],
   "source": [
    "# 1. 데이터 크롤링 파트\n",
    "\n",
    "import requests\n",
    "from bs4 import BeautifulSoup\n",
    "# 1) 데이터를 찾아와서 => for문\n",
    "# for data in datas :\n",
    "    #print(data), 블록 변수로 갇혀 있는 한 데이터를 못 보냄. 전역 변수로 바꿔야해..!!\n",
    "# 2) 찾아온 데이터를 데이터양식에 넣어놓고\n",
    "# 3) 엑셀에다가 전달해야 됨 \n",
    "url = \"https://davelee-fun.github.io/\"\n",
    "product_lists = list() \n",
    "\n",
    "for page_num in range(10) :\n",
    "    if page_num == 0 :\n",
    "        res = requests.get(url)\n",
    "    else : \n",
    "        res= requests.get(f\"{url}page-{page_num+1}\")\n",
    "    soup = BeautifulSoup(res.content, \"html.parser\")\n",
    "    datas =soup.select(\"div.card\")\n",
    "    for data in datas:\n",
    "        product_name = data.select_one(\"div.card-body > h4.card-text\") #자손선택\n",
    "        product_date = data.select_one(\"div.wrapfooter span.post-date\") #후손선택\n",
    "        product_info = [product_name.get_text().strip(), product_date.get_text().strip()] # => 실질적으로 표현할 땐 대괄호 []\n",
    "        product_lists.append(product_info)\n",
    "        \n",
    "# print(product_lists)"
   ]
  },
  {
   "cell_type": "code",
   "execution_count": 35,
   "id": "5bdd0181-1e69-460e-b7b3-525bb0bdab46",
   "metadata": {},
   "outputs": [],
   "source": [
    "# 2. 엑셀시트 저장용 함수생성 파트\n",
    "\n",
    "import openpyxl\n",
    "def write_excel_template(filename, sheetname, listdata) :\n",
    "    excel_file = openpyxl.Workbook()\n",
    "    excel_sheet = excel_file.active\n",
    "    excel_sheet.column_dimensions[\"A\"].width = 100 #열의 속성을 정의\n",
    "\n",
    "    if sheetname != \"\" :\n",
    "        excel_sheet.title = sheetname\n",
    "\n",
    "    for item in listdata :\n",
    "        excel_sheet.append(item)\n",
    "    excel_file.save(filename)\n",
    "    excel_file.close()"
   ]
  },
  {
   "cell_type": "code",
   "execution_count": 36,
   "id": "53a70824-1a83-4352-81f9-4fcb4bc3abee",
   "metadata": {},
   "outputs": [],
   "source": [
    "# 3. 엑셀시트 저장용 함수호출 파트\n",
    "write_excel_template(\"tmp.xlsx\", \"상품정보\", product_lists)"
   ]
  }
 ],
 "metadata": {
  "kernelspec": {
   "display_name": "Python [conda env:base] *",
   "language": "python",
   "name": "conda-base-py"
  },
  "language_info": {
   "codemirror_mode": {
    "name": "ipython",
    "version": 3
   },
   "file_extension": ".py",
   "mimetype": "text/x-python",
   "name": "python",
   "nbconvert_exporter": "python",
   "pygments_lexer": "ipython3",
   "version": "3.13.5"
  }
 },
 "nbformat": 4,
 "nbformat_minor": 5
}
